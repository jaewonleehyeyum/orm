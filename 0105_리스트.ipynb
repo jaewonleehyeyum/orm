{
  "nbformat": 4,
  "nbformat_minor": 0,
  "metadata": {
    "colab": {
      "provenance": [],
      "authorship_tag": "ABX9TyMS7uoFmOQfO3VfaVyT7fyo",
      "include_colab_link": true
    },
    "kernelspec": {
      "name": "python3",
      "display_name": "Python 3"
    },
    "language_info": {
      "name": "python"
    }
  },
  "cells": [
    {
      "cell_type": "markdown",
      "metadata": {
        "id": "view-in-github",
        "colab_type": "text"
      },
      "source": [
        "<a href=\"https://colab.research.google.com/github/jaewonleehyeyum/orm/blob/main/0105_%EB%A6%AC%EC%8A%A4%ED%8A%B8.ipynb\" target=\"_parent\"><img src=\"https://colab.research.google.com/assets/colab-badge.svg\" alt=\"Open In Colab\"/></a>"
      ]
    },
    {
      "cell_type": "code",
      "source": [
        "a = 10\n",
        "b = a\n",
        "c = b\n",
        "\n",
        "print(c)\n",
        "\n",
        "a = 10\n",
        "b = a\n",
        "c = b\n",
        "a = 20\n",
        "print(c)\n",
        "\n",
        "a = 10\n",
        "b = a\n",
        "print(c)\n",
        "\n",
        "a = 10\n",
        "b = a\n",
        "\n",
        "print(id(a))\n",
        "print(id(b))"
      ],
      "metadata": {
        "colab": {
          "base_uri": "https://localhost:8080/"
        },
        "id": "wBJ3czvNSqkT",
        "outputId": "b13f4707-995c-4fb1-f2bd-0acff61c71d7"
      },
      "execution_count": 110,
      "outputs": [
        {
          "output_type": "stream",
          "name": "stdout",
          "text": [
            "10\n",
            "10\n",
            "10\n",
            "136920549360144\n",
            "136920549360144\n"
          ]
        }
      ]
    },
    {
      "cell_type": "code",
      "source": [
        "# -5부터 256은 같습니다.\n",
        "a = 10\n",
        "b = 10\n",
        "\n",
        "print(id(a))\n",
        "print(id(b))\n",
        "print(a is b)\n",
        "\n",
        "\n",
        "a = 257\n",
        "b = 257\n",
        "\n",
        "print(id(a))\n",
        "print(id(b))\n",
        "print(a is b)"
      ],
      "metadata": {
        "colab": {
          "base_uri": "https://localhost:8080/"
        },
        "id": "oeXER_V9Thgo",
        "outputId": "dcf07035-b859-4f38-b948-4b256f68cb90"
      },
      "execution_count": 17,
      "outputs": [
        {
          "output_type": "stream",
          "name": "stdout",
          "text": [
            "136920549360144\n",
            "136920549360144\n",
            "True\n",
            "136919282213168\n",
            "136919282218288\n",
            "False\n"
          ]
        }
      ]
    },
    {
      "cell_type": "code",
      "execution_count": 2,
      "metadata": {
        "colab": {
          "base_uri": "https://localhost:8080/"
        },
        "id": "wH4dw_efCFhh",
        "outputId": "cf97363c-05bd-4f4d-fb99-8a6834d155b4"
      },
      "outputs": [
        {
          "output_type": "execute_result",
          "data": {
            "text/plain": [
              "0.30000000000000004"
            ]
          },
          "metadata": {},
          "execution_count": 2
        }
      ],
      "source": [
        "0.1 + 0.2 # 0.1이 2진수로 표현했을 때 무한소수입니다."
      ]
    },
    {
      "cell_type": "code",
      "source": [
        "# 회색 줄은 영문자 80자, 한글은 32자\n",
        "# PEP8, PEP20\n",
        "# 줄이 너무 길면 가독성이 떨어집니다.\n",
        "# Python 잘 하시는 분 보면 모든지 한 줄로 할려고 하는 분 만나는데\n",
        "# 이거 안좋은 습관입니다.\n",
        "\n",
        "print('hello worldhello worldhello worldhello worldhello worldhello worldhello worldhello world')\n",
        "\n",
        "# 해결책 1: 역슬러시 넣는 방법(저는 권고하지 않습니다!, 이스케이 문자랑 혼동될 수 있습니다.)\n",
        "print('hello worldhello worldhello worldhello worldhello worldhello worldhello \\\n",
        "worldhello world')\n",
        "print('hello world \\n hello world')\n",
        "\n",
        "# 해결책 2: 콤마를 찍지 않은 연결\n",
        "print('hello world' 'hello world')\n",
        "print('hello world'\n",
        "      'hello world')"
      ],
      "metadata": {
        "colab": {
          "base_uri": "https://localhost:8080/"
        },
        "id": "SOY7AAB5JbUz",
        "outputId": "0b53d5db-0347-4711-bb60-5762293c95aa"
      },
      "execution_count": 5,
      "outputs": [
        {
          "output_type": "stream",
          "name": "stdout",
          "text": [
            "hello worldhello worldhello worldhello worldhello worldhello worldhello worldhello world\n",
            "hello worldhello worldhello worldhello worldhello worldhello worldhello worldhello world\n",
            "None\n",
            "hello world \n",
            " hello world\n",
            "hello worldhello world\n",
            "hello worldhello world\n"
          ]
        }
      ]
    },
    {
      "cell_type": "code",
      "source": [
        "# 질문: 메서드 체인으로 길어지면 어떻게 하나요?\n",
        "# 답: 메서드 체인으로 80자 이상이면 이미 가독성에 문제가 있는 것입니다.\n",
        "# 메서드 체이닝을 3개 이상을 하길 권하지 않습니다.(가독성이 악화됩니다.)\n",
        "\n",
        "# 문제 있는 코드\n",
        "'hello world'.upper().split(' ').pop().lower() # 이렇게 코딩하시면 제가 Reject합니다.\n",
        "\n",
        "# 문제가 덜한 코드\n",
        "대문자 = 'hello world'.upper()\n",
        "잘린대문자 = 대문자.split(' ')\n",
        "\n",
        "# 허용함\n",
        "'hello world'.upper()\\\n",
        "    .split(' ')\\\n",
        "    .pop()\\\n",
        "    .lower()\n",
        "\n",
        "# 허용함\n",
        "'hello world'.upper()   .split(' ')   .pop()   .lower()\n",
        "\n",
        "# 허용하지 않음(\\n)\n",
        "# 'hello world'.upper()\n",
        "#     .split(' ')\n",
        "#     .pop()\n",
        "#     .lower()\n",
        "\n",
        "# 허용하지 않음(\\n)\n",
        "# 'hello world'.upper()\n",
        "# .split(' ')\n",
        "# .pop()\n",
        "# .lower()"
      ],
      "metadata": {
        "colab": {
          "base_uri": "https://localhost:8080/",
          "height": 35
        },
        "id": "Mj713hcxLA1K",
        "outputId": "43c846b7-7712-4843-a1e1-8bcf8f6da317"
      },
      "execution_count": 9,
      "outputs": [
        {
          "output_type": "execute_result",
          "data": {
            "text/plain": [
              "'world'"
            ],
            "application/vnd.google.colaboratory.intrinsic+json": {
              "type": "string"
            }
          },
          "metadata": {},
          "execution_count": 9
        }
      ]
    },
    {
      "cell_type": "code",
      "source": [
        "# 문자열 메서드\n",
        "dir('hello world') # 메서드, 매직메서드, (클래스 변수, 인스턴스 변수)\n",
        "\n",
        "# 문제1: find와 index 차이\n",
        "# 실무에서 사용하는 코드:\n",
        "\n",
        "if 'hello world'.find('hi'): # 실무에서 자주 나오는 오류! 이렇게 코딩하시면 안됩니다.\n",
        "    print('찾았다!')\n",
        "\n",
        "# 문제2 isdigit의 정체\n",
        "'123'.isdigit()\n",
        "'12h3'.isdigit()\n",
        "\n",
        "# 문제3 replace가 어디까지 변환하는지?\n",
        "'hello world hello world'.replace('hello', 'hi') # 모두 다 변환이 됩니다. 몇 개만 변환이 되는 것이 아닙니다.\n",
        "# 알아두셔야 할 사항: replace는 정규표현식이 안됩니다!\n",
        "# replace를 정규표현식을 사용하고 싶으면 re.sub를 사용해야 합니다.\n",
        "\n",
        "# 문제4 strip(공백제거)\n",
        "# 문제5 zfill(앞에 0으로 채워주는 것, 원하는 자릿수만큼, 시간이나 연도)"
      ],
      "metadata": {
        "colab": {
          "base_uri": "https://localhost:8080/",
          "height": 53
        },
        "id": "uvm7V5KuLz_7",
        "outputId": "0028584e-ac34-4620-bcea-369d1c9463a9"
      },
      "execution_count": 13,
      "outputs": [
        {
          "output_type": "stream",
          "name": "stdout",
          "text": [
            "찾았다!\n"
          ]
        },
        {
          "output_type": "execute_result",
          "data": {
            "text/plain": [
              "'hi world hi world'"
            ],
            "application/vnd.google.colaboratory.intrinsic+json": {
              "type": "string"
            }
          },
          "metadata": {},
          "execution_count": 13
        }
      ]
    },
    {
      "cell_type": "markdown",
      "source": [
        "# 리스트\n",
        "* 변경이 가능한 자료형\n",
        "* 순서가 있는 자료형(시퀀스형 자료형, 인덱싱, 슬라이싱)\n"
      ],
      "metadata": {
        "id": "KIlii68LPZi1"
      }
    },
    {
      "cell_type": "code",
      "source": [
        "l = [10, 20, 30]\n",
        "\n",
        "# 라인 수가 길어졌을 때에는 이렇게 사용하시길 권합니다.\n",
        "# 권고1\n",
        "l = [10,\n",
        "     20,\n",
        "     30] # 됩니다!\n",
        "\n",
        "l = [\n",
        "    10,\n",
        "    20,\n",
        "    30\n",
        "] # 됩니다!\n",
        "\n",
        "# 권고2 (이렇게 실무에서 더 많이 사용합니다.)\n",
        "l = [\n",
        "    10,\n",
        "    20,\n",
        "    30,\n",
        "]\n",
        "# 문제가 있습니다! 통신을 할 때에는 JSON이라는 형식을 사용하게 되는데\n",
        "# JSON은 마지막에 콤마를 허용하지 않습니다!\n",
        "\n",
        "# why? 문제가 있는 2번이 더 많이 사용되는 이유?\n",
        "# 실무에서는 콤마를 버전업으로 인식하는 경우도 많고,\n",
        "# 콤마를 빼먹는 경우가 많습니다.\n",
        "# 편의성: Ctrl + C, Ctrl + V하기가 편합니다.\n",
        "# 자동 변환 SW를 사용합니다.(python black formatter) => 권고!!!"
      ],
      "metadata": {
        "id": "C0T6zF_iMW9T"
      },
      "execution_count": null,
      "outputs": []
    },
    {
      "cell_type": "code",
      "source": [
        "l = [10, 20, 30]\n",
        "l[2]"
      ],
      "metadata": {
        "id": "ULa68F6wSmvr"
      },
      "execution_count": null,
      "outputs": []
    },
    {
      "cell_type": "code",
      "source": [
        "# str은 안됩니다!\n",
        "s = 'hello world'\n",
        "# s[0] = 'y'\n",
        "\n",
        "print(s.replace('h', 'y'))\n",
        "print(s)"
      ],
      "metadata": {
        "colab": {
          "base_uri": "https://localhost:8080/",
          "height": 35
        },
        "id": "bTG7uwyxgdQB",
        "outputId": "ce9d2b88-1be0-4340-cbbf-436e1897656f"
      },
      "execution_count": 20,
      "outputs": [
        {
          "output_type": "execute_result",
          "data": {
            "text/plain": [
              "'sort'"
            ],
            "application/vnd.google.colaboratory.intrinsic+json": {
              "type": "string"
            }
          },
          "metadata": {},
          "execution_count": 20
        }
      ]
    },
    {
      "cell_type": "code",
      "source": [
        "# 정답1\n",
        "s = s.replace('h', 'y')\n",
        "\n",
        "# 정답2\n",
        "s = 'y' + s[1:] # 신경써야 하나요? black formatter에서 자동으로 해줍니다. 나중에는 익숙해지니 너무 걱정하지 마세요."
      ],
      "metadata": {
        "colab": {
          "base_uri": "https://localhost:8080/"
        },
        "id": "uyR-nHxwgf_G",
        "outputId": "685f3737-a21b-4f48-881a-95e01e00400a"
      },
      "execution_count": 21,
      "outputs": [
        {
          "output_type": "execute_result",
          "data": {
            "text/plain": [
              "[10, 20, 30, 100]"
            ]
          },
          "metadata": {},
          "execution_count": 21
        }
      ]
    },
    {
      "cell_type": "code",
      "source": [
        "l = [10, 20, 30]\n",
        "l[2] = 1000\n",
        "print(l)"
      ],
      "metadata": {
        "colab": {
          "base_uri": "https://localhost:8080/"
        },
        "id": "WNEqKagzg1fe",
        "outputId": "a32ccea3-93f1-4871-d6db-c51d3f26f631"
      },
      "execution_count": 22,
      "outputs": [
        {
          "output_type": "execute_result",
          "data": {
            "text/plain": [
              "[999, 10000, 1000, 10, 20, 30, 100]"
            ]
          },
          "metadata": {},
          "execution_count": 22
        }
      ]
    },
    {
      "cell_type": "code",
      "source": [
        "l = [10, 20, 30, 40, 50]\n",
        "l[-1]\n",
        "l[-2:] # 마이너스 인덱싱, 마이너스 슬라이싱은 최종적으로 양수로 치환됩니다.\n",
        "l[3:]\n",
        "# 변수명[stop]\n",
        "# 변수명[start:stop]\n",
        "# 변수명[start:stop:step]"
      ],
      "metadata": {
        "colab": {
          "base_uri": "https://localhost:8080/"
        },
        "id": "PpRkYn7BhtD3",
        "outputId": "1eff4b55-8ca7-455d-93c4-a5b63de315ed"
      },
      "execution_count": 25,
      "outputs": [
        {
          "output_type": "execute_result",
          "data": {
            "text/plain": [
              "[10, 20, 30]"
            ]
          },
          "metadata": {},
          "execution_count": 25
        }
      ]
    },
    {
      "cell_type": "code",
      "source": [
        "type(l), dir(l)\n",
        "# type은 검색 키워드, GPT 질문 키워드가 될 수 있습니다.\n",
        "# dir은 대략적인 속성을 알 수 있습니다."
      ],
      "metadata": {
        "colab": {
          "base_uri": "https://localhost:8080/"
        },
        "id": "Zfzd7Bb_kXW9",
        "outputId": "c9519756-be86-42c3-db7c-8c5f32e80dab"
      },
      "execution_count": 26,
      "outputs": [
        {
          "output_type": "execute_result",
          "data": {
            "text/plain": [
              "[20, 30, 40]"
            ]
          },
          "metadata": {},
          "execution_count": 26
        }
      ]
    },
    {
      "cell_type": "code",
      "source": [
        "# __add__가 있으니 더하기는 어디까지 될까? => 테스트\n",
        "# __mul__이 있으니 곱하기는 어디까지 될까? => 테스트\n",
        "\n",
        "l = [10, 20, 30]\n",
        "# l + 100 # 정수 더하기는 안됩니다!\n",
        "l + [100]\n",
        "l + [100, 200]\n",
        "l * 3 # 정수 곱하기는 됩니다!\n",
        "# l * [1, 2] # 리스트 곱하기는 안됩니다."
      ],
      "metadata": {
        "colab": {
          "base_uri": "https://localhost:8080/"
        },
        "id": "6TZ2uzD7kn8f",
        "outputId": "33155241-d6ca-4b2e-b1c7-e7145dd8c498"
      },
      "execution_count": 27,
      "outputs": [
        {
          "output_type": "execute_result",
          "data": {
            "text/plain": [
              "[20, 30, 40]"
            ]
          },
          "metadata": {},
          "execution_count": 27
        }
      ]
    },
    {
      "cell_type": "code",
      "source": [
        "l = [1, 2, 3] * 3\n",
        "l[1] = 1000\n",
        "l"
      ],
      "metadata": {
        "colab": {
          "base_uri": "https://localhost:8080/"
        },
        "id": "b-poteo6k0us",
        "outputId": "359fe832-afbd-4a2e-b39e-7082187190dc"
      },
      "execution_count": 28,
      "outputs": [
        {
          "output_type": "execute_result",
          "data": {
            "text/plain": [
              "1"
            ]
          },
          "metadata": {},
          "execution_count": 28
        }
      ]
    },
    {
      "cell_type": "code",
      "source": [
        "# 리스트 곱하기는 매우 주의해야 합니다!\n",
        "# 곱하기가 2중으로 있을 때에는 나중에 배울 리스트컴프리헨션 사용해주세요!\n",
        "l = [[1, 2, 3] * 3] * 2\n",
        "l[1][0] = 1000\n",
        "l"
      ],
      "metadata": {
        "colab": {
          "base_uri": "https://localhost:8080/"
        },
        "id": "pukLDYJTlNeK",
        "outputId": "cbc85868-46fc-408a-f1cc-3d2764c1bd39"
      },
      "execution_count": 29,
      "outputs": [
        {
          "output_type": "execute_result",
          "data": {
            "text/plain": [
              "[]"
            ]
          },
          "metadata": {},
          "execution_count": 29
        }
      ]
    },
    {
      "cell_type": "code",
      "source": [
        "l[1][1] = 10000\n",
        "l"
      ],
      "metadata": {
        "colab": {
          "base_uri": "https://localhost:8080/"
        },
        "id": "28ZUYk2ulpyO",
        "outputId": "2cb7af9a-65ed-4d43-8bd0-59a19c10ee8f"
      },
      "execution_count": 30,
      "outputs": [
        {
          "output_type": "execute_result",
          "data": {
            "text/plain": [
              "[]"
            ]
          },
          "metadata": {},
          "execution_count": 30
        }
      ]
    },
    {
      "cell_type": "code",
      "source": [
        "# 암기해주세요.\n",
        "x = 10 # 스칼라\n",
        "x = [10] # 벡터\n",
        "x = [10, 20] # 벡터\n",
        "x = [[10, 20], [10, 20]] # 메트릭스(행렬)\n",
        "x = [[[10, 20], [10, 20]], [[10, 20], [10, 20]]] #텐서(3차원 이상 행렬)"
      ],
      "metadata": {
        "colab": {
          "base_uri": "https://localhost:8080/"
        },
        "id": "MLNkefP-l_Eo",
        "outputId": "319fd77f-c78d-4518-9281-23266ee1d993"
      },
      "execution_count": 34,
      "outputs": [
        {
          "output_type": "execute_result",
          "data": {
            "text/plain": [
              "True"
            ]
          },
          "metadata": {},
          "execution_count": 34
        }
      ]
    },
    {
      "cell_type": "code",
      "source": [
        "# 텐서플로? google에서 만든 딥러닝 라이브러리\n",
        "# 인공지능 => 행렬의 연산"
      ],
      "metadata": {
        "colab": {
          "base_uri": "https://localhost:8080/"
        },
        "id": "EbDCN8vqmPaL",
        "outputId": "b963f8bc-743c-48c8-a480-4088fc5b261c"
      },
      "execution_count": 35,
      "outputs": [
        {
          "output_type": "execute_result",
          "data": {
            "text/plain": [
              "False"
            ]
          },
          "metadata": {},
          "execution_count": 35
        }
      ]
    },
    {
      "cell_type": "code",
      "source": [
        "x = [[1, 2], [3, 4], [5, 6]]\n",
        "x[1]\n",
        "x[1][1]"
      ],
      "metadata": {
        "colab": {
          "base_uri": "https://localhost:8080/"
        },
        "id": "wjiKVyNfm-p5",
        "outputId": "803af113-c357-4222-91ed-1eb846e9aafe"
      },
      "execution_count": 36,
      "outputs": [
        {
          "output_type": "execute_result",
          "data": {
            "text/plain": [
              "3"
            ]
          },
          "metadata": {},
          "execution_count": 36
        }
      ]
    },
    {
      "cell_type": "code",
      "source": [
        "# Ctrl + Alt + 화살표 위나 아래, `print(` 입력했고, end버튼 눌렀고, `)` 입력했습니다.\n",
        "x = [[1, 2], [3, 'hello world'], [5, 6]]\n",
        "print(x[1])\n",
        "print(x[1][1])\n",
        "print(x[1][1][6:])"
      ],
      "metadata": {
        "id": "EX0YeQUhnFDT"
      },
      "execution_count": null,
      "outputs": []
    },
    {
      "cell_type": "code",
      "source": [
        "x = 10\n",
        "\n",
        "# 다르다는 것만 인지해주세요!\n",
        "# print를 하는 것과 맨 마지막 출력하는 것은 다릅니다!\n",
        "print(x) # __str__\n",
        "x # __repr__"
      ],
      "metadata": {
        "id": "pRBypFl-lBlt"
      },
      "execution_count": null,
      "outputs": []
    },
    {
      "cell_type": "code",
      "source": [
        "# Python > 자료형 > list > 메서드\n",
        "\n",
        "l = [10, 20, 30]\n",
        "dir(l)\n",
        "\n",
        "# Shift + Tab\n",
        "# Ctrl + [, Ctrl + ]\n",
        "'append',\n",
        "'clear',\n",
        "'copy',\n",
        "'count',\n",
        "'extend',\n",
        "'index',\n",
        "'insert',\n",
        "'pop',\n",
        "'remove',\n",
        "'reverse',\n",
        "'sort'"
      ],
      "metadata": {
        "id": "nrjFJUcnggAG"
      },
      "execution_count": null,
      "outputs": []
    },
    {
      "cell_type": "code",
      "source": [
        "l.append(100)\n",
        "l"
      ],
      "metadata": {
        "id": "1TE0thLAgj_G"
      },
      "execution_count": null,
      "outputs": []
    },
    {
      "cell_type": "code",
      "source": [
        "# 앞에다 넣는 방법 1\n",
        "l = [1000] + l\n",
        "\n",
        "# 앞에다 넣는 방법 2\n",
        "x = 10000\n",
        "l = [x] + l[:]\n",
        "\n",
        "# 앞에다 넣는 방법 3\n",
        "l.insert(0, 999)\n",
        "l"
      ],
      "metadata": {
        "id": "6Qroj4M0gma9"
      },
      "execution_count": null,
      "outputs": []
    },
    {
      "cell_type": "code",
      "source": [
        "l = [10, 20, 30, 40]\n",
        "l.pop() # 뒤에서 값을 꺼내는 방법\n",
        "l"
      ],
      "metadata": {
        "id": "f-aJea86goF8"
      },
      "execution_count": null,
      "outputs": []
    },
    {
      "cell_type": "code",
      "source": [
        "l = [10, 20, 30, 40]\n",
        "l.pop(0) # 앞에서 값을 꺼내는 방법\n",
        "l"
      ],
      "metadata": {
        "id": "dvx5avY0gpXV"
      },
      "execution_count": null,
      "outputs": []
    },
    {
      "cell_type": "code",
      "source": [
        "l = [10, 20, 30, 40]\n",
        "l[:-1] # l = l[:-1]\n",
        "l[1:] # l = l[1:]"
      ],
      "metadata": {
        "id": "X289KkfUgquS"
      },
      "execution_count": null,
      "outputs": []
    },
    {
      "cell_type": "code",
      "source": [
        "l = [10, 20, 30, 40]\n",
        "l.index(20)"
      ],
      "metadata": {
        "id": "YJYfSB0vgsZt"
      },
      "execution_count": null,
      "outputs": []
    },
    {
      "cell_type": "code",
      "source": [
        "# keep\n",
        "# index가 애러가 납니다. error 없이 코드를 짜고 싶어요.\n",
        "# 슬라이싱을 사용합니다. => 슬라이싱은 index가 벗어나더라도 애러가 나지 않습니다.\n",
        "\n",
        "l = [10, 20, 30, 40]\n",
        "l[100:101]"
      ],
      "metadata": {
        "id": "NHU_80R0gtto"
      },
      "execution_count": null,
      "outputs": []
    },
    {
      "cell_type": "code",
      "source": [
        "l = [10, 20, 30, 40]\n",
        "l.clear()\n",
        "l"
      ],
      "metadata": {
        "id": "vmk4cx-Zgy5D"
      },
      "execution_count": null,
      "outputs": []
    },
    {
      "cell_type": "code",
      "source": [
        "l = [10, 20, 30, 40]\n",
        "ll = l\n",
        "\n",
        "l[0] = 1000\n",
        "ll\n",
        "\n",
        "id(l), id(ll)\n",
        "l is ll"
      ],
      "metadata": {
        "id": "KJXUT27agzXF"
      },
      "execution_count": null,
      "outputs": []
    },
    {
      "cell_type": "code",
      "source": [
        "l = [10, 20, 30, 40]\n",
        "ll = l[:] # 얕은 복사와 깊은 복사가 있는데 이 개념은 뒤에서 알려드립니다.\n",
        "\n",
        "l[0] = 1000\n",
        "l, ll"
      ],
      "metadata": {
        "id": "PZB-WoM8g1rK"
      },
      "execution_count": null,
      "outputs": []
    },
    {
      "cell_type": "code",
      "source": [
        "l = [1, 1, 1, 2, 2, 2, 3, 3]\n",
        "l.count(1)"
      ],
      "metadata": {
        "id": "FPLaPrNWg2Lc"
      },
      "execution_count": null,
      "outputs": []
    },
    {
      "cell_type": "code",
      "source": [
        "l = ['1', '1', 1, 2, 2, 2, 3, 3]\n",
        "l.count(1)"
      ],
      "metadata": {
        "id": "LkykVTTfg51J"
      },
      "execution_count": null,
      "outputs": []
    },
    {
      "cell_type": "code",
      "source": [
        "# 분위기 환기차 해드리는 것입니다.\n",
        "# 이해하지 못하셔도 괜찮습니다.\n",
        "# https://codingdojang.com/scode/393?answer_mode=hide\n",
        "str([1, 2, 3, 4, 5, 6, 7, 8, 9, 10, 11, 12, 13, 14, 15]).count('1')\n",
        "# str(1부터_10000까지_리스트).count('8')\n",
        "list(range(10))\n",
        "str(list(range(20)))\n",
        "str(list(range(20))).count('8')"
      ],
      "metadata": {
        "colab": {
          "base_uri": "https://localhost:8080/"
        },
        "id": "VyL3_mFYociX",
        "outputId": "4aae38fc-c825-454e-b104-4aa6a27f0310"
      },
      "execution_count": 38,
      "outputs": [
        {
          "output_type": "execute_result",
          "data": {
            "text/plain": [
              "[0, 1, 2, 3, 4, 5, 6, 7, 8, 9]"
            ]
          },
          "metadata": {},
          "execution_count": 38
        }
      ]
    },
    {
      "cell_type": "code",
      "source": [
        "l = [10, 20, 30, 40]\n",
        "l.extend([50, 60])\n",
        "l"
      ],
      "metadata": {
        "id": "nobiQtiAd8iN"
      },
      "execution_count": null,
      "outputs": []
    },
    {
      "cell_type": "code",
      "source": [
        "l = [10, 20, 30, 40]\n",
        "l.append([50, 60]) # 이것만 기억하셔도 좋습니다. 이렇게 많이 사용합니다.\n",
        "l"
      ],
      "metadata": {
        "id": "tA7sNwXqd9v2"
      },
      "execution_count": null,
      "outputs": []
    },
    {
      "cell_type": "code",
      "source": [
        "l = [10, 20, 30, 40]\n",
        "l.extend('hello') # extend(보통리스트), extend(순회가능한객체)\n",
        "l"
      ],
      "metadata": {
        "id": "v2-vD-7Hd_Ty"
      },
      "execution_count": null,
      "outputs": []
    },
    {
      "cell_type": "code",
      "source": [
        "l = [1, 1, 1, 1, 2, 2, 3, 3, 3]\n",
        "l.remove(1) # 한가지 요소를 지울 때 사용\n",
        "l"
      ],
      "metadata": {
        "id": "T4jxZMtNeAEj"
      },
      "execution_count": null,
      "outputs": []
    },
    {
      "cell_type": "code",
      "source": [
        "# 이해하지 않으셔도 됩니다.\n",
        "# 여기서 catch해야할 포인트는 모든 요소를 filtering하고 싶을 때에는\n",
        "# remove가 아니라 filter라는 것을 사용한다!\n",
        "def f(x):\n",
        "    return x != 1\n",
        "\n",
        "l = [1, 1, 1, 1, 2, 2, 3, 3, 3]\n",
        "list(filter(f, l))"
      ],
      "metadata": {
        "id": "B0U9o7nXeBel"
      },
      "execution_count": null,
      "outputs": []
    },
    {
      "cell_type": "code",
      "source": [
        "l = [1, 2, 3, 4, 9, 5, 6, 7]\n",
        "l.reverse()\n",
        "l # 역정렬은 아닙니다. # 원본이 변합니다.(입력된 원본은 대부분 보존하려 노력합니다.)\n",
        "\n",
        "# 역순은 단순히 순서를 뒤집는 것이고\n",
        "# 역 정렬은 정렬의 역순입니다."
      ],
      "metadata": {
        "id": "9OhNErUteCnE"
      },
      "execution_count": null,
      "outputs": []
    },
    {
      "cell_type": "code",
      "source": [
        "# reversed는 잊으셔도 됩니다. l.reverse만 기억하세요.\n",
        "l = [1, 2, 3, 4, 9, 5, 6, 7]\n",
        "list(reversed(l)) # reversed는 원본을 변경하지 않습니다."
      ],
      "metadata": {
        "id": "dyTn4beVeD8m"
      },
      "execution_count": null,
      "outputs": []
    },
    {
      "cell_type": "code",
      "source": [
        "l = [1, 2, 3, 4, 9, 5, 6, 7]\n",
        "l.sort()\n",
        "l # 원본을 바꾸는 정렬"
      ],
      "metadata": {
        "id": "mRfJQW-OeFh_"
      },
      "execution_count": null,
      "outputs": []
    },
    {
      "cell_type": "code",
      "source": [
        "l = [1, 2, 3, 4, 9, 5, 6, 7]\n",
        "l.sort()\n",
        "l.reverse()\n",
        "l # 원본을 바꾸는 역정렬"
      ],
      "metadata": {
        "id": "wqFYd_-LeG4T"
      },
      "execution_count": null,
      "outputs": []
    },
    {
      "cell_type": "code",
      "source": [
        "# sorted는 잊으셔도 됩니다. l.sort만 기억하세요.\n",
        "l = [1, 2, 3, 4, 9, 5, 6, 7]\n",
        "sorted(l) # sorted 원본을 변경하지 않습니다."
      ],
      "metadata": {
        "id": "TsAI6ftgeIKj"
      },
      "execution_count": null,
      "outputs": []
    },
    {
      "cell_type": "code",
      "source": [
        "# sort, sorted, reverse, reversed 알고리즘 문제에서도 1개 문제는 거의 나온다고 보시면 됩니다.\n",
        "# 옵션 값은 하지 않았습니다.\n",
        "# 옵션 값을 하지 않은 이유 : 함수까지는 배우셔야 좀 더 고급 문법이 가능합니다."
      ],
      "metadata": {
        "id": "HWi0sRjQeJub"
      },
      "execution_count": null,
      "outputs": []
    },
    {
      "cell_type": "code",
      "source": [
        "# 어떻게 사용되는지만 체크! (뒤에서 다시 하겠습니다.)\n",
        "# 국어 점수가 가장 높은 순으로 정렬해주세요.\n",
        "# 국, 영, 수, 이름\n",
        "s = [[100, 87, 91, '이호준'], [56, 38, 89, '이준호'], [33, 86, 100, '홍길동']]\n",
        "\n",
        "def f(x):\n",
        "    return x[0]\n",
        "\n",
        "sorted(s, key=f)\n",
        "sorted(s, key=f, reverse=True)"
      ],
      "metadata": {
        "id": "zaVVZdbdeLhp"
      },
      "execution_count": null,
      "outputs": []
    },
    {
      "cell_type": "code",
      "source": [
        "# 평균 점수가 가장 높은 순으로 정렬해주세요.\n",
        "s = [[100, 87, 91, '이호준'], [56, 38, 89, '이준호'], [33, 86, 100, '홍길동']]\n",
        "\n",
        "def f(x):\n",
        "    return x[0] + x[1] + x[2]\n",
        "\n",
        "sorted(s, key=f)\n",
        "sorted(s, key=f, reverse=True)"
      ],
      "metadata": {
        "id": "Ob0TthjleM-D"
      },
      "execution_count": null,
      "outputs": []
    },
    {
      "cell_type": "markdown",
      "source": [
        "# 튜플\n",
        "* 순서가 있는 자료형입니다.(인덱싱, 슬라이싱)\n",
        "* 참조 변경 불가입니다.(값이 변경이 불가하다고 얘기하면 이것은 틀린 얘기입니다.)"
      ],
      "metadata": {
        "id": "nUb29DDuAKG1"
      }
    },
    {
      "cell_type": "code",
      "source": [
        "t = (10, 20, 30) # 소괄호"
      ],
      "metadata": {
        "id": "mTKoQRMqvHqL"
      },
      "execution_count": 58,
      "outputs": []
    },
    {
      "cell_type": "code",
      "source": [
        "t[0]"
      ],
      "metadata": {
        "colab": {
          "base_uri": "https://localhost:8080/"
        },
        "id": "2gKZ9GVyDAcW",
        "outputId": "a84631b8-0e80-49ba-9397-199358122865"
      },
      "execution_count": 59,
      "outputs": [
        {
          "output_type": "execute_result",
          "data": {
            "text/plain": [
              "10"
            ]
          },
          "metadata": {},
          "execution_count": 59
        }
      ]
    },
    {
      "cell_type": "code",
      "source": [
        "t[1:]"
      ],
      "metadata": {
        "id": "2wPzAGdhDBe2"
      },
      "execution_count": null,
      "outputs": []
    },
    {
      "cell_type": "code",
      "source": [
        "t[0] = 1000"
      ],
      "metadata": {
        "id": "1BjCxsIkeTdr"
      },
      "execution_count": null,
      "outputs": []
    },
    {
      "cell_type": "code",
      "source": [
        "# 1번째 왜 이런 자료형이 필요할까요?\n",
        "# * 권한과 변경불가(시큐어 코딩), 형태 고정인 자료형(딕셔너리와 같은 것)\n",
        "\n",
        "# 2번째 변경이 불가능한데 왜 '값이 변경이 불가하다고 얘기하면 이것은 틀린 얘기입니다'라고 얘기하셨나요?\n",
        "a = [10, 20, 30]\n",
        "b = (a, 100, 200)\n",
        "b"
      ],
      "metadata": {
        "colab": {
          "base_uri": "https://localhost:8080/"
        },
        "id": "ykXI-qBaDHlb",
        "outputId": "c47fc27a-6cec-46dd-eaa3-46d3ffa5a7af"
      },
      "execution_count": 60,
      "outputs": [
        {
          "output_type": "execute_result",
          "data": {
            "text/plain": [
              "([10, 20, 30], 100, 200)"
            ]
          },
          "metadata": {},
          "execution_count": 60
        }
      ]
    },
    {
      "cell_type": "code",
      "source": [
        "a[0] = 1000\n",
        "b"
      ],
      "metadata": {
        "colab": {
          "base_uri": "https://localhost:8080/"
        },
        "id": "IdxvMZf2DVmU",
        "outputId": "25703e76-84e5-4aa0-e53c-ffe06979641e"
      },
      "execution_count": 61,
      "outputs": [
        {
          "output_type": "execute_result",
          "data": {
            "text/plain": [
              "([1000, 20, 30], 100, 200)"
            ]
          },
          "metadata": {},
          "execution_count": 61
        }
      ]
    },
    {
      "cell_type": "code",
      "source": [
        "t = (10, 20, 30)\n",
        "dir(t)\n",
        "\n",
        "'count'\n",
        "'index'"
      ],
      "metadata": {
        "colab": {
          "base_uri": "https://localhost:8080/",
          "height": 35
        },
        "id": "i_5CloqLFp9d",
        "outputId": "6d1f6c44-9326-4a69-9864-caff40ad42f2"
      },
      "execution_count": 62,
      "outputs": [
        {
          "output_type": "execute_result",
          "data": {
            "text/plain": [
              "'index'"
            ],
            "application/vnd.google.colaboratory.intrinsic+json": {
              "type": "string"
            }
          },
          "metadata": {},
          "execution_count": 62
        }
      ]
    },
    {
      "cell_type": "code",
      "source": [
        "t.count(10) # 10의 갯수를 반환\n",
        "t.index(10) # 10의 위치를 반환"
      ],
      "metadata": {
        "colab": {
          "base_uri": "https://localhost:8080/"
        },
        "id": "-s0qufnSF19d",
        "outputId": "bad47da7-1eae-42d3-aeda-5dcee4daf543"
      },
      "execution_count": 63,
      "outputs": [
        {
          "output_type": "execute_result",
          "data": {
            "text/plain": [
              "0"
            ]
          },
          "metadata": {},
          "execution_count": 63
        }
      ]
    },
    {
      "cell_type": "code",
      "source": [
        "tuple([10, 20, 30])"
      ],
      "metadata": {
        "id": "wtS3HoSHhWxO"
      },
      "execution_count": null,
      "outputs": []
    },
    {
      "cell_type": "code",
      "source": [
        "# tuple(순회가능한객체)\n",
        "# list(순회가능한객체)\n",
        "\n",
        "tuple('hello world')\n",
        "list('hello world')"
      ],
      "metadata": {
        "colab": {
          "base_uri": "https://localhost:8080/"
        },
        "id": "1eDoiXfpGKhb",
        "outputId": "7e5b668b-e174-4fb1-f695-81f5e962aed2"
      },
      "execution_count": 64,
      "outputs": [
        {
          "output_type": "execute_result",
          "data": {
            "text/plain": [
              "(10, 20, 30)"
            ]
          },
          "metadata": {},
          "execution_count": 64
        }
      ]
    },
    {
      "cell_type": "markdown",
      "source": [
        "# 딕셔너리\n",
        "\n",
        "* Python 3.6 버전 이상은 순서가 보장됩니다.\n",
        "* 실무에서 사용하는 Python 버전은 생각보다 낮습니다. 이점 주의해주세요.\n",
        "* 'key: value' 쌍으로 이뤄져 있습니다.\n",
        "* 딕셔너리 데이터 검색은 매우 빠릅니다.\n",
        "* 딕셔너리 사용은 주의를 요합니다. 딕셔너리는 key가 없는 것을 호출하면 error가 납니다."
      ],
      "metadata": {
        "id": "FuHIYCerF-kw"
      }
    },
    {
      "cell_type": "code",
      "source": [
        "d = {'one': '하나', 'two': '둘'}\n",
        "d['one']"
      ],
      "metadata": {
        "colab": {
          "base_uri": "https://localhost:8080/",
          "height": 35
        },
        "id": "vV6gvOvPH6OW",
        "outputId": "cc9b8456-2e8e-46fb-ad4c-71540057e6dc"
      },
      "execution_count": 67,
      "outputs": [
        {
          "output_type": "execute_result",
          "data": {
            "text/plain": [
              "'하나'"
            ],
            "application/vnd.google.colaboratory.intrinsic+json": {
              "type": "string"
            }
          },
          "metadata": {},
          "execution_count": 67
        }
      ]
    },
    {
      "cell_type": "code",
      "source": [
        "d['three'] # error"
      ],
      "metadata": {
        "id": "6IXUk85sF7sg"
      },
      "execution_count": 68,
      "outputs": []
    },
    {
      "cell_type": "code",
      "source": [
        "d.get('three') # get 메서드를 사용하시길 권합니다!"
      ],
      "metadata": {
        "colab": {
          "base_uri": "https://localhost:8080/",
          "height": 35
        },
        "id": "FhRY0YupIfs8",
        "outputId": "350e89fb-3dd5-4aa1-e24b-c1547c78834d"
      },
      "execution_count": 69,
      "outputs": [
        {
          "output_type": "execute_result",
          "data": {
            "text/plain": [
              "'없는 값입니다!'"
            ],
            "application/vnd.google.colaboratory.intrinsic+json": {
              "type": "string"
            }
          },
          "metadata": {},
          "execution_count": 69
        }
      ]
    },
    {
      "cell_type": "code",
      "source": [
        "d.get('three', '없는 값입니다!') # get 메서드를 사용하시길 권합니다!"
      ],
      "metadata": {
        "id": "5MhItq4CeisI"
      },
      "execution_count": null,
      "outputs": []
    },
    {
      "cell_type": "code",
      "source": [
        "def f(x):\n",
        "    return {\n",
        "            0: '일요일',\n",
        "            1: '월요일',\n",
        "            2: '화요일',\n",
        "            3: '수요일',\n",
        "            4: '목요일',\n",
        "            5: '금요일',\n",
        "            6: '토요일',\n",
        "        }.get(x, '요일없음')\n",
        "\n",
        "f(3)"
      ],
      "metadata": {
        "colab": {
          "base_uri": "https://localhost:8080/",
          "height": 35
        },
        "id": "8ralkH2CIleN",
        "outputId": "4181f9b2-90d4-45f8-8a30-ac7a6fd456ab"
      },
      "execution_count": 71,
      "outputs": [
        {
          "output_type": "execute_result",
          "data": {
            "text/plain": [
              "'수요일'"
            ],
            "application/vnd.google.colaboratory.intrinsic+json": {
              "type": "string"
            }
          },
          "metadata": {},
          "execution_count": 71
        }
      ]
    },
    {
      "cell_type": "code",
      "source": [
        "x = 3\n",
        "\n",
        "{\n",
        "    0: '일요일',\n",
        "    1: '월요일',\n",
        "    2: '화요일',\n",
        "    3: '수요일',\n",
        "    4: '목요일',\n",
        "    5: '금요일',\n",
        "    6: '토요일',\n",
        "}.get(x, '요일없음')"
      ],
      "metadata": {
        "colab": {
          "base_uri": "https://localhost:8080/",
          "height": 35
        },
        "id": "prJJt7WIJLUd",
        "outputId": "1139a46d-2c55-4f1c-efc1-77bcbd43ec50"
      },
      "execution_count": 73,
      "outputs": [
        {
          "output_type": "execute_result",
          "data": {
            "text/plain": [
              "'수요일'"
            ],
            "application/vnd.google.colaboratory.intrinsic+json": {
              "type": "string"
            }
          },
          "metadata": {},
          "execution_count": 73
        }
      ]
    },
    {
      "cell_type": "code",
      "source": [
        "# match 문법이 나오기 전까지 많이 사용했었습니다.\n",
        "# 지금도 많이 사용하는 문법입니다.\n",
        "# match 문법은 이런 문법이 있는지 모르시는 시니어 분들도 많습니다.\n",
        "\n",
        "x = 3\n",
        "\n",
        "y = {\n",
        "    0: '일요일',\n",
        "    1: '월요일',\n",
        "    2: '화요일',\n",
        "    3: '수요일',\n",
        "    4: '목요일',\n",
        "    5: '금요일',\n",
        "    6: '토요일',\n",
        "}\n",
        "\n",
        "y.get(x, '요일없음')"
      ],
      "metadata": {
        "colab": {
          "base_uri": "https://localhost:8080/"
        },
        "id": "DKJT3MrlJrWd",
        "outputId": "936273ed-8a08-46fb-de7c-f18b55accf14"
      },
      "execution_count": 74,
      "outputs": [
        {
          "output_type": "stream",
          "name": "stdout",
          "text": [
            "Python 3.10.12\n"
          ]
        }
      ]
    },
    {
      "cell_type": "code",
      "source": [
        "!python --version"
      ],
      "metadata": {
        "colab": {
          "base_uri": "https://localhost:8080/"
        },
        "id": "rzzC8RnoJ6H1",
        "outputId": "74621eaa-09ee-4829-cdde-4380668de150"
      },
      "execution_count": 75,
      "outputs": [
        {
          "output_type": "execute_result",
          "data": {
            "text/plain": [
              "['__class__',\n",
              " '__class_getitem__',\n",
              " '__contains__',\n",
              " '__delattr__',\n",
              " '__delitem__',\n",
              " '__dir__',\n",
              " '__doc__',\n",
              " '__eq__',\n",
              " '__format__',\n",
              " '__ge__',\n",
              " '__getattribute__',\n",
              " '__getitem__',\n",
              " '__gt__',\n",
              " '__hash__',\n",
              " '__init__',\n",
              " '__init_subclass__',\n",
              " '__ior__',\n",
              " '__iter__',\n",
              " '__le__',\n",
              " '__len__',\n",
              " '__lt__',\n",
              " '__ne__',\n",
              " '__new__',\n",
              " '__or__',\n",
              " '__reduce__',\n",
              " '__reduce_ex__',\n",
              " '__repr__',\n",
              " '__reversed__',\n",
              " '__ror__',\n",
              " '__setattr__',\n",
              " '__setitem__',\n",
              " '__sizeof__',\n",
              " '__str__',\n",
              " '__subclasshook__',\n",
              " 'clear',\n",
              " 'copy',\n",
              " 'fromkeys',\n",
              " 'get',\n",
              " 'items',\n",
              " 'keys',\n",
              " 'pop',\n",
              " 'popitem',\n",
              " 'setdefault',\n",
              " 'update',\n",
              " 'values']"
            ]
          },
          "metadata": {},
          "execution_count": 75
        }
      ]
    },
    {
      "cell_type": "code",
      "source": [
        "type(d)\n",
        "dir(d)"
      ],
      "metadata": {
        "id": "Cwm-ey8XJ8zU"
      },
      "execution_count": null,
      "outputs": []
    },
    {
      "cell_type": "code",
      "source": [
        "# 실제로 이와 같은 key: value의 쌍을 게시물 저장하는 형태 등으로 사용합니다.\n",
        "\n",
        "게시물1 = {\n",
        "    'title': '파이썬이 이렇게 어려울 줄이야!!?',\n",
        "    'contents': '파이썬을 깊게 알아갈 수록 너무 재미있네요!!! 신기합니다!!',\n",
        "    'author': '이호준',\n",
        "    'image': '/hojun/2024/1/5/python.jpg',\n",
        "}"
      ],
      "metadata": {
        "id": "GlAeSCChK08z"
      },
      "execution_count": 76,
      "outputs": []
    },
    {
      "cell_type": "code",
      "source": [
        "d = {'one': '하나', 'two': '둘'}"
      ],
      "metadata": {
        "colab": {
          "base_uri": "https://localhost:8080/"
        },
        "id": "keKiGfJpNeG8",
        "outputId": "a4f2d60b-8ed0-415f-a1f8-486bbbfa9950"
      },
      "execution_count": 79,
      "outputs": [
        {
          "output_type": "execute_result",
          "data": {
            "text/plain": [
              "({'one': 'python', 'two': 'html'}, {'one': 'python', 'two': 'html'})"
            ]
          },
          "metadata": {},
          "execution_count": 79
        }
      ]
    },
    {
      "cell_type": "code",
      "source": [
        "d = {'one': '하나', 'two': '둘'}\n",
        "dd = d\n",
        "\n",
        "id(dd), id(d)\n",
        "dd is d\n",
        "\n",
        "d['one'] = 'python'\n",
        "d['two'] = 'html'\n",
        "\n",
        "d, dd"
      ],
      "metadata": {
        "colab": {
          "base_uri": "https://localhost:8080/"
        },
        "id": "ctOeHsmGK6ps",
        "outputId": "f7af87eb-f453-44f6-8646-1d9a8020cb1b"
      },
      "execution_count": 80,
      "outputs": [
        {
          "output_type": "execute_result",
          "data": {
            "text/plain": [
              "{'one': '하나', 'two': '둘'}"
            ]
          },
          "metadata": {},
          "execution_count": 80
        }
      ]
    },
    {
      "cell_type": "code",
      "source": [
        "d = {'one': '하나', 'two': '둘'}\n",
        "dd = d.copy()\n",
        "\n",
        "d['one'] = 'python'\n",
        "d['two'] = 'html'\n",
        "\n",
        "dd"
      ],
      "metadata": {
        "colab": {
          "base_uri": "https://localhost:8080/"
        },
        "id": "KGIGrvD1N9p9",
        "outputId": "8d242e94-325a-4c64-9e23-796304cea518"
      },
      "execution_count": 82,
      "outputs": [
        {
          "output_type": "execute_result",
          "data": {
            "text/plain": [
              "{'one': 'hello world', 'two': 'hello world'}"
            ]
          },
          "metadata": {},
          "execution_count": 82
        }
      ]
    },
    {
      "cell_type": "code",
      "source": [
        "# 자주 사용하지 않습니다.\n",
        "\n",
        "d = ('one', 'two', 'three')\n",
        "dict.fromkeys(d)\n",
        "dict.fromkeys(d, 'hello world')"
      ],
      "metadata": {
        "colab": {
          "base_uri": "https://localhost:8080/",
          "height": 35
        },
        "id": "SXu9ny9iOQV8",
        "outputId": "ec18bd74-3573-4be1-a44d-99478e3131ff"
      },
      "execution_count": 83,
      "outputs": [
        {
          "output_type": "execute_result",
          "data": {
            "text/plain": [
              "'값 없음!'"
            ],
            "application/vnd.google.colaboratory.intrinsic+json": {
              "type": "string"
            }
          },
          "metadata": {},
          "execution_count": 83
        }
      ]
    },
    {
      "cell_type": "code",
      "source": [
        "# 매우 자주 사용하고 권고합니다.\n",
        "d = {'one': '하나', 'two': '둘'}\n",
        "d.get('one')\n",
        "d.get('three', '값 없음!')"
      ],
      "metadata": {
        "colab": {
          "base_uri": "https://localhost:8080/"
        },
        "id": "Z2l0MlUkOqmM",
        "outputId": "72ab10c2-62c8-42eb-89fc-c1131f26920c"
      },
      "execution_count": 91,
      "outputs": [
        {
          "output_type": "execute_result",
          "data": {
            "text/plain": [
              "dict_items"
            ]
          },
          "metadata": {},
          "execution_count": 91
        }
      ]
    },
    {
      "cell_type": "code",
      "source": [
        "d = {'one': '하나', 'two': '둘'}\n",
        "d.items()"
      ],
      "metadata": {
        "colab": {
          "base_uri": "https://localhost:8080/"
        },
        "id": "Xhk7tYJkOvuV",
        "outputId": "0f584692-0228-40c1-878e-0f98d3e362b0"
      },
      "execution_count": 87,
      "outputs": [
        {
          "output_type": "execute_result",
          "data": {
            "text/plain": [
              "('tow', '둘')"
            ]
          },
          "metadata": {},
          "execution_count": 87
        }
      ]
    },
    {
      "cell_type": "code",
      "source": [
        "d = {'one': '하나', 'two': '둘'}\n",
        "type(d.items())"
      ],
      "metadata": {
        "colab": {
          "base_uri": "https://localhost:8080/"
        },
        "id": "k0ooo9IaPUNz",
        "outputId": "c0c873a8-dfda-4647-8e60-b3e24908251b"
      },
      "execution_count": 88,
      "outputs": [
        {
          "output_type": "execute_result",
          "data": {
            "text/plain": [
              "10"
            ]
          },
          "metadata": {},
          "execution_count": 88
        }
      ]
    },
    {
      "cell_type": "code",
      "source": [
        "d = {'one': '하나', 'two': '둘'}\n",
        "d.items()[0] # error\n",
        "d.items()[1:] # error"
      ],
      "metadata": {
        "colab": {
          "base_uri": "https://localhost:8080/"
        },
        "id": "DREcURmBPg58",
        "outputId": "0c68db76-72f1-4a6f-983e-b7c2b0ff61da"
      },
      "execution_count": 89,
      "outputs": [
        {
          "output_type": "stream",
          "name": "stdout",
          "text": [
            "one\n",
            "tow\n"
          ]
        }
      ]
    },
    {
      "cell_type": "code",
      "source": [
        "a, b = d.items() # 언패킹\n",
        "a\n",
        "b"
      ],
      "metadata": {
        "colab": {
          "base_uri": "https://localhost:8080/"
        },
        "id": "HDXtMjS8Pq7l",
        "outputId": "f84a9d23-af03-4c06-8300-dd261ff7aa53"
      },
      "execution_count": 96,
      "outputs": [
        {
          "output_type": "execute_result",
          "data": {
            "text/plain": [
              "{'one': 'python', 'two': '둘', 'three': 'hello'}"
            ]
          },
          "metadata": {},
          "execution_count": 96
        }
      ]
    },
    {
      "cell_type": "code",
      "source": [
        "a, b = [10, 20]\n",
        "a"
      ],
      "metadata": {
        "colab": {
          "base_uri": "https://localhost:8080/"
        },
        "id": "6Taa0Ja-Qu8s",
        "outputId": "46be96b5-2e8f-49dc-c9d0-9a77c18b1327"
      },
      "execution_count": 97,
      "outputs": [
        {
          "output_type": "execute_result",
          "data": {
            "text/plain": [
              "{'one': 'python', 'two': '둘', 'three': '셋'}"
            ]
          },
          "metadata": {},
          "execution_count": 97
        }
      ]
    },
    {
      "cell_type": "code",
      "source": [
        "# keep만 해두세요. 반복문을 안배웠습니다.\n",
        "for i, j in d.items():\n",
        "    print(i, j)"
      ],
      "metadata": {
        "id": "RLQW8fOWe5Aw"
      },
      "execution_count": null,
      "outputs": []
    },
    {
      "cell_type": "code",
      "source": [
        "d.keys()\n",
        "d.values()"
      ],
      "metadata": {
        "id": "qqfNUsmGe6Yw"
      },
      "execution_count": null,
      "outputs": []
    },
    {
      "cell_type": "code",
      "source": [
        "d = {'one': '하나', 'two': '둘'}\n",
        "d.setdefault('one')\n",
        "d.setdefault('three')\n",
        "d.setdefault('four', 4) # 있으면 그 값을 출력하고, 없으면 그 값을 d에 삽입하고 4를 출력해줘!"
      ],
      "metadata": {
        "id": "5lHnAQlHe7vr"
      },
      "execution_count": null,
      "outputs": []
    },
    {
      "cell_type": "code",
      "source": [
        "d = {'one': '하나', 'two': '둘'}\n",
        "d.pop('one')\n",
        "d"
      ],
      "metadata": {
        "id": "DlLQdAdue9Bo"
      },
      "execution_count": null,
      "outputs": []
    },
    {
      "cell_type": "code",
      "source": [
        "d = {'one': '하나', 'two': '둘'}\n",
        "d.pop() # error\n",
        "d.pop('three') # error\n",
        "d"
      ],
      "metadata": {
        "id": "gtl7wEFCe-C1"
      },
      "execution_count": null,
      "outputs": []
    },
    {
      "cell_type": "code",
      "source": [
        "d = {'one': '하나', 'two': '둘'}\n",
        "d.popitem() # 없는 코드를 많이 보게 되실겁니다."
      ],
      "metadata": {
        "id": "gN0WYm_oe_Wp"
      },
      "execution_count": null,
      "outputs": []
    },
    {
      "cell_type": "code",
      "source": [
        "d = {'one': '하나', 'two': '둘'}\n",
        "d.update({'one': 'python', 'three':'hello'}) # one은 수정이 되었고 three는 생성이 되었습니다.\n",
        "d"
      ],
      "metadata": {
        "id": "HUU6xu5bfArp"
      },
      "execution_count": null,
      "outputs": []
    },
    {
      "cell_type": "code",
      "source": [
        "# 신규문법!!(3.9 version)\n",
        "d = {'one': '하나', 'two': '둘'}\n",
        "dd = {'three': '셋'}\n",
        "\n",
        "# d + dd\n",
        "d | dd # 책 사서 보셔도 잘 안나오는 문법입니다."
      ],
      "metadata": {
        "id": "e0B79OErfB4N"
      },
      "execution_count": null,
      "outputs": []
    },
    {
      "cell_type": "code",
      "source": [
        "d = {'one': '하나', 'two': '둘'}\n",
        "dd = {'one':'python', 'three': '셋'}\n",
        "d | dd"
      ],
      "metadata": {
        "id": "S-WzB9exfC_k"
      },
      "execution_count": null,
      "outputs": []
    },
    {
      "cell_type": "markdown",
      "source": [
        "# 셋\n",
        "\n",
        "* 중복을 허락하지 않는 자료형입니다.\n",
        "* 순서가 없는 자료형입니다.\n",
        "* 집합(합집합, 차집합, 교집합)"
      ],
      "metadata": {
        "id": "ZC9Dx0jbSZWw"
      }
    },
    {
      "cell_type": "code",
      "source": [
        "s = {1, 2, 3, 4, 5}\n",
        "ss = {3, 4, 5, 6, 7}\n",
        "\n",
        "# s + ss # error\n",
        "s | ss # 합집합\n",
        "s - ss # 차집합\n",
        "s & ss # 교집합"
      ],
      "metadata": {
        "colab": {
          "base_uri": "https://localhost:8080/"
        },
        "id": "KsXPG5sPSXnj",
        "outputId": "cbd05a5e-6233-4c61-eda4-67662e75b0a1"
      },
      "execution_count": 98,
      "outputs": [
        {
          "output_type": "execute_result",
          "data": {
            "text/plain": [
              "{3, 4, 5}"
            ]
          },
          "metadata": {},
          "execution_count": 98
        }
      ]
    },
    {
      "cell_type": "code",
      "source": [
        "s.add(10)\n",
        "s"
      ],
      "metadata": {
        "id": "n13_tXLifIc6"
      },
      "execution_count": null,
      "outputs": []
    },
    {
      "cell_type": "code",
      "source": [
        "type(s), dir(s)"
      ],
      "metadata": {
        "colab": {
          "base_uri": "https://localhost:8080/"
        },
        "id": "C6TXqZYVTcKu",
        "outputId": "91b9f5ea-7c8b-4070-a09b-fbf59b2ffbdb"
      },
      "execution_count": 99,
      "outputs": [
        {
          "output_type": "execute_result",
          "data": {
            "text/plain": [
              "(set,\n",
              " ['__and__',\n",
              "  '__class__',\n",
              "  '__class_getitem__',\n",
              "  '__contains__',\n",
              "  '__delattr__',\n",
              "  '__dir__',\n",
              "  '__doc__',\n",
              "  '__eq__',\n",
              "  '__format__',\n",
              "  '__ge__',\n",
              "  '__getattribute__',\n",
              "  '__gt__',\n",
              "  '__hash__',\n",
              "  '__iand__',\n",
              "  '__init__',\n",
              "  '__init_subclass__',\n",
              "  '__ior__',\n",
              "  '__isub__',\n",
              "  '__iter__',\n",
              "  '__ixor__',\n",
              "  '__le__',\n",
              "  '__len__',\n",
              "  '__lt__',\n",
              "  '__ne__',\n",
              "  '__new__',\n",
              "  '__or__',\n",
              "  '__rand__',\n",
              "  '__reduce__',\n",
              "  '__reduce_ex__',\n",
              "  '__repr__',\n",
              "  '__ror__',\n",
              "  '__rsub__',\n",
              "  '__rxor__',\n",
              "  '__setattr__',\n",
              "  '__sizeof__',\n",
              "  '__str__',\n",
              "  '__sub__',\n",
              "  '__subclasshook__',\n",
              "  '__xor__',\n",
              "  'add',\n",
              "  'clear',\n",
              "  'copy',\n",
              "  'difference',\n",
              "  'difference_update',\n",
              "  'discard',\n",
              "  'intersection',\n",
              "  'intersection_update',\n",
              "  'isdisjoint',\n",
              "  'issubset',\n",
              "  'issuperset',\n",
              "  'pop',\n",
              "  'remove',\n",
              "  'symmetric_difference',\n",
              "  'symmetric_difference_update',\n",
              "  'union',\n",
              "  'update'])"
            ]
          },
          "metadata": {},
          "execution_count": 99
        }
      ]
    },
    {
      "cell_type": "code",
      "source": [
        "s.difference(ss) # 차집합"
      ],
      "metadata": {
        "colab": {
          "base_uri": "https://localhost:8080/"
        },
        "id": "lenLs7TaTibE",
        "outputId": "28100a0a-5235-4b1e-a1bc-b2b2a052d9c7"
      },
      "execution_count": 100,
      "outputs": [
        {
          "output_type": "execute_result",
          "data": {
            "text/plain": [
              "{1, 2, 3, 4, 5, 10}"
            ]
          },
          "metadata": {},
          "execution_count": 100
        }
      ]
    },
    {
      "cell_type": "code",
      "source": [
        "s.intersection(ss) # 교집합"
      ],
      "metadata": {
        "colab": {
          "base_uri": "https://localhost:8080/"
        },
        "id": "KCpYT5DFTtma",
        "outputId": "6d2f5b73-8090-4059-e51d-e89fbc07d46a"
      },
      "execution_count": 101,
      "outputs": [
        {
          "output_type": "execute_result",
          "data": {
            "text/plain": [
              "{1, 2, 10}"
            ]
          },
          "metadata": {},
          "execution_count": 101
        }
      ]
    },
    {
      "cell_type": "code",
      "source": [
        "s.union(ss) # 합집합"
      ],
      "metadata": {
        "colab": {
          "base_uri": "https://localhost:8080/"
        },
        "id": "8oqAF8bxUezz",
        "outputId": "770f0c3d-a899-445a-b0ea-e15905690559"
      },
      "execution_count": 102,
      "outputs": [
        {
          "output_type": "execute_result",
          "data": {
            "text/plain": [
              "{3, 4, 5}"
            ]
          },
          "metadata": {},
          "execution_count": 102
        }
      ]
    },
    {
      "cell_type": "code",
      "source": [
        "set('123123123')"
      ],
      "metadata": {
        "colab": {
          "base_uri": "https://localhost:8080/"
        },
        "id": "M7MhKLrAUi9N",
        "outputId": "31c83ac5-7ecf-4f24-a27a-e5ad69ad12be"
      },
      "execution_count": 103,
      "outputs": [
        {
          "output_type": "execute_result",
          "data": {
            "text/plain": [
              "{1, 2, 3, 4, 5, 6, 7, 10}"
            ]
          },
          "metadata": {},
          "execution_count": 103
        }
      ]
    },
    {
      "cell_type": "code",
      "source": [
        "sum([1, 2, 3])"
      ],
      "metadata": {
        "colab": {
          "base_uri": "https://localhost:8080/"
        },
        "id": "Pj2N83zYUk4u",
        "outputId": "26a245f2-4f27-4c60-c986-18835a196acd"
      },
      "execution_count": 104,
      "outputs": [
        {
          "output_type": "execute_result",
          "data": {
            "text/plain": [
              "{'1', '2', '3'}"
            ]
          },
          "metadata": {},
          "execution_count": 104
        }
      ]
    },
    {
      "cell_type": "code",
      "source": [
        "sum({10, 20, 30})"
      ],
      "metadata": {
        "colab": {
          "base_uri": "https://localhost:8080/"
        },
        "id": "O4-P0rOAVH8A",
        "outputId": "9f58bfe5-15fc-4f30-88a3-2d80beca09d8"
      },
      "execution_count": 106,
      "outputs": [
        {
          "output_type": "execute_result",
          "data": {
            "text/plain": [
              "6"
            ]
          },
          "metadata": {},
          "execution_count": 106
        }
      ]
    },
    {
      "cell_type": "code",
      "source": [
        "# map은 너무나 중요해서 반복해서 해드릴텐데\n",
        "# 중복 제거한 값을 더하는 용도로 아래와 같이 사용하는 코드를\n",
        "# keep\n",
        "sum(map(int, set('123123123')))"
      ],
      "metadata": {
        "colab": {
          "base_uri": "https://localhost:8080/"
        },
        "id": "xMeOjjrBVKqO",
        "outputId": "b0c22cad-da7a-4630-ad09-d3ba437e479b"
      },
      "execution_count": 107,
      "outputs": [
        {
          "output_type": "execute_result",
          "data": {
            "text/plain": [
              "60"
            ]
          },
          "metadata": {},
          "execution_count": 107
        }
      ]
    },
    {
      "cell_type": "code",
      "source": [
        "map(int, set('123123123'))\n",
        "# {'1', '2', '3'} => {1, 2, 3}"
      ],
      "metadata": {
        "colab": {
          "base_uri": "https://localhost:8080/"
        },
        "id": "Jkh04bVdU7Ai",
        "outputId": "a8544066-ac20-4de2-f97d-50539fad0edb"
      },
      "execution_count": 105,
      "outputs": [
        {
          "output_type": "execute_result",
          "data": {
            "text/plain": [
              "6"
            ]
          },
          "metadata": {},
          "execution_count": 105
        }
      ]
    }
  ]
}