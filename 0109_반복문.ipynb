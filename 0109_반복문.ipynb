{
  "nbformat": 4,
  "nbformat_minor": 0,
  "metadata": {
    "colab": {
      "provenance": [],
      "authorship_tag": "ABX9TyMWOfQVcT7kVrjGARZMKNrg",
      "include_colab_link": true
    },
    "kernelspec": {
      "name": "python3",
      "display_name": "Python 3"
    },
    "language_info": {
      "name": "python"
    }
  },
  "cells": [
    {
      "cell_type": "markdown",
      "metadata": {
        "id": "view-in-github",
        "colab_type": "text"
      },
      "source": [
        "<a href=\"https://colab.research.google.com/github/jaewonleehyeyum/orm/blob/main/0109_%EB%B0%98%EB%B3%B5%EB%AC%B8.ipynb\" target=\"_parent\"><img src=\"https://colab.research.google.com/assets/colab-badge.svg\" alt=\"Open In Colab\"/></a>"
      ]
    },
    {
      "cell_type": "markdown",
      "source": [
        "# 반복문"
      ],
      "metadata": {
        "id": "y7aYD5wOEw4N"
      }
    },
    {
      "cell_type": "code",
      "execution_count": null,
      "metadata": {
        "id": "YMPEnvOpEtpq"
      },
      "outputs": [],
      "source": [
        "#함수\n",
        "def 함수명():\n",
        "    pass"
      ]
    },
    {
      "cell_type": "code",
      "source": [
        "#조건문\n",
        "if 조건:\n",
        "    pass"
      ],
      "metadata": {
        "id": "TQFoomlwE2km"
      },
      "execution_count": null,
      "outputs": []
    },
    {
      "cell_type": "code",
      "source": [
        "#반복문\n",
        "for 변수명 in 순회_가능한_객체:\n",
        "    pass # 수행할_문장"
      ],
      "metadata": {
        "id": "0A43JlDFE7LQ"
      },
      "execution_count": null,
      "outputs": []
    },
    {
      "cell_type": "code",
      "source": [
        "test = 'hello'"
      ],
      "metadata": {
        "colab": {
          "base_uri": "https://localhost:8080/"
        },
        "id": "rp3xTpinGADJ",
        "outputId": "86aa8ac3-26f3-489c-fd5f-254748de2308"
      },
      "execution_count": 1,
      "outputs": [
        {
          "output_type": "stream",
          "name": "stdout",
          "text": [
            "현재 값은 h 입니다.\n",
            "현재 값은 e 입니다.\n",
            "현재 값은 l 입니다.\n",
            "현재 값은 l 입니다.\n",
            "현재 값은 o 입니다.\n"
          ]
        }
      ]
    },
    {
      "cell_type": "code",
      "source": [
        "print(test[0])\n",
        "print(test[0:2])"
      ],
      "metadata": {
        "colab": {
          "base_uri": "https://localhost:8080/"
        },
        "id": "tg72vX9bGIy2",
        "outputId": "14f09433-eb5b-45d9-a6ff-414d73f882a6"
      },
      "execution_count": 2,
      "outputs": [
        {
          "output_type": "stream",
          "name": "stdout",
          "text": [
            "하나\n",
            "둘\n",
            "셋\n"
          ]
        }
      ]
    },
    {
      "cell_type": "code",
      "source": [
        "#반복문 기초 - 문자열\n",
        "#1. 'hello'를 순서대로 하나씩 단어를 꺼내서\n",
        "#2. x에 하나씩 넣은 다음에\n",
        "#3. 하나씩 for문 아래 코드블럭을 수행한다.\n",
        "#4. 그리고 순서가 마쳐지면 -> 다음 시퀀스(순서)로 넘어가서 똑같은 작업을 수행한다.\n",
        "\n",
        "for x in 'hello': # 순회 가능한 객체 -> 문자열 / 리스트 / 다른 데이터셋 / range(10) / 기타등등\n",
        "    print(f'현재 값은 {x} 입니다.')"
      ],
      "metadata": {
        "colab": {
          "base_uri": "https://localhost:8080/"
        },
        "id": "-mSP25iGIA2u",
        "outputId": "2e2d1bb6-2eb9-4830-f5e5-3c4ccea7c6d2"
      },
      "execution_count": 3,
      "outputs": [
        {
          "output_type": "stream",
          "name": "stdout",
          "text": [
            "2550\n"
          ]
        }
      ]
    },
    {
      "cell_type": "code",
      "source": [
        "for x in (1, 2, 3, 4, 5):\n",
        "    print(f'현재 값은 {x} 입니다.')"
      ],
      "metadata": {
        "colab": {
          "base_uri": "https://localhost:8080/"
        },
        "id": "hI_cZya-NVmr",
        "outputId": "09714046-17be-4659-e688-3b077b6f93db"
      },
      "execution_count": 4,
      "outputs": [
        {
          "output_type": "stream",
          "name": "stdout",
          "text": [
            "[1, 2]\n",
            "[10, 20]\n",
            "[100, 200]\n"
          ]
        }
      ]
    },
    {
      "cell_type": "code",
      "source": [
        "for x in [1, 2, 3, 4, 5]:\n",
        "    print(f'현재 값은 {x} 입니다.')"
      ],
      "metadata": {
        "id": "963wqc9DOP5g"
      },
      "execution_count": null,
      "outputs": []
    },
    {
      "cell_type": "code",
      "source": [
        "for x in range(10,20,2):\n",
        "    print(f'현재 값은 {x} 입니다.')"
      ],
      "metadata": {
        "id": "PAla1pQ2OQ_t"
      },
      "execution_count": null,
      "outputs": []
    },
    {
      "cell_type": "code",
      "source": [
        "len([1, 2, 3, 4, 5])"
      ],
      "metadata": {
        "id": "QPSF3JXkORew"
      },
      "execution_count": null,
      "outputs": []
    },
    {
      "cell_type": "code",
      "source": [
        "len(range(10,20,2))"
      ],
      "metadata": {
        "id": "NJWbsTNROTAq"
      },
      "execution_count": null,
      "outputs": []
    },
    {
      "cell_type": "code",
      "source": [
        "# 문자열 자료형을 범위로 가져왔을때!\n",
        "\n",
        "s = 'hello world'\n",
        "for i in s:\n",
        "    print(i)"
      ],
      "metadata": {
        "id": "mL7siPs3OUNE"
      },
      "execution_count": null,
      "outputs": []
    },
    {
      "cell_type": "code",
      "source": [
        "s = '123'\n",
        "result = 0\n",
        "for i in s:\n",
        "    result += int(i)"
      ],
      "metadata": {
        "id": "w6JlnwHQOXgV"
      },
      "execution_count": null,
      "outputs": []
    },
    {
      "cell_type": "code",
      "source": [
        "for i in '123':\n",
        "    result += int(i)"
      ],
      "metadata": {
        "id": "4jHhSBxPOYkW"
      },
      "execution_count": null,
      "outputs": []
    },
    {
      "cell_type": "code",
      "source": [
        "print(result)"
      ],
      "metadata": {
        "id": "JeNF1pFkOaJg"
      },
      "execution_count": null,
      "outputs": []
    },
    {
      "cell_type": "code",
      "source": [
        "# 딕셔너리 자료형\n",
        "단어_사전 = {\n",
        "    '하나' : 'one',\n",
        "    '둘' : 'two',\n",
        "    '셋' : 'three',\n",
        "}\n",
        "\n",
        "for i in 단어_사전:\n",
        "    print(i)"
      ],
      "metadata": {
        "id": "Bmw05I_DObwV"
      },
      "execution_count": null,
      "outputs": []
    },
    {
      "cell_type": "code",
      "source": [
        "# 딕셔너리 자료형\n",
        "단어_사전 = {\n",
        "    '하나' : 'one',\n",
        "    '둘' : 'two',\n",
        "    '셋' : 'three',\n",
        "}\n",
        "\n",
        "for i in 단어_사전.items():\n",
        "    print(i)"
      ],
      "metadata": {
        "id": "15yU84z5OdS7"
      },
      "execution_count": null,
      "outputs": []
    },
    {
      "cell_type": "code",
      "source": [
        "result = 0\n",
        "for i in range(101):\n",
        "    result += i\n",
        "result"
      ],
      "metadata": {
        "id": "Z84wjCDCOei1"
      },
      "execution_count": null,
      "outputs": []
    },
    {
      "cell_type": "code",
      "source": [
        "n = 100\n",
        "result = (n + 1) * n / 2\n",
        "result"
      ],
      "metadata": {
        "id": "_S1bdAKsOfHW"
      },
      "execution_count": null,
      "outputs": []
    },
    {
      "cell_type": "code",
      "source": [
        "# 짝수코드 작성!\n",
        "\n",
        "result = 0\n",
        "# 리스트라면 비어있는 리스트라도 만들어야하는구나 result = []\n",
        "# 비어있는 자료형도 자료형이다. None도 자료형이다.\n",
        "\n",
        "for i in range(101): # 0~100까지 시퀀스 자료형을 불러온다.\n",
        "    if i % 2 == 0:   # 0~100까지 중에서 짝수만 가져온다.\n",
        "        result += i  # 짝수를 가져와서 누적으로 더한다. 0, 2, 4, 6, ... 100 까지 더한다.\n",
        "\n",
        "print(result) # 출력한다."
      ],
      "metadata": {
        "id": "4PK_J9DiOgPc"
      },
      "execution_count": null,
      "outputs": []
    },
    {
      "cell_type": "code",
      "source": [
        "result = 0\n",
        "for i in range(0, 101, 2):\n",
        "    result += i\n",
        "result"
      ],
      "metadata": {
        "id": "S2r9Hj9EOhnK"
      },
      "execution_count": null,
      "outputs": []
    },
    {
      "cell_type": "markdown",
      "source": [
        "# 2.2 중첩 반복문"
      ],
      "metadata": {
        "id": "S5WHpzxeSG0C"
      }
    },
    {
      "cell_type": "code",
      "source": [
        "[1,2,3,4]"
      ],
      "metadata": {
        "colab": {
          "base_uri": "https://localhost:8080/"
        },
        "id": "6tTBMXSdN21s",
        "outputId": "c3820156-b026-4116-dead-de77dcfab0fb"
      },
      "execution_count": 6,
      "outputs": [
        {
          "output_type": "execute_result",
          "data": {
            "text/plain": [
              "[1, 2, 3, 4, 5, 6, 7, 8, 9]"
            ]
          },
          "metadata": {},
          "execution_count": 6
        }
      ]
    },
    {
      "cell_type": "code",
      "source": [
        "[\n",
        "  [1, 2],\n",
        "  [10, 20],\n",
        "  [100, 200]\n",
        "]"
      ],
      "metadata": {
        "colab": {
          "base_uri": "https://localhost:8080/",
          "height": 143
        },
        "id": "dPBvpiATSPlL",
        "outputId": "7c80597a-8217-41ce-e155-bd3d80d97ceb"
      },
      "execution_count": 8,
      "outputs": [
        {
          "output_type": "error",
          "ename": "SyntaxError",
          "evalue": "invalid syntax (<ipython-input-8-82b9b459c915>, line 2)",
          "traceback": [
            "\u001b[0;36m  File \u001b[0;32m\"<ipython-input-8-82b9b459c915>\"\u001b[0;36m, line \u001b[0;32m2\u001b[0m\n\u001b[0;31m    [for i in range(1, 10)] # for문 시작하는 조건을 가져오고 리스트로 묶는다.\u001b[0m\n\u001b[0m     ^\u001b[0m\n\u001b[0;31mSyntaxError\u001b[0m\u001b[0;31m:\u001b[0m invalid syntax\n"
          ]
        }
      ]
    },
    {
      "cell_type": "code",
      "source": [
        "# code1\n",
        "for i in [[1, 2], [10, 20], [100, 200]]:\n",
        "    print(i)"
      ],
      "metadata": {
        "id": "ta53hxwiS0uU"
      },
      "execution_count": 11,
      "outputs": []
    },
    {
      "cell_type": "code",
      "source": [
        "# code2\n",
        "for j in [1, 2]:\n",
        "    print(j)"
      ],
      "metadata": {
        "colab": {
          "base_uri": "https://localhost:8080/"
        },
        "id": "6_7sRVJ-octv",
        "outputId": "6209ffa7-7d77-4b06-e2a0-1256eeb3d71c"
      },
      "execution_count": 12,
      "outputs": [
        {
          "output_type": "stream",
          "name": "stdout",
          "text": [
            "['2 x 1 = 2', '2 x 2 = 4', '2 x 3 = 6', '2 x 4 = 8', '2 x 5 = 10', '2 x 6 = 12', '2 x 7 = 14', '2 x 8 = 16', '2 x 9 = 18', '3 x 1 = 3', '3 x 2 = 6', '3 x 3 = 9', '3 x 4 = 12', '3 x 5 = 15', '3 x 6 = 18', '3 x 7 = 21', '3 x 8 = 24', '3 x 9 = 27', '4 x 1 = 4', '4 x 2 = 8', '4 x 3 = 12', '4 x 4 = 16', '4 x 5 = 20', '4 x 6 = 24', '4 x 7 = 28', '4 x 8 = 32', '4 x 9 = 36', '5 x 1 = 5', '5 x 2 = 10', '5 x 3 = 15', '5 x 4 = 20', '5 x 5 = 25', '5 x 6 = 30', '5 x 7 = 35', '5 x 8 = 40', '5 x 9 = 45', '6 x 1 = 6', '6 x 2 = 12', '6 x 3 = 18', '6 x 4 = 24', '6 x 5 = 30', '6 x 6 = 36', '6 x 7 = 42', '6 x 8 = 48', '6 x 9 = 54', '7 x 1 = 7', '7 x 2 = 14', '7 x 3 = 21', '7 x 4 = 28', '7 x 5 = 35', '7 x 6 = 42', '7 x 7 = 49', '7 x 8 = 56', '7 x 9 = 63', '8 x 1 = 8', '8 x 2 = 16', '8 x 3 = 24', '8 x 4 = 32', '8 x 5 = 40', '8 x 6 = 48', '8 x 7 = 56', '8 x 8 = 64', '8 x 9 = 72', '9 x 1 = 9', '9 x 2 = 18', '9 x 3 = 27', '9 x 4 = 36', '9 x 5 = 45', '9 x 6 = 54', '9 x 7 = 63', '9 x 8 = 72', '9 x 9 = 81']\n"
          ]
        }
      ]
    },
    {
      "cell_type": "code",
      "source": [
        "for i in [[1, 2], [10, 20], [100, 200]]:\n",
        "    print(i)\n",
        "    for j in i:\n",
        "        print(j)"
      ],
      "metadata": {
        "id": "-Q0GI_7UowM2"
      },
      "execution_count": null,
      "outputs": []
    },
    {
      "cell_type": "code",
      "source": [
        "#1. 방금처럼 구조를 정한다.\n",
        "#2. 최소한의 반복문만 수행해본다.\n",
        "#3. 각 반복문을 print()해본다."
      ],
      "metadata": {
        "id": "uB2Zcgl4rBFY"
      },
      "execution_count": 55,
      "outputs": []
    },
    {
      "cell_type": "code",
      "source": [
        "#Step 2.1\n",
        "for i in [[1, 2], [10, 20], [100, 200]]:\n",
        "    # code2\n",
        "    for j in i:\n",
        "        print(j)"
      ],
      "metadata": {
        "id": "3aY_OBBuOu_V"
      },
      "execution_count": null,
      "outputs": []
    },
    {
      "cell_type": "code",
      "source": [
        "# code2\n",
        "for j in [1, 2]:\n",
        "    print(j)"
      ],
      "metadata": {
        "id": "_lYy20v4OwnA"
      },
      "execution_count": null,
      "outputs": []
    },
    {
      "cell_type": "code",
      "source": [
        "# 1. i = [1,2]\n",
        "# 2. print(i) -> [1,2] ->원래는 생략!\n",
        "# 3. [1,2] -> [1]\n",
        "# 4. print(j) -> 1이 출력"
      ],
      "metadata": {
        "id": "IHTzlSD1OyKE"
      },
      "execution_count": null,
      "outputs": []
    },
    {
      "cell_type": "code",
      "source": [
        "for i in [[1, 2], [10, 20], [100, 200]]:\n",
        "    print(i)\n",
        "    for j in i:\n",
        "        print(j)"
      ],
      "metadata": {
        "id": "dGPpmE9nOye7"
      },
      "execution_count": null,
      "outputs": []
    },
    {
      "cell_type": "code",
      "source": [
        "# 9*9단 19*19단!\n",
        "for i in range(2, 10):\n",
        "    print(f'---{i}단---')\n",
        "    for j in range(1, 10):\n",
        "        print(f'{i} X {j} = {i * j}')"
      ],
      "metadata": {
        "id": "9X0_u7PPO0cr"
      },
      "execution_count": null,
      "outputs": []
    },
    {
      "cell_type": "markdown",
      "source": [
        "# 2.2 리스트 컴프리핸션"
      ],
      "metadata": {
        "id": "sQ0Ts4YMrYLJ"
      }
    },
    {
      "cell_type": "code",
      "source": [
        "for i in range(0x3131, 0x3135):\n",
        "   print(chr(i))"
      ],
      "metadata": {
        "colab": {
          "base_uri": "https://localhost:8080/"
        },
        "id": "3DVuOOSkrNuu",
        "outputId": "eea000c5-6441-4049-a9d2-2607790b226f"
      },
      "execution_count": 17,
      "outputs": [
        {
          "output_type": "stream",
          "name": "stdout",
          "text": [
            "고기잡이 100\n",
            "고기팔기 120\n",
            "낚시 5\n",
            "통발 5\n",
            "큰그물 5\n"
          ]
        }
      ]
    },
    {
      "cell_type": "code",
      "source": [
        "# 기존 반복문\n",
        "x = []\n",
        "\n",
        "for i in range(1, 10): # 1~9까지\n",
        "    x.append(i) #append(리스트에 값을 추가!)"
      ],
      "metadata": {
        "colab": {
          "base_uri": "https://localhost:8080/"
        },
        "id": "DWQl6m5zsdb2",
        "outputId": "f21732e1-5488-4d1d-bb6a-f51016dcbb42"
      },
      "execution_count": 19,
      "outputs": [
        {
          "output_type": "stream",
          "name": "stdout",
          "text": [
            "고기잡이 100 SS\n",
            "고기팔기 120 SSS\n",
            "낚시 5 C\n",
            "통발 5 C\n",
            "큰그물 5 C\n"
          ]
        }
      ]
    },
    {
      "cell_type": "code",
      "source": [
        "# 리스트 컴프리헨션\n",
        "# step1 list안에 for문을 가져옵니다.\n",
        "#[for i in range(1, 10)] # for문 시작하는 조건을 가져오고 리스트로 묶는다.\n",
        "\n",
        "# step2 append 항목을 앞으로 가져옵니다. - 여기서 i -> 자동으로 append\n",
        "a = [i for i in range(1, 10)] # 출력: [1, 2, 3, 4, 5, 6, 7, 8, 9]\n",
        "b = [i*2 for i in range(1, 10)] # 출력: [1, 2, 3, 4, 5, 6, 7, 8, 9]\n",
        "print(a, b)"
      ],
      "metadata": {
        "colab": {
          "base_uri": "https://localhost:8080/"
        },
        "id": "dbkM74cpsxdc",
        "outputId": "8c89e947-1641-4407-b4bd-ce8b14886ae4"
      },
      "execution_count": 20,
      "outputs": [
        {
          "output_type": "stream",
          "name": "stdout",
          "text": [
            "1\n",
            "2\n",
            "3\n",
            "4\n",
            "5\n",
            "6\n",
            "7\n",
            "8\n",
            "9\n"
          ]
        }
      ]
    },
    {
      "cell_type": "code",
      "source": [
        "# 리스트 컴프리헨션 + 조건문\n",
        "l = [i for i in range(1, 10) if i % 2 == 0 and i % 3 == 0]\n",
        "print(l)"
      ],
      "metadata": {
        "colab": {
          "base_uri": "https://localhost:8080/"
        },
        "id": "n5m_yNVqwRjF",
        "outputId": "d2c0cf03-6319-4d9d-85fd-1414601bcf9d"
      },
      "execution_count": 21,
      "outputs": [
        {
          "output_type": "stream",
          "name": "stdout",
          "text": [
            "0\n",
            "1\n",
            "2\n",
            "3\n",
            "4\n",
            "5\n",
            "6\n",
            "7\n",
            "8\n",
            "9\n"
          ]
        }
      ]
    },
    {
      "cell_type": "code",
      "source": [
        "nums = [1, 2, 3, 4, 5]\n",
        "result = [f'{x}는 3보다 큰 짝수' if x % 2 == 0 else f'{x}는 3보다 큰 홀수' for x in nums if x > 3]\n",
        "print(result) # 출력: ['4는 3보다 큰 짝수', '5는 3보다 큰 홀수']"
      ],
      "metadata": {
        "id": "rMPvdLpaO-9j"
      },
      "execution_count": null,
      "outputs": []
    },
    {
      "cell_type": "code",
      "source": [
        "result = []\n",
        "nums = [1, 2, 3, 4, 5]\n",
        "for x in nums:\n",
        "    if x > 3:\n",
        "        if x % 2 == 0:\n",
        "            result.append(f'{x}는 3보다 큰 짝수')\n",
        "        else:\n",
        "            result.append(f'{x}는 3보다 큰 홀수')\n",
        "print(result)"
      ],
      "metadata": {
        "id": "TSXhC79jPAVZ"
      },
      "execution_count": null,
      "outputs": []
    },
    {
      "cell_type": "code",
      "source": [
        "# 중첩된 리스트 컴프리헨션\n",
        "\n",
        "# 리스트 컴프리헨션: 중첩된 반복문\n",
        "c = [f'{i} × {j} = {i*j}' for i in range(2, 10) for j in range(1, 10)]\n",
        "\n",
        "# 리스트 컴프리헨션: 중첩된 컴프리헨션\n",
        "cc = [[f'{i} × {j} = {i*j}' for j in range(1, 10)] for i in range(2, 10)]\n",
        "\n",
        "# 전통적인 방법\n",
        "c_list = []\n",
        "for i in range(2, 10):\n",
        "    for j in range(1, 10):\n",
        "        c_list.append(f'{i} × {j} = {i*j}')"
      ],
      "metadata": {
        "id": "cKvEeXnSPBtl"
      },
      "execution_count": null,
      "outputs": []
    },
    {
      "cell_type": "code",
      "source": [
        "print(c)"
      ],
      "metadata": {
        "id": "rl8aIExaPC0g"
      },
      "execution_count": null,
      "outputs": []
    },
    {
      "cell_type": "code",
      "source": [
        "def sumthingFunction(i): # 함수 sumthingFunction(i)을 생성\n",
        "    if i % 100 ==0:      # 조건문 100으로 나눴을때 나머지가 0이 되는것\n",
        "        return i         # 조건에 일치하면 i를 리턴 일치하지 않으면 0을 리턴하는데,\n",
        "    else:\n",
        "        return 0\n",
        "\n",
        "l = [100, 200, 300, 101, 202, 303]\n",
        "l = [sumthingFunction(i) for i in l] # l(리스트)에 있는 값들을 하나씩 꺼내서, 함수에 태워보고, 조건에 맞는것만 출력\n",
        "l # 출력: [100, 200, 300, 0, 0, 0]\n",
        "print(l)"
      ],
      "metadata": {
        "id": "0ybdvRg2PFHc"
      },
      "execution_count": null,
      "outputs": []
    },
    {
      "cell_type": "code",
      "source": [
        "l = [100, 200, 300, 101, 202, 303]\n",
        "l2 = [(lambda x : x * x)(x) for x in l]\n",
        "print(l2)"
      ],
      "metadata": {
        "id": "uc7B8UBKPFqX"
      },
      "execution_count": null,
      "outputs": []
    },
    {
      "cell_type": "code",
      "source": [
        "# 딕셔너리 컴프리핸션\n",
        "\n",
        "# 전통적인 방법\n",
        "d = {}\n",
        "for i in range(5):\n",
        "    d[i] = i**2\n",
        "print(d)\n",
        "\n",
        "# 딕셔너리 컴프리헨션 사용\n",
        "dd = {i: i**2 for i in range(5)}\n",
        "print(dd)"
      ],
      "metadata": {
        "id": "6ULMYSIYPKxz"
      },
      "execution_count": null,
      "outputs": []
    },
    {
      "cell_type": "code",
      "source": [
        "# 복합 순회형 자료 for문\n",
        "\n",
        "for i, j, k in ['abc', 'def', 'ghi']:\n",
        "    print(i, j, k)"
      ],
      "metadata": {
        "id": "LWWBw2e-PMDi"
      },
      "execution_count": null,
      "outputs": []
    },
    {
      "cell_type": "code",
      "source": [
        "for i in ['abc']:\n",
        "    print(i)"
      ],
      "metadata": {
        "id": "RzgBUgW5PM96"
      },
      "execution_count": null,
      "outputs": []
    },
    {
      "cell_type": "code",
      "source": [
        "skill = [\n",
        "        ('고기잡이', 100),\n",
        "        ('고기팔기', 120),\n",
        "        ('낚시', 5),\n",
        "        ('통발', 5),\n",
        "        ('큰그물', 5)\n",
        "]\n",
        "\n",
        "for i, j in skill:\n",
        "    print(i, j)"
      ],
      "metadata": {
        "id": "YMqjvMTDPOJJ"
      },
      "execution_count": null,
      "outputs": []
    },
    {
      "cell_type": "code",
      "source": [
        "# 하나만 리스트여도 쌓이면 상관없이 잘 돌아감\n",
        "skill = [\n",
        "        ('고기잡이', 100, 'SS'),\n",
        "        ('고기팔기', 120, 'SSS'),\n",
        "        ('낚시', 5, 'C'),\n",
        "        ('통발', 5, 'C'),\n",
        "        ('큰그물', 5, 'C')\n",
        "]\n",
        "\n",
        "for skillName, skillLevel, skillGrade in skill:\n",
        "    print(skillName, skillLevel, skillGrade)"
      ],
      "metadata": {
        "id": "WSc04FasPPPx"
      },
      "execution_count": null,
      "outputs": []
    },
    {
      "cell_type": "code",
      "source": [
        "# enumerate 활용\n",
        "\n",
        "영화누적관객수 = ['레미제라블', '뷰티인사이트', '매트릭스', '인셉션', '어거스트 러쉬']\n",
        "for i in enumerate(영화누적관객수):\n",
        "    print(i)"
      ],
      "metadata": {
        "id": "bRtBbVmnPQLs"
      },
      "execution_count": null,
      "outputs": []
    },
    {
      "cell_type": "code",
      "source": [
        "영화누적관객수 = ['레미제라블', '뷰티인사이트', '매트릭스', '인셉션', '어거스트 러쉬']\n",
        "for i in 영화누적관객수:\n",
        "    print(i)"
      ],
      "metadata": {
        "id": "0solqsGoPRFg"
      },
      "execution_count": null,
      "outputs": []
    },
    {
      "cell_type": "code",
      "source": [
        "for i, j in enumerate(영화누적관객수, 1):\n",
        "    print(f'누적관객수 {i}위! {j}!') # i에는 index값 j에는 영화 제목! ,1 -> 1부터 시작!"
      ],
      "metadata": {
        "id": "xFHiTboHPSSj"
      },
      "execution_count": null,
      "outputs": []
    },
    {
      "cell_type": "code",
      "source": [],
      "metadata": {
        "id": "H9rYmYE82Fkl"
      },
      "execution_count": null,
      "outputs": []
    }
  ]
}