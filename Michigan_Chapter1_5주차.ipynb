{
  "nbformat": 4,
  "nbformat_minor": 0,
  "metadata": {
    "colab": {
      "provenance": [],
      "authorship_tag": "ABX9TyO0EVF9bMjo7e42+YERRwMF",
      "include_colab_link": true
    },
    "kernelspec": {
      "name": "python3",
      "display_name": "Python 3"
    },
    "language_info": {
      "name": "python"
    }
  },
  "cells": [
    {
      "cell_type": "markdown",
      "metadata": {
        "id": "view-in-github",
        "colab_type": "text"
      },
      "source": [
        "<a href=\"https://colab.research.google.com/github/jaewonleehyeyum/orm/blob/main/Michigan_Chapter5_5%EC%A3%BC%EC%B0%A8.ipynb\" target=\"_parent\"><img src=\"https://colab.research.google.com/assets/colab-badge.svg\" alt=\"Open In Colab\"/></a>"
      ]
    },
    {
      "cell_type": "code",
      "execution_count": null,
      "metadata": {
        "id": "KJsvGLWA3e9y",
        "colab": {
          "base_uri": "https://localhost:8080/"
        },
        "outputId": "5fec14f7-3e9e-4ffb-c632-caad96d9d55a"
      },
      "outputs": [
        {
          "output_type": "stream",
          "name": "stdout",
          "text": [
            "Bigger\n",
            "All done\n"
          ]
        }
      ],
      "source": [
        "x = 4\n",
        "if x > 2 :\n",
        "    print('Bigger')\n",
        "else :\n",
        "    print('Smaller')\n",
        "print ('All done')"
      ]
    },
    {
      "cell_type": "code",
      "source": [
        "if x < 2 :\n",
        "    print('small')\n",
        "elif x < 10 :\n",
        "    print('Medium')\n",
        "else :\n",
        "    print('LARGE')\n",
        "print('All done')"
      ],
      "metadata": {
        "colab": {
          "base_uri": "https://localhost:8080/"
        },
        "id": "3ZiYXZf6nFCu",
        "outputId": "13c845d2-8d09-44b6-ae8b-7144d5eb6060"
      },
      "execution_count": null,
      "outputs": [
        {
          "output_type": "stream",
          "name": "stdout",
          "text": [
            "Medium\n",
            "All done\n"
          ]
        }
      ]
    },
    {
      "cell_type": "code",
      "source": [
        "x = 5\n",
        "if x < 2 :\n",
        "    print('small')\n",
        "elif x < 10 :\n",
        "    print('Medium')\n",
        "else :\n",
        "    print('LARGE')\n",
        "print(\"All done\")"
      ],
      "metadata": {
        "colab": {
          "base_uri": "https://localhost:8080/"
        },
        "id": "TEqmZUOIngFX",
        "outputId": "09fb21d9-8f9c-4d26-f343-e94877eef4bd"
      },
      "execution_count": null,
      "outputs": [
        {
          "output_type": "stream",
          "name": "stdout",
          "text": [
            "Medium\n",
            "All done\n"
          ]
        }
      ]
    },
    {
      "cell_type": "code",
      "source": [
        "x = 20\n",
        "if x < 2 :\n",
        "    print('small')\n",
        "elif x < 10 :\n",
        "    print('Medium')\n",
        "else :\n",
        "    print('LARGE')\n",
        "print('All done')"
      ],
      "metadata": {
        "colab": {
          "base_uri": "https://localhost:8080/"
        },
        "id": "guEXVh_mn_se",
        "outputId": "25bd0e6b-8a85-4fc2-effe-b53282d434eb"
      },
      "execution_count": null,
      "outputs": [
        {
          "output_type": "stream",
          "name": "stdout",
          "text": [
            "LARGE\n",
            "All done\n"
          ]
        }
      ]
    },
    {
      "cell_type": "code",
      "source": [
        "# No Else\n",
        "x = 5\n",
        "if x < 2 :\n",
        "    print('Small')\n",
        "elif x < 10 :\n",
        "    print('Medium')\n",
        "\n",
        "    print('All done')"
      ],
      "metadata": {
        "colab": {
          "base_uri": "https://localhost:8080/"
        },
        "id": "ziTLlnRHoVBG",
        "outputId": "ffa8b937-f4e0-48d9-ba51-6f5f03fa1eb7"
      },
      "execution_count": null,
      "outputs": [
        {
          "output_type": "stream",
          "name": "stdout",
          "text": [
            "Medium\n",
            "All done\n"
          ]
        }
      ]
    },
    {
      "cell_type": "code",
      "source": [
        "if x < 2 :\n",
        "    print('Below 2')\n",
        "elif x >= 2 :\n",
        "    print('Two or more')\n",
        "else :\n",
        "    print('Something else')"
      ],
      "metadata": {
        "colab": {
          "base_uri": "https://localhost:8080/"
        },
        "id": "UJSjVvl8o0Ge",
        "outputId": "8731d493-f9ee-4857-8e51-a3e05da9ca3d"
      },
      "execution_count": null,
      "outputs": [
        {
          "output_type": "stream",
          "name": "stdout",
          "text": [
            "Two or more\n"
          ]
        }
      ]
    },
    {
      "cell_type": "code",
      "source": [
        "if x < 2 :\n",
        "    print('Below 2')\n",
        "elif x < 20 :\n",
        "    print('Below 20')\n",
        "elif x < 10 :\n",
        "    print('Below 10')\n",
        "else :\n",
        "    print('Something else')"
      ],
      "metadata": {
        "colab": {
          "base_uri": "https://localhost:8080/"
        },
        "id": "2keZKCn3pQSt",
        "outputId": "6ee4c279-dbac-45b6-c9d4-263f2d720a0a"
      },
      "execution_count": null,
      "outputs": [
        {
          "output_type": "stream",
          "name": "stdout",
          "text": [
            "Below 20\n"
          ]
        }
      ]
    },
    {
      "cell_type": "code",
      "source": [
        "astr = 'Hello Bob'\n",
        "istr = int(astr)\n",
        "print('First', istr)\n",
        "astr = '123'\n",
        "istr = int(astr)\n",
        "print('Second', istr)"
      ],
      "metadata": {
        "colab": {
          "base_uri": "https://localhost:8080/",
          "height": 248
        },
        "id": "u7qQpucxppH1",
        "outputId": "041a4d8d-7ad4-480b-88ff-cdcbee867abe"
      },
      "execution_count": null,
      "outputs": [
        {
          "output_type": "error",
          "ename": "ValueError",
          "evalue": "invalid literal for int() with base 10: 'Hello Bob'",
          "traceback": [
            "\u001b[0;31m---------------------------------------------------------------------------\u001b[0m",
            "\u001b[0;31mValueError\u001b[0m                                Traceback (most recent call last)",
            "\u001b[0;32m<ipython-input-9-a96d2ddd189b>\u001b[0m in \u001b[0;36m<cell line: 2>\u001b[0;34m()\u001b[0m\n\u001b[1;32m      1\u001b[0m \u001b[0mastr\u001b[0m \u001b[0;34m=\u001b[0m \u001b[0;34m'Hello Bob'\u001b[0m\u001b[0;34m\u001b[0m\u001b[0;34m\u001b[0m\u001b[0m\n\u001b[0;32m----> 2\u001b[0;31m \u001b[0mistr\u001b[0m \u001b[0;34m=\u001b[0m \u001b[0mint\u001b[0m\u001b[0;34m(\u001b[0m\u001b[0mastr\u001b[0m\u001b[0;34m)\u001b[0m\u001b[0;34m\u001b[0m\u001b[0;34m\u001b[0m\u001b[0m\n\u001b[0m\u001b[1;32m      3\u001b[0m \u001b[0mprint\u001b[0m\u001b[0;34m(\u001b[0m\u001b[0;34m'First'\u001b[0m\u001b[0;34m,\u001b[0m \u001b[0mistr\u001b[0m\u001b[0;34m)\u001b[0m\u001b[0;34m\u001b[0m\u001b[0;34m\u001b[0m\u001b[0m\n\u001b[1;32m      4\u001b[0m \u001b[0mastr\u001b[0m \u001b[0;34m=\u001b[0m \u001b[0;34m'123'\u001b[0m\u001b[0;34m\u001b[0m\u001b[0;34m\u001b[0m\u001b[0m\n\u001b[1;32m      5\u001b[0m \u001b[0mistr\u001b[0m \u001b[0;34m=\u001b[0m \u001b[0mint\u001b[0m\u001b[0;34m(\u001b[0m\u001b[0mastr\u001b[0m\u001b[0;34m)\u001b[0m\u001b[0;34m\u001b[0m\u001b[0;34m\u001b[0m\u001b[0m\n",
            "\u001b[0;31mValueError\u001b[0m: invalid literal for int() with base 10: 'Hello Bob'"
          ]
        }
      ]
    },
    {
      "cell_type": "code",
      "source": [
        "astr = 'Hello Bob'\n",
        "try:\n",
        "    istr = int(astr)\n",
        "except:\n",
        "    istr = -1\n",
        "\n",
        "print('First', istr)\n",
        "\n",
        "astr = '123'\n",
        "try:\n",
        "    istr = int(astr)\n",
        "except:\n",
        "    istr = -1"
      ],
      "metadata": {
        "colab": {
          "base_uri": "https://localhost:8080/"
        },
        "id": "hhyTcHUaqZHl",
        "outputId": "4e851c52-dd24-4f95-926f-ca847c4a674c"
      },
      "execution_count": null,
      "outputs": [
        {
          "output_type": "stream",
          "name": "stdout",
          "text": [
            "First -1\n"
          ]
        }
      ]
    },
    {
      "cell_type": "code",
      "source": [
        "astr = 'Bob'\n",
        "try:\n",
        "    print('Hello')\n",
        "    istr = int(astr)\n",
        "    print('There')\n",
        "except:\n",
        "    istr = -1\n",
        "\n",
        "print('Done', istr)"
      ],
      "metadata": {
        "colab": {
          "base_uri": "https://localhost:8080/"
        },
        "id": "LLt5nHt2rCRG",
        "outputId": "b8b06049-d7c7-4996-dace-3cdc33ebb912"
      },
      "execution_count": null,
      "outputs": [
        {
          "output_type": "stream",
          "name": "stdout",
          "text": [
            "Hello\n",
            "Done -1\n"
          ]
        }
      ]
    },
    {
      "cell_type": "code",
      "source": [
        "rawstr = input('Enter a number')\n",
        "try:\n",
        "    ival = int(rawstr)\n",
        "except:\n",
        "    ival = -1\n",
        "\n",
        "if ival > 0 :\n",
        "    print('Nice work')\n",
        "else:\n",
        "    print('Not a number')"
      ],
      "metadata": {
        "colab": {
          "base_uri": "https://localhost:8080/"
        },
        "id": "0ZdoZjg-t1CN",
        "outputId": "abbe907d-0e17-4d4b-dc8e-8204f40c630c"
      },
      "execution_count": null,
      "outputs": [
        {
          "output_type": "stream",
          "name": "stdout",
          "text": [
            "Enter a number0\n",
            "Not a number\n"
          ]
        }
      ]
    },
    {
      "cell_type": "code",
      "source": [
        "'''\n",
        "질문 1\n",
        "if 문 바로 뒤에 오는 파이썬 문이 if 문이 참일 때만 실행되도록 하려면 어떻게 해야 하나요?\n",
        "\n",
        "1. if 문 아래 줄을 들여쓰기합니다.\n",
        "2. 중괄호 {로 문을 시작합니다.\n",
        "3. \"#\" 문자로 문을 시작합니다.\n",
        "4. 모든 조건부 코드에 밑줄을 긋습니다.\n",
        "\n",
        "\n",
        "질문 2\n",
        "다음 중 비교/논리적 연산자가 아닌 것은?\n",
        "1. <\n",
        "2. =\n",
        "3. !=\n",
        "4. ==\n",
        "5. >=\n",
        "\n",
        "\n",
        "질문 3 다음 코드 세그먼트에 해당하는 것은 무엇인가요?\n",
        "if  x == 5 :\n",
        "    print('Is 5')\n",
        "    print('Is Still 5')\n",
        "    print('Third 5')\n",
        "\n",
        "1. x 값에 따라 세 개의 인쇄 문이 모두 실행되거나 아무 문도 실행되지 않습니다.\n",
        "2. 'Is 5' 문자열은 x의 값에 관계없이 항상 출력됩니다.\n",
        "3. 'Is 5' 문자열은 x의 값에 관계없이 절대 출력되지 않습니다.\n",
        "4. x의 값이 0보다 작으면 세 개의 인쇄 문 중 두 개만 인쇄됩니다.\n",
        "\n",
        "\n",
        "질문 4\n",
        "if 블록에 여러 줄이 있는 경우 if 블록의 끝을 어떻게 표시하나요?\n",
        "\n",
        "1. if 블록의 끝 뒤에 오는 줄의 첫 글자를 대문자로 표시합니다.\n",
        "2. if 블록의 마지막 줄에서 세미콜론;을 생략합니다.\n",
        "3. 중괄호 {를 if 블록의 마지막 줄 뒤에 사용합니다.\n",
        "4. if 블록을 지나면 다음 줄의 들여쓰기를 원래 if 문과 같은 수준으로 내어쓰기합니다.\n",
        "\n",
        "\n",
        "질문 5 다음 텍스트를 보았습니다:\n",
        "if x == 6 :\n",
        "    print('Is 6')\n",
        "    print('Is Still 6')\n",
        "    print('Third 6')\n",
        "\n",
        "완벽해 보이지만 두 번째 인쇄 문에서 Python이 '들여쓰기 오류'를 발생시킵니다.  가장 가능성이 높은 이유는 무엇인가요?\n",
        "\n",
        "\n",
        "1. 파이썬은 문자열에서 'Still'이 철자가 틀린 단어라고 생각합니다.\n",
        "2. 파이썬이 실행할 수 있는 가장 큰 파이썬 프로그램의 한계에 도달했습니다.\n",
        "3. 사람이 부적절하다고 느끼도록 하기 위해 Python은 완벽하게 정상인 코드에 무작위로 '들여쓰기 오류'를 발생시키며, 약 한 시간이 지나면 프로그램을 변경하지 않아도 오류가 사라집니다.\n",
        "4. 파일에 탭과 공백이 섞여 있는 경우\n",
        "\n",
        "\n",
        "질문 6 논리 테스트가 거짓일 경우 실행할 코드 블록을 나타내기 위해 양방향 if 테스트에서 사용하는 파이썬 예약어는 무엇인가요?\n",
        "\n",
        "1. else\n",
        "2. otherwise\n",
        "3. iterate\n",
        "4. 토글\n",
        "\n",
        "\n",
        "질문 7 다음 코드는 무엇으로 출력되나요?\n",
        "x = 0\n",
        "if x < 2 :\n",
        "    print('Small')\n",
        "elif x < 10 :\n",
        "    print('Medium')\n",
        "else :\n",
        "    print('LARGE')\n",
        "print('All done')\n",
        "\n",
        "\n",
        "다음 코드의 경우,\n",
        "if x < 2 :\n",
        "    print('Below 2')\n",
        "elif x >= 2 :\n",
        "     print('Two or more')\n",
        "else :\n",
        "    print('Something else')\n",
        "\n",
        "'X'의 어떤 값이 '다른 것'을 출력하게 할까요?\n",
        "\n",
        "1. 이 코드는 'x'의 값에 관계없이 '다른 것'을 출력하지 않습니다.\n",
        "2. x = 2\n",
        "3. x = -2\n",
        "4. x = 2.0\n",
        "\n",
        "\n",
        "질문 9 다음 코드(숫자 추가)에서 성공적으로 실행되는 마지막 줄은 어느 것인가요?\n",
        "(1)   astr = 'Hello Bob'\n",
        "(2)   istr = int(astr)\n",
        "(3)   print('First', istr)\n",
        "(4)   astr = '123'\n",
        "(5)   istr = int(astr)\n",
        "(6)   print('Second', istr)\n",
        "\n",
        "\n",
        "질문 10 다음 코드의 경우:\n",
        "astr = 'Hello Bob'\n",
        "istr = 0\n",
        "try:\n",
        "    istr = int(astr)\n",
        "except:\n",
        "    istr = -1\n",
        "이 코드가 실행된 후 istr의 값은 어떻게 되나요?\n",
        "1. -1\n",
        "2. istr 변수는 값을 갖지 않습니다.\n",
        "3. 문자 'H'의 데이터 정렬 시퀀스 내 위치에 따라 달라집니다.\n",
        "4. '숫자가 아님' 값(즉, NaN)이 됩니다.\n",
        "'''\n",
        "\n"
      ],
      "metadata": {
        "id": "LjcKfJ58uuKs"
      },
      "execution_count": null,
      "outputs": []
    },
    {
      "cell_type": "code",
      "source": [
        "x = 2.0\n",
        "\n",
        "if x < 2 :\n",
        "    print('Below 2')\n",
        "elif x >= 2 :\n",
        "     print('Two or more')\n",
        "else :\n",
        "    print('Something else')"
      ],
      "metadata": {
        "colab": {
          "base_uri": "https://localhost:8080/"
        },
        "id": "KI0-2VlFwIHN",
        "outputId": "11e386ce-f6e4-4742-858c-6c6b10270fc7"
      },
      "execution_count": null,
      "outputs": [
        {
          "output_type": "stream",
          "name": "stdout",
          "text": [
            "Two or more\n"
          ]
        }
      ]
    },
    {
      "cell_type": "code",
      "source": [
        "astr = 'Hello Bob'\n",
        "istr = 0\n",
        "try:\n",
        "    istr = int(astr)\n",
        "except:\n",
        "    istr = -1"
      ],
      "metadata": {
        "id": "WqlW-OE5wJQc"
      },
      "execution_count": null,
      "outputs": []
    },
    {
      "cell_type": "code",
      "source": [
        "print(istr)"
      ],
      "metadata": {
        "colab": {
          "base_uri": "https://localhost:8080/"
        },
        "id": "P-vEmWWmEaK6",
        "outputId": "6a75c4f3-8571-497c-cc60-265c6a8338ac"
      },
      "execution_count": null,
      "outputs": [
        {
          "output_type": "stream",
          "name": "stdout",
          "text": [
            "-1\n"
          ]
        }
      ]
    },
    {
      "cell_type": "code",
      "source": [
        "'''\n",
        "3.1\n",
        "총 급여를 계산하기 위해 사용자에게 시간 및 시간당 요금을 입력하라는 메시지를 표시하는 프로그램을 작성합니다.\n",
        "40시간까지 근무한 시간에는 시급을 지급하고, 40시간을 초과하여 근무한 모든 시간에는 시급의 1.5배를 지급합니다.\n",
        "45시간과 시간당 10.50의 요율을 사용하여 프로그램을 테스트합니다(급여는 498.75가 되어야 합니다).\n",
        "문자열을 읽으려면 입력을 사용하고 문자열을 숫자로 변환하려면 float()를 사용해야 합니다.\n",
        "사용자 입력을 확인하는 오류에 대해 걱정하지 마시고 사용자가 숫자를 제대로 입력한다고 가정하세요.\n",
        "'''\n",
        "\n",
        "# Prompt the user for input\n",
        "hrs = input(\"Enter Hours:\")\n",
        "rate = input(\"Enter Rate per hour\")\n",
        "\n",
        "# Convert the input to float\n",
        "h = float(hrs)\n",
        "r = float(rate)\n",
        "\n",
        "# Calculate gross pay\n",
        "if h <= 40:\n",
        "    pay = h * r\n",
        "else:\n",
        "    pay = 40 * r + (h - 40) * r * 1.5\n",
        "\n",
        "# print the result\n",
        "print(\"Pay:\", pay)"
      ],
      "metadata": {
        "colab": {
          "base_uri": "https://localhost:8080/"
        },
        "id": "j9gsfmAVFEXJ",
        "outputId": "5a73f4c6-66f7-4004-f16a-78132c1ffd3a"
      },
      "execution_count": null,
      "outputs": [
        {
          "output_type": "stream",
          "name": "stdout",
          "text": [
            "Enter Hours:45\n",
            "Enter Rate per hour10.50\n",
            "Pay: 498.75\n"
          ]
        }
      ]
    },
    {
      "cell_type": "code",
      "source": [
        "'''\n",
        "3.3\n",
        "0.0에서 1.0 사이의 점수를 묻는 프로그램을 작성하십시오.\n",
        "점수가 범위를 벗어나면 오류를 인쇄합니다.\n",
        "점수가 0.0에서 1.0 사이인 경우 다음 표를 사용하여 성적을 인쇄합니다.\n",
        "점수 등급\n",
        ">= 0.9 A\n",
        ">= 0.8 B\n",
        ">= 0.7 C\n",
        ">= 0.6 D\n",
        "< 0.6 F\n",
        "\n",
        "사용자가 범위를 벗어난 값을 입력한 경우 적절한 오류 메시지를 인쇄하고 종료합니다.\n",
        "시험의 경우 0.85점을 입력합니다.\n",
        "'''\n",
        "\n",
        "# 사용자에게 점수 입력 요청\n",
        "score_input = input(\"점수를 입력해주세요: \")\n",
        "\n",
        "try:\n",
        "    # 입력값을 실수형으로 변환\n",
        "    score = float(score_input)\n",
        "\n",
        "    # 점수가 유효한 범위 내에 있는지 확인\n",
        "    if 0.0 <= score <= 1.0:\n",
        "        # 점수에 따른 성적 부여\n",
        "        if score >= 0.9:\n",
        "            grade = 'A'\n",
        "        elif score >= 0.8:\n",
        "            grade = 'B'\n",
        "        elif score >= 0.7:\n",
        "            grade = 'C'\n",
        "        elif score >= 0.6:\n",
        "            grade = 'D'\n",
        "        else:\n",
        "            grade = 'F'\n",
        "        print(grade)\n",
        "    else:\n",
        "        # 범위를 벗어난 경우 오류 메시지 출력\n",
        "        print(\"Error: Score is out of range\")\n",
        "except ValueError:\n",
        "    # 입력값이 숫자가 아닌 경우 오류 메시지 출력\n",
        "    print(\"Error: Invalid input\")\n",
        "\n",
        "# 테스트 0.85점을 입력하면 'Grade: B가 출력되어야 한다.\n"
      ],
      "metadata": {
        "colab": {
          "base_uri": "https://localhost:8080/"
        },
        "id": "UWAJRMK3GE5A",
        "outputId": "f5ab4829-25aa-41be-e18a-7b26cf687f42"
      },
      "execution_count": null,
      "outputs": [
        {
          "output_type": "stream",
          "name": "stdout",
          "text": [
            "점수를 입력해주세요: 0.85\n",
            "B\n"
          ]
        }
      ]
    },
    {
      "cell_type": "code",
      "source": [],
      "metadata": {
        "id": "mXE9OFTOHTIn"
      },
      "execution_count": null,
      "outputs": []
    }
  ]
}
