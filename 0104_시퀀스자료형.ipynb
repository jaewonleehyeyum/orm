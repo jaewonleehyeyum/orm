{
  "nbformat": 4,
  "nbformat_minor": 0,
  "metadata": {
    "colab": {
      "provenance": [],
      "authorship_tag": "ABX9TyNRUuoTYH60MHkgeoYAEnrq",
      "include_colab_link": true
    },
    "kernelspec": {
      "name": "python3",
      "display_name": "Python 3"
    },
    "language_info": {
      "name": "python"
    }
  },
  "cells": [
    {
      "cell_type": "markdown",
      "metadata": {
        "id": "view-in-github",
        "colab_type": "text"
      },
      "source": [
        "<a href=\"https://colab.research.google.com/github/jaewonleehyeyum/orm/blob/main/0104_%EC%8B%9C%ED%80%80%EC%8A%A4%EC%9E%90%EB%A3%8C%ED%98%95.ipynb\" target=\"_parent\"><img src=\"https://colab.research.google.com/assets/colab-badge.svg\" alt=\"Open In Colab\"/></a>"
      ]
    },
    {
      "cell_type": "markdown",
      "source": [
        "# 1. 시퀀스 자료형"
      ],
      "metadata": {
        "id": "EUYZGX3Nb2Nd"
      }
    },
    {
      "cell_type": "code",
      "execution_count": 1,
      "metadata": {
        "colab": {
          "base_uri": "https://localhost:8080/"
        },
        "id": "RNOa4wfi7iQt",
        "outputId": "85bfabc1-8894-426e-ed5e-32bd90f22552"
      },
      "outputs": [
        {
          "output_type": "stream",
          "name": "stdout",
          "text": [
            "a\n",
            "c\n",
            "e\n"
          ]
        }
      ],
      "source": [
        "# 1.1 인덱싱\n",
        "        #(-) 54321\n",
        "            #01234\n",
        "example = 'abcde'\n",
        "print(example[0]) # 출력 : a\n",
        "print(example[2]) # 출력 : c\n",
        "print(example[-1]) # 출력 : e"
      ]
    },
    {
      "cell_type": "code",
      "source": [
        "# 1.2 슬라이싱\n",
        "            #54321\n",
        "            #01234\n",
        "example = 'abcde'\n",
        "print(example[-4:-1]) # 출력 : bcd"
      ],
      "metadata": {
        "id": "O-8ONV_4HFkW",
        "colab": {
          "base_uri": "https://localhost:8080/"
        },
        "outputId": "2320a9b8-1fff-4e2d-a2f4-ec4964de6215"
      },
      "execution_count": 2,
      "outputs": [
        {
          "output_type": "stream",
          "name": "stdout",
          "text": [
            "bcd\n"
          ]
        }
      ]
    },
    {
      "cell_type": "code",
      "source": [
        "range(10)[3] # 출력: 3\n",
        "range(100)[::5] # 출력: range(0, 100, 5)"
      ],
      "metadata": {
        "colab": {
          "base_uri": "https://localhost:8080/"
        },
        "id": "lHldQS9CcwDt",
        "outputId": "32529a84-0173-4e0f-ba0d-37c6715915f4"
      },
      "execution_count": 5,
      "outputs": [
        {
          "output_type": "execute_result",
          "data": {
            "text/plain": [
              "range(0, 100, 5)"
            ]
          },
          "metadata": {},
          "execution_count": 5
        }
      ]
    },
    {
      "cell_type": "code",
      "source": [
        "# 1.3 특정항목 포함 여부\n",
        "example = 'abcde'\n",
        "print('a' in example)"
      ],
      "metadata": {
        "colab": {
          "base_uri": "https://localhost:8080/"
        },
        "id": "ZUiwR6hmcecr",
        "outputId": "0c5bd1fa-337c-49df-f05d-606779d967b5"
      },
      "execution_count": 6,
      "outputs": [
        {
          "output_type": "stream",
          "name": "stdout",
          "text": [
            "True\n"
          ]
        }
      ]
    },
    {
      "cell_type": "code",
      "source": [
        "print('z' not in example)"
      ],
      "metadata": {
        "colab": {
          "base_uri": "https://localhost:8080/"
        },
        "id": "8Nqkg9pBdML7",
        "outputId": "0cf30e93-9dc5-4e92-bb74-d6b7d4c89b08"
      },
      "execution_count": 7,
      "outputs": [
        {
          "output_type": "stream",
          "name": "stdout",
          "text": [
            "True\n"
          ]
        }
      ]
    },
    {
      "cell_type": "code",
      "source": [
        "# 1.4 연결 & 반복\n",
        "example1 = 'abcde'\n",
        "example2 = 'f'\n",
        "print(example1 + example2) # 출력: abcdef\n",
        "print(example2 * 3)        # 출력 : fff"
      ],
      "metadata": {
        "colab": {
          "base_uri": "https://localhost:8080/"
        },
        "id": "HGE86JdedPdK",
        "outputId": "715897ed-8924-465a-c76a-3898e7ab79b6"
      },
      "execution_count": 8,
      "outputs": [
        {
          "output_type": "stream",
          "name": "stdout",
          "text": [
            "abcdef\n",
            "fff\n"
          ]
        }
      ]
    },
    {
      "cell_type": "code",
      "source": [
        "# 내장함수를 사용!\n",
        "example = 'abcde'\n",
        "print(len(example)) # 출력: 5\n",
        "print(min(example)) # 출력: a\n",
        "print(max(example)) # 출력: e"
      ],
      "metadata": {
        "colab": {
          "base_uri": "https://localhost:8080/"
        },
        "id": "Iu5RvTPHdfEa",
        "outputId": "eb01423e-e52e-4636-a8fb-fe3b7ca2c37e"
      },
      "execution_count": 9,
      "outputs": [
        {
          "output_type": "stream",
          "name": "stdout",
          "text": [
            "5\n",
            "a\n",
            "e\n"
          ]
        }
      ]
    },
    {
      "cell_type": "markdown",
      "source": [
        "# 2. 시퀀스 자료형의 패킹과 언패킹"
      ],
      "metadata": {
        "id": "bllfc5wfd3B8"
      }
    },
    {
      "cell_type": "code",
      "source": [
        "# 2.1 튜플 패킹\n",
        "# 튜플 패킹\n",
        "\n",
        "packed_tuple = 1, 2, 3, 4\n",
        "print(packed_tuple) # 출력 : (1, 2, 3, 4)\n",
        "type(packed_tuple)"
      ],
      "metadata": {
        "colab": {
          "base_uri": "https://localhost:8080/"
        },
        "id": "HQpUAzQSdv3D",
        "outputId": "5e9e410a-086e-4226-c160-d9db935c8b54"
      },
      "execution_count": 10,
      "outputs": [
        {
          "output_type": "stream",
          "name": "stdout",
          "text": [
            "(1, 2, 3, 4)\n"
          ]
        },
        {
          "output_type": "execute_result",
          "data": {
            "text/plain": [
              "tuple"
            ]
          },
          "metadata": {},
          "execution_count": 10
        }
      ]
    },
    {
      "cell_type": "code",
      "source": [
        "tuple_example = 1\n",
        "print(tuple_example)\n",
        "type(tuple_example)"
      ],
      "metadata": {
        "colab": {
          "base_uri": "https://localhost:8080/"
        },
        "id": "bbtmSmwaeFj6",
        "outputId": "8a70ebb4-44ae-48ae-abdb-1fd29f70ad43"
      },
      "execution_count": 11,
      "outputs": [
        {
          "output_type": "stream",
          "name": "stdout",
          "text": [
            "1\n"
          ]
        },
        {
          "output_type": "execute_result",
          "data": {
            "text/plain": [
              "int"
            ]
          },
          "metadata": {},
          "execution_count": 11
        }
      ]
    },
    {
      "cell_type": "code",
      "source": [
        "# 2.2 언패킹\n",
        "\n",
        "# 튜플 패킹\n",
        "packed_tuple = 1, 2, 3, 4\n",
        "print(packed_tuple)"
      ],
      "metadata": {
        "colab": {
          "base_uri": "https://localhost:8080/"
        },
        "id": "2Tqhj57peTur",
        "outputId": "47660635-a5d9-4658-a3a7-0ad4f8d1cd23"
      },
      "execution_count": 12,
      "outputs": [
        {
          "output_type": "stream",
          "name": "stdout",
          "text": [
            "(1, 2, 3, 4)\n"
          ]
        }
      ]
    },
    {
      "cell_type": "code",
      "source": [
        "# 튜플 언패킹\n",
        "a, b, c, d = packed_tuple\n",
        "print(a)\n",
        "print(b)\n",
        "print(c)\n",
        "print(d)"
      ],
      "metadata": {
        "colab": {
          "base_uri": "https://localhost:8080/"
        },
        "id": "YeHG561pef-y",
        "outputId": "30237a89-1856-4209-ffa8-d4a9e19b7632"
      },
      "execution_count": 13,
      "outputs": [
        {
          "output_type": "stream",
          "name": "stdout",
          "text": [
            "1\n",
            "2\n",
            "3\n",
            "4\n"
          ]
        }
      ]
    },
    {
      "cell_type": "code",
      "source": [
        "# 다양한 패킹/언패킹\n",
        "# range는 0부터 n-1까지 숫자를 생성하는 함수\n",
        "a, b, c = range(3) #0,1,2\n",
        "print(range(3))\n",
        "print(a, b, c)"
      ],
      "metadata": {
        "colab": {
          "base_uri": "https://localhost:8080/"
        },
        "id": "1EdGcj7QenNa",
        "outputId": "f13740ae-4e9b-4e33-d129-ec369ad14ba2"
      },
      "execution_count": 14,
      "outputs": [
        {
          "output_type": "stream",
          "name": "stdout",
          "text": [
            "range(0, 3)\n",
            "0 1 2\n"
          ]
        }
      ]
    },
    {
      "cell_type": "code",
      "source": [
        "a, b, c, d, e = 'hello'\n",
        "print(a)\n",
        "print(b)\n",
        "print(c)\n",
        "print(d)\n",
        "print(e)"
      ],
      "metadata": {
        "colab": {
          "base_uri": "https://localhost:8080/"
        },
        "id": "rIvqV8GIe4OR",
        "outputId": "5873e822-40e9-414a-8dd2-ee7feec69b4f"
      },
      "execution_count": 17,
      "outputs": [
        {
          "output_type": "stream",
          "name": "stdout",
          "text": [
            "h\n",
            "e\n",
            "l\n",
            "l\n",
            "o\n"
          ]
        }
      ]
    },
    {
      "cell_type": "code",
      "source": [
        "a, b = [10, 20]\n",
        "print(a)\n",
        "print(b)"
      ],
      "metadata": {
        "colab": {
          "base_uri": "https://localhost:8080/"
        },
        "id": "WumWRXEofMyz",
        "outputId": "45cfc324-629b-4dcb-e145-08cb15e2653f"
      },
      "execution_count": 18,
      "outputs": [
        {
          "output_type": "stream",
          "name": "stdout",
          "text": [
            "10\n",
            "20\n"
          ]
        }
      ]
    },
    {
      "cell_type": "code",
      "source": [
        "total_sum = 0\n",
        "\n",
        "for i in range(5): #0,1,2,3,4\n",
        "    total_sum += 1\n",
        "    print(total_sum)\n",
        "print(total_sum)"
      ],
      "metadata": {
        "colab": {
          "base_uri": "https://localhost:8080/"
        },
        "id": "NSkIcd-KfTYb",
        "outputId": "4ade2bcf-8240-4109-e106-0306dfc3a4bd"
      },
      "execution_count": 22,
      "outputs": [
        {
          "output_type": "stream",
          "name": "stdout",
          "text": [
            "1\n",
            "2\n",
            "3\n",
            "4\n",
            "5\n",
            "5\n"
          ]
        }
      ]
    },
    {
      "cell_type": "code",
      "source": [
        "# 별표를 이용한 언패킹\n",
        "first, *middle, last = [1, 2, 3, 4, 5]\n",
        "print(first)\n",
        "print(middle)\n",
        "print(last)"
      ],
      "metadata": {
        "colab": {
          "base_uri": "https://localhost:8080/"
        },
        "id": "DthXWPUUffBa",
        "outputId": "1c47b0aa-83c8-4efd-a0b7-25731efe108a"
      },
      "execution_count": 23,
      "outputs": [
        {
          "output_type": "stream",
          "name": "stdout",
          "text": [
            "1\n",
            "[2, 3, 4]\n",
            "5\n"
          ]
        }
      ]
    },
    {
      "cell_type": "markdown",
      "source": [
        "# 2. 리스트"
      ],
      "metadata": {
        "id": "Vbit_wjJgebH"
      }
    },
    {
      "cell_type": "code",
      "source": [
        "# 리스트의 필요성\n",
        "\n",
        "x1 = 100\n",
        "x2 = 200\n",
        "x3 = 300\n",
        "\n",
        "x = [100, 200, 300]"
      ],
      "metadata": {
        "id": "h8U1KUTKgYZy"
      },
      "execution_count": 24,
      "outputs": []
    },
    {
      "cell_type": "code",
      "source": [
        "# 리스트의 장점 : 여러가지 자료형을 넣을 수 있다.\n",
        "z = [1, 'apple', 2.5, ['a', 'b'], (1, 2), True]\n",
        "print(z[0])\n",
        "print(z[1])\n",
        "print(z[2])\n",
        "print(z[3])\n",
        "print(z[4])\n",
        "print(z[5])"
      ],
      "metadata": {
        "colab": {
          "base_uri": "https://localhost:8080/"
        },
        "id": "4mDV7wZ1gl6R",
        "outputId": "536f4851-f6bc-4ff5-81dc-d23820b117fd"
      },
      "execution_count": 26,
      "outputs": [
        {
          "output_type": "stream",
          "name": "stdout",
          "text": [
            "1\n",
            "apple\n",
            "2.5\n",
            "['a', 'b']\n",
            "(1, 2)\n",
            "True\n"
          ]
        }
      ]
    },
    {
      "cell_type": "code",
      "source": [
        "z = [\n",
        "              1,\n",
        "              'apple',\n",
        "              2.5,\n",
        "              ['a', 'b'],\n",
        "              (1, 2)\n",
        "]\n",
        "print(z[0])\n",
        "print(z[1])\n",
        "print(z[2])\n",
        "print(z[3])\n",
        "print(z[4])"
      ],
      "metadata": {
        "colab": {
          "base_uri": "https://localhost:8080/"
        },
        "id": "Xv-FWzW9g1bB",
        "outputId": "9910022e-27db-45df-ecc6-35ff6a687fd7"
      },
      "execution_count": 28,
      "outputs": [
        {
          "output_type": "stream",
          "name": "stdout",
          "text": [
            "1\n",
            "apple\n",
            "2.5\n",
            "['a', 'b']\n",
            "(1, 2)\n"
          ]
        }
      ]
    },
    {
      "cell_type": "code",
      "source": [
        "# 2.2 리스트 값 수정\n",
        "\n",
        "a = [1, 2, 3, 4, 5]\n",
        "a[0] = 10000\n",
        "print(a)"
      ],
      "metadata": {
        "colab": {
          "base_uri": "https://localhost:8080/"
        },
        "id": "hH_DlZEOhFGZ",
        "outputId": "a3be6d91-5d39-4ebc-fc92-eac46054ba38"
      },
      "execution_count": 29,
      "outputs": [
        {
          "output_type": "stream",
          "name": "stdout",
          "text": [
            "[10000, 2, 3, 4, 5]\n"
          ]
        }
      ]
    },
    {
      "cell_type": "code",
      "source": [
        "# 문자열은 변경할 수 없다\n",
        "s = 'licat'\n",
        "print(s[0])\n",
        "s[0] = 'k'"
      ],
      "metadata": {
        "colab": {
          "base_uri": "https://localhost:8080/",
          "height": 230
        },
        "id": "dS6GDwgJhRzx",
        "outputId": "bcc10853-cc88-494d-bb43-a66e5d4112cb"
      },
      "execution_count": 30,
      "outputs": [
        {
          "output_type": "stream",
          "name": "stdout",
          "text": [
            "l\n"
          ]
        },
        {
          "output_type": "error",
          "ename": "TypeError",
          "evalue": "ignored",
          "traceback": [
            "\u001b[0;31m---------------------------------------------------------------------------\u001b[0m",
            "\u001b[0;31mTypeError\u001b[0m                                 Traceback (most recent call last)",
            "\u001b[0;32m<ipython-input-30-ac65ea05dbec>\u001b[0m in \u001b[0;36m<cell line: 4>\u001b[0;34m()\u001b[0m\n\u001b[1;32m      2\u001b[0m \u001b[0ms\u001b[0m \u001b[0;34m=\u001b[0m \u001b[0;34m'licat'\u001b[0m\u001b[0;34m\u001b[0m\u001b[0;34m\u001b[0m\u001b[0m\n\u001b[1;32m      3\u001b[0m \u001b[0mprint\u001b[0m\u001b[0;34m(\u001b[0m\u001b[0ms\u001b[0m\u001b[0;34m[\u001b[0m\u001b[0;36m0\u001b[0m\u001b[0;34m]\u001b[0m\u001b[0;34m)\u001b[0m\u001b[0;34m\u001b[0m\u001b[0;34m\u001b[0m\u001b[0m\n\u001b[0;32m----> 4\u001b[0;31m \u001b[0ms\u001b[0m\u001b[0;34m[\u001b[0m\u001b[0;36m0\u001b[0m\u001b[0;34m]\u001b[0m \u001b[0;34m=\u001b[0m \u001b[0;34m'k'\u001b[0m\u001b[0;34m\u001b[0m\u001b[0;34m\u001b[0m\u001b[0m\n\u001b[0m",
            "\u001b[0;31mTypeError\u001b[0m: 'str' object does not support item assignment"
          ]
        }
      ]
    },
    {
      "cell_type": "code",
      "source": [
        "# 3. 리스트 안에 리스트\n",
        "\n",
        "b = [[10, 20, 30], [1, 2, 3]]\n",
        "print(b[1][2]) #출력: 3\n",
        "\n",
        "'''\n",
        "이 코드는 중첩된 리스트(리스트 안에 리스트)를 다루고 있습니다. 코드를 단계별로 설명하겠습니다:\n",
        "\n",
        "1. `b = [[10, 20, 30], [1, 2, 3]]`: 여기서 `b`는 두 개의 리스트를 원소로 갖는 리스트입니다. 첫 번째 내부 리스트는 `[10, 20, 30]`이고, 두 번째 내부 리스트는 `[1, 2, 3]`입니다.\n",
        "\n",
        "2. `print(b[1][2])`: 이 부분은 `b` 리스트의 원소에 접근하는 방식입니다.\n",
        "   - `b[1]`: 여기서 `b[1]`은 `b`의 두 번째 원소를 의미합니다. 파이썬에서 리스트의 인덱스는 0부터 시작하므로, `b[1]`은 `[1, 2, 3]`입니다.\n",
        "   - `b[1][2]`: 이제 `b[1]`이 `[1, 2, 3]`이므로, 여기서 `[2]`는 이 리스트의 세 번째 원소를 가리킵니다. 이 역시 인덱스가 0부터 시작하므로, `[1, 2, 3]`의 세 번째 원소는 `3`입니다.\n",
        "\n",
        "따라서 `print(b[1][2])`는 `3`을 출력합니다. 이는 `b`의 두 번째 리스트 `[1, 2, 3]`의 세 번째 원소에 해당합니다.\n",
        "'''"
      ],
      "metadata": {
        "colab": {
          "base_uri": "https://localhost:8080/"
        },
        "id": "uLRBjeMhhcwU",
        "outputId": "1cb1ee3d-6ea6-4228-8dde-768051f15754"
      },
      "execution_count": 31,
      "outputs": [
        {
          "output_type": "stream",
          "name": "stdout",
          "text": [
            "3\n"
          ]
        }
      ]
    },
    {
      "cell_type": "code",
      "source": [
        "print(b)\n",
        "print(b[0])\n",
        "print(b[1])\n",
        "print(b[0][2])"
      ],
      "metadata": {
        "colab": {
          "base_uri": "https://localhost:8080/"
        },
        "id": "TZONcUPQhl7i",
        "outputId": "7a690607-1f03-405c-df89-051cc39400f3"
      },
      "execution_count": 32,
      "outputs": [
        {
          "output_type": "stream",
          "name": "stdout",
          "text": [
            "[[10, 20, 30], [1, 2, 3]]\n",
            "[10, 20, 30]\n",
            "[1, 2, 3]\n",
            "30\n"
          ]
        }
      ]
    },
    {
      "cell_type": "code",
      "source": [
        "나이 직업구분\n",
        "10    1\n",
        "20    2\n",
        "30    3"
      ],
      "metadata": {
        "id": "pL2tyGvniSbK"
      },
      "execution_count": null,
      "outputs": []
    },
    {
      "cell_type": "code",
      "source": [
        "# 리스트의 덧셈\n",
        "a = [1, 2, 3, 4, 5] # +[6,7,8]\n",
        "b = [6, 7, 8]\n",
        "\n",
        "print(a + b) #출력: [1, 2, 3, 4, 5, 6, 7, 8]"
      ],
      "metadata": {
        "colab": {
          "base_uri": "https://localhost:8080/"
        },
        "id": "JT7LVpjQiYj6",
        "outputId": "b024fdf4-f4c6-42ec-848e-ff0e5e83233a"
      },
      "execution_count": 34,
      "outputs": [
        {
          "output_type": "stream",
          "name": "stdout",
          "text": [
            "[1, 2, 3, 4, 5, 6, 7, 8]\n"
          ]
        }
      ]
    },
    {
      "cell_type": "code",
      "source": [
        "I = [1, 2, 3]\n",
        "print(type(I))\n",
        "print(I)\n",
        "print(I * 3)\n",
        "print(I + I)"
      ],
      "metadata": {
        "colab": {
          "base_uri": "https://localhost:8080/"
        },
        "id": "UH5MkDkdihBB",
        "outputId": "6b2be1b0-4948-48fc-e1ed-f3e5f54fe686"
      },
      "execution_count": 35,
      "outputs": [
        {
          "output_type": "stream",
          "name": "stdout",
          "text": [
            "<class 'list'>\n",
            "[1, 2, 3]\n",
            "[1, 2, 3, 1, 2, 3, 1, 2, 3]\n",
            "[1, 2, 3, 1, 2, 3]\n"
          ]
        }
      ]
    },
    {
      "cell_type": "code",
      "source": [
        "from re import L\n",
        "import numpy as np\n",
        "\n",
        "I = [1, 2, 3]\n",
        "I = np.array(I)\n",
        "print(I)\n",
        "print(type(I))\n",
        "print(I * 3)\n",
        "print(I + I)\n",
        "# 너무 당연하게 요소를 붙이는 것이다라고 생각하지 않아야함"
      ],
      "metadata": {
        "colab": {
          "base_uri": "https://localhost:8080/"
        },
        "id": "Jr2R55_Six8a",
        "outputId": "f937c0ac-533f-492c-a025-213af5d7d6a5"
      },
      "execution_count": 36,
      "outputs": [
        {
          "output_type": "stream",
          "name": "stdout",
          "text": [
            "[1 2 3]\n",
            "<class 'numpy.ndarray'>\n",
            "[3 6 9]\n",
            "[2 4 6]\n"
          ]
        }
      ]
    },
    {
      "cell_type": "code",
      "source": [
        "# 슬라이싱 실습\n",
        "\n",
        "I = [1, 2, 3, 4, 5]\n",
        "\n",
        "print(I[:])     # 출력 : [1, 2, 3, 4, 5]"
      ],
      "metadata": {
        "colab": {
          "base_uri": "https://localhost:8080/"
        },
        "id": "ZNewGGANjVPa",
        "outputId": "bc214e30-8720-446a-d492-0248fa339e88"
      },
      "execution_count": 38,
      "outputs": [
        {
          "output_type": "stream",
          "name": "stdout",
          "text": [
            "[1, 2, 3, 4, 5]\n"
          ]
        }
      ]
    },
    {
      "cell_type": "code",
      "source": [
        "print(I[::-1]) # 출력 : [1, 3, 5]"
      ],
      "metadata": {
        "colab": {
          "base_uri": "https://localhost:8080/"
        },
        "id": "bzv7szJVjf7C",
        "outputId": "8e0aee5f-1f22-47f1-9c53-956787268c5c"
      },
      "execution_count": 39,
      "outputs": [
        {
          "output_type": "stream",
          "name": "stdout",
          "text": [
            "[5, 4, 3, 2, 1]\n"
          ]
        }
      ]
    },
    {
      "cell_type": "code",
      "source": [
        "print(I[0:4][::-1]) # 출력 : [4, 3, 2, 1]"
      ],
      "metadata": {
        "colab": {
          "base_uri": "https://localhost:8080/"
        },
        "id": "LK7LWLyljnGR",
        "outputId": "e814d3e7-339b-493a-a496-14f9d934704c"
      },
      "execution_count": 40,
      "outputs": [
        {
          "output_type": "stream",
          "name": "stdout",
          "text": [
            "[4, 3, 2, 1]\n"
          ]
        }
      ]
    },
    {
      "cell_type": "code",
      "source": [
        "# 데이터가 크다. 내가 원하는 대로 데이터를 추출하고 싶다.\n",
        "# 1. 샘플링 -> 1억개 데이터 -> 천개! -> 리스트 슬라이싱! 메서드! -> 1억개 데이터!"
      ],
      "metadata": {
        "id": "xm78m8f1jvDR"
      },
      "execution_count": null,
      "outputs": []
    },
    {
      "cell_type": "code",
      "source": [
        "I = [1, 2, 3, 4, 5]\n",
        "print(I[10:20]) # 출력: []\n",
        "\n",
        "'''\n",
        "이 Python 코드의 특정 부분은 리스트 `I`에서 슬라이싱을 사용하여 요소들을 추출하고 있습니다. 리스트 `I`는 `[1, 2, 3, 4, 5]`로 정의되어 있습니다.\n",
        "\n",
        "`print(I[10:20])` 부분을 살펴보겠습니다:\n",
        "- `I[10:20]`는 리스트 `I`에서 인덱스 10부터 인덱스 19까지의 요소들을 추출하라는 의미입니다.\n",
        "- 하지만, 리스트 `I`의 길이는 5이므로, 인덱스 10부터 19까지의 요소는 존재하지 않습니다.\n",
        "- 파이썬에서 리스트 슬라이싱은 범위를 벗어난 인덱스에 대해 오류를 발생시키지 않고, 대신 빈 리스트 `[]`를 반환합니다.\n",
        "- 따라서, `print(I[10:20])`는 빈 리스트 `[]`를 출력합니다.\n",
        "\n",
        "이 코드는 파이썬의 리스트 슬라이싱 기능이 범위를 벗어난 인덱스에 유연하게 대응하는 방식을 보여주는 좋은 예입니다.\n",
        "'''"
      ],
      "metadata": {
        "colab": {
          "base_uri": "https://localhost:8080/"
        },
        "id": "-mYupQZKj_D_",
        "outputId": "d3a872f3-74b7-4e40-8ee8-59c6b78253b9"
      },
      "execution_count": 41,
      "outputs": [
        {
          "output_type": "stream",
          "name": "stdout",
          "text": [
            "[]\n"
          ]
        }
      ]
    },
    {
      "cell_type": "code",
      "source": [],
      "metadata": {
        "id": "yfhuJSRxkF4B"
      },
      "execution_count": null,
      "outputs": []
    }
  ]
}