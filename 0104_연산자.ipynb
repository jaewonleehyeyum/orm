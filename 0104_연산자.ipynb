{
  "nbformat": 4,
  "nbformat_minor": 0,
  "metadata": {
    "colab": {
      "provenance": [],
      "authorship_tag": "ABX9TyMEmMhRVhkTwhYqFmxBrBKM",
      "include_colab_link": true
    },
    "kernelspec": {
      "name": "python3",
      "display_name": "Python 3"
    },
    "language_info": {
      "name": "python"
    }
  },
  "cells": [
    {
      "cell_type": "markdown",
      "metadata": {
        "id": "view-in-github",
        "colab_type": "text"
      },
      "source": [
        "<a href=\"https://colab.research.google.com/github/jaewonleehyeyum/orm/blob/main/0104_%EC%97%B0%EC%82%B0%EC%9E%90.ipynb\" target=\"_parent\"><img src=\"https://colab.research.google.com/assets/colab-badge.svg\" alt=\"Open In Colab\"/></a>"
      ]
    },
    {
      "cell_type": "markdown",
      "source": [
        "# 1. 논리연산"
      ],
      "metadata": {
        "id": "ByT0tuWvA8n2"
      }
    },
    {
      "cell_type": "markdown",
      "source": [
        "* 여러분들께서 휴면고객에 대해서 데이터를 받아서 가망고객\n",
        "\n",
        "휴면고객 100,000명(DB) ->\n",
        "1차. 20~40먼저 거르면 -> 4만명(-6만명) ->\n",
        "2차. 10만원 이하를 사용한 고객 거르면 -> 2만명(-2만명)\n",
        "3차. 3번 이하로 구매한 고객 -> 1만명(-1만명)\n",
        "-----> 1만명에 대해서만"
      ],
      "metadata": {
        "id": "4FJn_X4cBLB2"
      }
    },
    {
      "cell_type": "code",
      "execution_count": null,
      "metadata": {
        "colab": {
          "base_uri": "https://localhost:8080/"
        },
        "id": "b5FriiNyAplN",
        "outputId": "b6444def-b545-486a-dad2-c9a024e51efd"
      },
      "outputs": [
        {
          "output_type": "stream",
          "name": "stdout",
          "text": [
            "test1 함수 호출!\n",
            "False\n"
          ]
        }
      ],
      "source": [
        "# 예시\n",
        "\n",
        "def test1():\n",
        "    print(\"test1 함수 호출!\")\n",
        "    return False\n",
        "\n",
        "def test2():\n",
        "    print(\"test2 함수 호출!\")\n",
        "    return True\n",
        "\n",
        "# 가장 많이 걸러지는 조건을 맨 앞에 두어야 리소스를 줄일 수 있다.\n",
        "\n",
        "result = test1() and test2()\n",
        "print(result) # 결과: False"
      ]
    },
    {
      "cell_type": "code",
      "source": [
        "# 퀴즈 1\n",
        "True and False # and는 두 가지 조건 모두 True여야만 True 출력한다."
      ],
      "metadata": {
        "colab": {
          "base_uri": "https://localhost:8080/"
        },
        "id": "W8GW9biTPeNs",
        "outputId": "822eba63-2a5b-4b09-c9dc-611a8850a0fe"
      },
      "execution_count": 1,
      "outputs": [
        {
          "output_type": "execute_result",
          "data": {
            "text/plain": [
              "False"
            ]
          },
          "metadata": {},
          "execution_count": 1
        }
      ]
    },
    {
      "cell_type": "code",
      "source": [
        "# 퀴즈 2\n",
        "False or True # or은 둘중에 한가지 조건만 True여도 True를 출력한다."
      ],
      "metadata": {
        "colab": {
          "base_uri": "https://localhost:8080/"
        },
        "id": "0BNK3D-7Pnzw",
        "outputId": "a8aa2004-a2c9-4af4-9b5d-a808bd53f66d"
      },
      "execution_count": 2,
      "outputs": [
        {
          "output_type": "execute_result",
          "data": {
            "text/plain": [
              "True"
            ]
          },
          "metadata": {},
          "execution_count": 2
        }
      ]
    },
    {
      "cell_type": "code",
      "source": [
        "# 퀴즈 4\n",
        "0 and 1"
      ],
      "metadata": {
        "colab": {
          "base_uri": "https://localhost:8080/"
        },
        "id": "FQvCoglaPwH-",
        "outputId": "c0cd19ab-d1f4-4799-ace6-626fa196e6c0"
      },
      "execution_count": 3,
      "outputs": [
        {
          "output_type": "execute_result",
          "data": {
            "text/plain": [
              "0"
            ]
          },
          "metadata": {},
          "execution_count": 3
        }
      ]
    },
    {
      "cell_type": "code",
      "source": [
        "bool(0 and 1) #은 False를 반환"
      ],
      "metadata": {
        "colab": {
          "base_uri": "https://localhost:8080/"
        },
        "id": "ynBCP-cyP0q8",
        "outputId": "df89151d-59b0-4865-918c-a7e59b6a40b6"
      },
      "execution_count": 4,
      "outputs": [
        {
          "output_type": "execute_result",
          "data": {
            "text/plain": [
              "False"
            ]
          },
          "metadata": {},
          "execution_count": 4
        }
      ]
    },
    {
      "cell_type": "markdown",
      "source": [
        "# 2. 할당연산자"
      ],
      "metadata": {
        "id": "S9hRgEIFP7MA"
      }
    },
    {
      "cell_type": "code",
      "source": [
        "x = 5\n",
        "y = 2\n",
        "z = 10\n",
        "\n",
        "x1 = y * z # 20 = 2 * 10\n",
        "x2 = x + (y * z) # 25 = 5 + (2*10)\n",
        "x += y * z # y * z 연산 후 x에 값을 더한 뒤에 할당한다.\n",
        "\n",
        "print(x1)\n",
        "print(x2)\n",
        "print(x)"
      ],
      "metadata": {
        "colab": {
          "base_uri": "https://localhost:8080/"
        },
        "id": "FO0WJDxDP-OG",
        "outputId": "31ca0b03-f76d-4373-980b-55a1d1e377f3"
      },
      "execution_count": 8,
      "outputs": [
        {
          "output_type": "stream",
          "name": "stdout",
          "text": [
            "20\n",
            "25\n",
            "25\n"
          ]
        }
      ]
    },
    {
      "cell_type": "code",
      "source": [
        "x += y * z\n",
        "print(x)"
      ],
      "metadata": {
        "colab": {
          "base_uri": "https://localhost:8080/"
        },
        "id": "Y1bE_-QVQhJn",
        "outputId": "ec098399-54c0-4f3c-c06b-34c06ce85d69"
      },
      "execution_count": 10,
      "outputs": [
        {
          "output_type": "stream",
          "name": "stdout",
          "text": [
            "65\n"
          ]
        }
      ]
    },
    {
      "cell_type": "code",
      "source": [
        "x = 5\n",
        "y = 2\n",
        "x //= y\n",
        "print(x)"
      ],
      "metadata": {
        "colab": {
          "base_uri": "https://localhost:8080/"
        },
        "id": "NlnQcNarQxlg",
        "outputId": "bed6d296-1c99-48d8-f7be-217fc0c55eff"
      },
      "execution_count": 11,
      "outputs": [
        {
          "output_type": "stream",
          "name": "stdout",
          "text": [
            "2\n"
          ]
        }
      ]
    },
    {
      "cell_type": "code",
      "source": [
        "x = 5\n",
        "y = 2\n",
        "x /= y\n",
        "print(x)"
      ],
      "metadata": {
        "colab": {
          "base_uri": "https://localhost:8080/"
        },
        "id": "OBEub5EIQ4pJ",
        "outputId": "79c4df2c-4d1b-4e9c-a941-416856e60654"
      },
      "execution_count": 12,
      "outputs": [
        {
          "output_type": "stream",
          "name": "stdout",
          "text": [
            "2.5\n"
          ]
        }
      ]
    },
    {
      "cell_type": "code",
      "source": [
        "a = 2\n",
        "a **= 3\n",
        "print(a)"
      ],
      "metadata": {
        "colab": {
          "base_uri": "https://localhost:8080/"
        },
        "id": "2xdLJDYHRAJu",
        "outputId": "ffa7d20e-781d-43d3-83b7-55b2f27b9a98"
      },
      "execution_count": 13,
      "outputs": [
        {
          "output_type": "stream",
          "name": "stdout",
          "text": [
            "8\n"
          ]
        }
      ]
    },
    {
      "cell_type": "markdown",
      "source": [
        "# 3. 식별연산"
      ],
      "metadata": {
        "id": "txno3O_pRFSu"
      }
    },
    {
      "cell_type": "code",
      "source": [
        "# 1. 동일 인물 확인\n",
        "\n",
        "coffee_employee = \"Brand\"\n",
        "orange_employee = \"Brand\"\n",
        "\n",
        "print(coffee_employee is orange_employee) # 주소가 같은지\n",
        "print(coffee_employee == orange_employee) # 실제 값이 같은지"
      ],
      "metadata": {
        "colab": {
          "base_uri": "https://localhost:8080/"
        },
        "id": "-fxabc0TRHhB",
        "outputId": "f7c2637d-a1cd-47a8-ec14-3fda93938190"
      },
      "execution_count": 14,
      "outputs": [
        {
          "output_type": "stream",
          "name": "stdout",
          "text": [
            "True\n",
            "True\n"
          ]
        }
      ]
    },
    {
      "cell_type": "code",
      "source": [
        "print(id(coffee_employee))\n",
        "print(id(orange_employee))"
      ],
      "metadata": {
        "colab": {
          "base_uri": "https://localhost:8080/"
        },
        "id": "4thCucUdRYsy",
        "outputId": "8f3dca28-5463-4c02-ee94-f9047dfb9233"
      },
      "execution_count": 15,
      "outputs": [
        {
          "output_type": "stream",
          "name": "stdout",
          "text": [
            "136715001901488\n",
            "136715001901488\n"
          ]
        }
      ]
    },
    {
      "cell_type": "code",
      "source": [
        "# 2. ~5 ~ 256 같은 주소를 바라고 있지만 그 범위 이하 이상일때는 주소가 달라진다.\n",
        "\n",
        "coffee_employee = 0\n",
        "coffee_employee = 0\n",
        "\n",
        "print(coffee_employee is orange_employee) # 주소가 같은지\n",
        "print(orange_employee == orange_employee) # 실제 값이 같은지"
      ],
      "metadata": {
        "colab": {
          "base_uri": "https://localhost:8080/"
        },
        "id": "XBH1nSADRebL",
        "outputId": "6c33c586-a4fc-4dd5-a074-a1d1c3f18f26"
      },
      "execution_count": 17,
      "outputs": [
        {
          "output_type": "stream",
          "name": "stdout",
          "text": [
            "True\n",
            "True\n"
          ]
        }
      ]
    },
    {
      "cell_type": "code",
      "source": [
        "coffee_employee = -6\n",
        "orange_employee = -6\n",
        "\n",
        "print(coffee_employee is orange_employee) # 주소가 같은지\n",
        "print(coffee_employee == orange_employee) # 실제 값이 같은지"
      ],
      "metadata": {
        "colab": {
          "base_uri": "https://localhost:8080/"
        },
        "id": "F3ocHctbRzQP",
        "outputId": "c62f7913-6206-4cf7-9f3d-2fb3f1456902"
      },
      "execution_count": 19,
      "outputs": [
        {
          "output_type": "stream",
          "name": "stdout",
          "text": [
            "False\n",
            "True\n"
          ]
        }
      ]
    },
    {
      "cell_type": "code",
      "source": [
        "coffee_employee = 1000\n",
        "orange_employee = 1000\n",
        "\n",
        "print(coffee_employee is orange_employee) # 주소가 같은지\n",
        "print(coffee_employee == orange_employee) # 실제 값이 같은지"
      ],
      "metadata": {
        "colab": {
          "base_uri": "https://localhost:8080/"
        },
        "id": "vs923NwCSMUX",
        "outputId": "8ebd59e2-9d53-44e3-bd7c-0bd59e43d5f2"
      },
      "execution_count": 20,
      "outputs": [
        {
          "output_type": "stream",
          "name": "stdout",
          "text": [
            "False\n",
            "True\n"
          ]
        }
      ]
    },
    {
      "cell_type": "code",
      "source": [
        "#2. 예시 2\n",
        "\n",
        "a = [1, 2, 3] #리스트 형인 [1, 2, 3]\n",
        "b = [1, 2, 3] #리스트 형인 [1, 2, 3]\n",
        "c = a #리스트 형인 [1, 2, 3] 다만 a에 있는 것을 재할당!"
      ],
      "metadata": {
        "id": "OhMl8zoJSaRX"
      },
      "execution_count": 21,
      "outputs": []
    },
    {
      "cell_type": "code",
      "source": [
        "print(a,b,c)"
      ],
      "metadata": {
        "colab": {
          "base_uri": "https://localhost:8080/"
        },
        "id": "WELqIs7xSqsp",
        "outputId": "44bf6b86-233a-4041-f2ca-7355d2e2ed23"
      },
      "execution_count": 22,
      "outputs": [
        {
          "output_type": "stream",
          "name": "stdout",
          "text": [
            "[1, 2, 3] [1, 2, 3] [1, 2, 3]\n"
          ]
        }
      ]
    },
    {
      "cell_type": "code",
      "source": [
        "print('a == b', a == b)"
      ],
      "metadata": {
        "colab": {
          "base_uri": "https://localhost:8080/"
        },
        "id": "CeNCSI0jSuAu",
        "outputId": "d98a7c62-89bf-4dc9-aaca-350602f7551b"
      },
      "execution_count": 23,
      "outputs": [
        {
          "output_type": "stream",
          "name": "stdout",
          "text": [
            "a == b True\n"
          ]
        }
      ]
    },
    {
      "cell_type": "code",
      "source": [
        "print('a == c', a == c)"
      ],
      "metadata": {
        "colab": {
          "base_uri": "https://localhost:8080/"
        },
        "id": "kAyOnHsCS0c8",
        "outputId": "23e96461-a772-40b5-bdd3-7f6277f8ddf2"
      },
      "execution_count": 24,
      "outputs": [
        {
          "output_type": "stream",
          "name": "stdout",
          "text": [
            "a == c True\n"
          ]
        }
      ]
    },
    {
      "cell_type": "code",
      "source": [
        "print('b == c', b == c)"
      ],
      "metadata": {
        "colab": {
          "base_uri": "https://localhost:8080/"
        },
        "id": "qnMkNHruS5kp",
        "outputId": "5f8e8ba7-8a54-4c23-c72a-9ae857a824af"
      },
      "execution_count": 25,
      "outputs": [
        {
          "output_type": "stream",
          "name": "stdout",
          "text": [
            "b == c True\n"
          ]
        }
      ]
    },
    {
      "cell_type": "code",
      "source": [
        "print('a is b', a is b)"
      ],
      "metadata": {
        "colab": {
          "base_uri": "https://localhost:8080/"
        },
        "id": "6xEgSbleS-Xy",
        "outputId": "9f8b754e-3b1c-4250-c900-e7e80ac62882"
      },
      "execution_count": 26,
      "outputs": [
        {
          "output_type": "stream",
          "name": "stdout",
          "text": [
            "a is b False\n"
          ]
        }
      ]
    },
    {
      "cell_type": "code",
      "source": [
        "print('a is c', a is c)"
      ],
      "metadata": {
        "colab": {
          "base_uri": "https://localhost:8080/"
        },
        "id": "fWcckLiqTFQX",
        "outputId": "2ae6646b-8555-4f07-f883-efcddea35e6a"
      },
      "execution_count": 27,
      "outputs": [
        {
          "output_type": "stream",
          "name": "stdout",
          "text": [
            "a is c True\n"
          ]
        }
      ]
    },
    {
      "cell_type": "code",
      "source": [
        "print('b is c', b is c)"
      ],
      "metadata": {
        "colab": {
          "base_uri": "https://localhost:8080/"
        },
        "id": "qJKWy9iqTJxm",
        "outputId": "e4818d2c-4193-47bf-b6c5-10b5c1d16d94"
      },
      "execution_count": 28,
      "outputs": [
        {
          "output_type": "stream",
          "name": "stdout",
          "text": [
            "b is c False\n"
          ]
        }
      ]
    },
    {
      "cell_type": "code",
      "source": [
        "print(id(a),id(b),id(c))"
      ],
      "metadata": {
        "colab": {
          "base_uri": "https://localhost:8080/"
        },
        "id": "xjxdH26XTOBp",
        "outputId": "a385379e-76d0-436b-f08b-f8208499efbd"
      },
      "execution_count": 29,
      "outputs": [
        {
          "output_type": "stream",
          "name": "stdout",
          "text": [
            "136715000856384 136715000851968 136715000856384\n"
          ]
        }
      ]
    },
    {
      "cell_type": "markdown",
      "source": [
        "# 4. 멤버 연산"
      ],
      "metadata": {
        "id": "SijgBE4BQIQn"
      }
    },
    {
      "cell_type": "code",
      "source": [
        "# 기본 예시\n",
        "a = [1, 2, 3, 4]\n",
        "b = [1, 2, 3, 4]\n",
        "c = 'hello world'\n",
        "\n",
        "print(1 in a) # 출력: True"
      ],
      "metadata": {
        "colab": {
          "base_uri": "https://localhost:8080/"
        },
        "id": "gzmHCJ59Wy1p",
        "outputId": "d8641dc4-9e40-434d-f8c3-8b2b61de171f"
      },
      "execution_count": 30,
      "outputs": [
        {
          "output_type": "stream",
          "name": "stdout",
          "text": [
            "True\n"
          ]
        }
      ]
    },
    {
      "cell_type": "code",
      "source": [
        "print(0 not in a) # 출력: True"
      ],
      "metadata": {
        "colab": {
          "base_uri": "https://localhost:8080/"
        },
        "id": "3e5me4ifA7T4",
        "outputId": "23073bc0-ee54-4cea-f085-8a472e229737"
      },
      "execution_count": 31,
      "outputs": [
        {
          "output_type": "stream",
          "name": "stdout",
          "text": [
            "True\n"
          ]
        }
      ]
    },
    {
      "cell_type": "code",
      "source": [
        "print([2] in b) # 출력: False"
      ],
      "metadata": {
        "colab": {
          "base_uri": "https://localhost:8080/"
        },
        "id": "fXX-Ff4iXL2B",
        "outputId": "782f3791-f16c-4bb1-8184-48ebae3e5308"
      },
      "execution_count": 32,
      "outputs": [
        {
          "output_type": "stream",
          "name": "stdout",
          "text": [
            "False\n"
          ]
        }
      ]
    },
    {
      "cell_type": "code",
      "source": [
        "# 자료형태를 잘 파악하여 In을 사용해야 함\n",
        "a_1 = [[1,2], 3, 4]\n",
        "#리스트 안에 있는 값은 정수형 1, 3, 4 / 리스트형 [2]"
      ],
      "metadata": {
        "id": "u_Qo6b8SXibi"
      },
      "execution_count": 34,
      "outputs": []
    },
    {
      "cell_type": "code",
      "source": [
        "print([2] in a_1) # 출력: False"
      ],
      "metadata": {
        "colab": {
          "base_uri": "https://localhost:8080/"
        },
        "id": "Yq4MvdxET-yb",
        "outputId": "8a35e136-2626-4723-c92f-62d4674a7cf6"
      },
      "execution_count": 36,
      "outputs": [
        {
          "output_type": "stream",
          "name": "stdout",
          "text": [
            "False\n"
          ]
        }
      ]
    },
    {
      "cell_type": "code",
      "source": [
        "print([1, 2] in a_1) # 출력: True"
      ],
      "metadata": {
        "colab": {
          "base_uri": "https://localhost:8080/"
        },
        "id": "ZdbDqR0SUVD-",
        "outputId": "5020152a-1bc8-40e6-c0f6-09fa7d082b82"
      },
      "execution_count": 37,
      "outputs": [
        {
          "output_type": "stream",
          "name": "stdout",
          "text": [
            "True\n"
          ]
        }
      ]
    },
    {
      "cell_type": "code",
      "source": [
        "print('h' in c) #출력: True\n",
        "print('hello ' in c) #출력: True"
      ],
      "metadata": {
        "colab": {
          "base_uri": "https://localhost:8080/"
        },
        "id": "4In5E6iWUdan",
        "outputId": "a99f2bff-ea16-4666-8171-ff66831469fa"
      },
      "execution_count": 38,
      "outputs": [
        {
          "output_type": "stream",
          "name": "stdout",
          "text": [
            "True\n",
            "True\n"
          ]
        }
      ]
    },
    {
      "cell_type": "markdown",
      "source": [
        "# 5. 연산자 순서"
      ],
      "metadata": {
        "id": "7DW-_qqrUyfK"
      }
    },
    {
      "cell_type": "code",
      "source": [
        "-2 ** 2 # 출력: -4, -(2 ** 2)"
      ],
      "metadata": {
        "colab": {
          "base_uri": "https://localhost:8080/"
        },
        "id": "AT4BQsBUU0HM",
        "outputId": "a0ef5f98-c6b7-4459-b978-ee27df228700"
      },
      "execution_count": 39,
      "outputs": [
        {
          "output_type": "execute_result",
          "data": {
            "text/plain": [
              "-4"
            ]
          },
          "metadata": {},
          "execution_count": 39
        }
      ]
    },
    {
      "cell_type": "code",
      "source": [
        "(-2) ** 2"
      ],
      "metadata": {
        "colab": {
          "base_uri": "https://localhost:8080/"
        },
        "id": "cGKmX-2gU81F",
        "outputId": "468b9d99-e993-4340-873f-2740965da77e"
      },
      "execution_count": 40,
      "outputs": [
        {
          "output_type": "execute_result",
          "data": {
            "text/plain": [
              "4"
            ]
          },
          "metadata": {},
          "execution_count": 40
        }
      ]
    },
    {
      "cell_type": "code",
      "source": [
        "(True * True) and (True + False)"
      ],
      "metadata": {
        "colab": {
          "base_uri": "https://localhost:8080/"
        },
        "id": "ssSOyZ0kVQS0",
        "outputId": "f8058231-a16f-487f-eb9d-b6a0da5872a1"
      },
      "execution_count": 42,
      "outputs": [
        {
          "output_type": "execute_result",
          "data": {
            "text/plain": [
              "1"
            ]
          },
          "metadata": {},
          "execution_count": 42
        }
      ]
    },
    {
      "cell_type": "code",
      "source": [
        "a = 10\n",
        "a *= 10 + 100\n",
        "a # 출력: 1100"
      ],
      "metadata": {
        "colab": {
          "base_uri": "https://localhost:8080/"
        },
        "id": "B8Xevo1RVePK",
        "outputId": "2476b424-d7c5-4784-a9ef-da9b66ecc6b9"
      },
      "execution_count": 43,
      "outputs": [
        {
          "output_type": "execute_result",
          "data": {
            "text/plain": [
              "1100"
            ]
          },
          "metadata": {},
          "execution_count": 43
        }
      ]
    },
    {
      "cell_type": "code",
      "source": [
        "# 퀴즈\n",
        "\n",
        "fruits = [\"사과\", \"바나나\", \"포도\"]\n",
        "print(\"체리\" not in fruits)"
      ],
      "metadata": {
        "colab": {
          "base_uri": "https://localhost:8080/"
        },
        "id": "4qft8sGYVune",
        "outputId": "32b66b46-cbe1-402c-ab3e-c23e251cc008"
      },
      "execution_count": 44,
      "outputs": [
        {
          "output_type": "stream",
          "name": "stdout",
          "text": [
            "True\n"
          ]
        }
      ]
    },
    {
      "cell_type": "code",
      "source": [
        "greeting = \"안녕하세요\"\n",
        "print(\"안녕\" in greeting)"
      ],
      "metadata": {
        "colab": {
          "base_uri": "https://localhost:8080/"
        },
        "id": "LhZwl05EV4L5",
        "outputId": "ac28411b-92c2-48e9-e51e-f60ce54c1c6a"
      },
      "execution_count": 45,
      "outputs": [
        {
          "output_type": "stream",
          "name": "stdout",
          "text": [
            "True\n"
          ]
        }
      ]
    },
    {
      "cell_type": "code",
      "source": [
        "result = 2 + 3 * 4\n",
        "print(result)"
      ],
      "metadata": {
        "colab": {
          "base_uri": "https://localhost:8080/"
        },
        "id": "eo8YQq7LV9YV",
        "outputId": "34b02978-61ca-4b46-cbb1-bd2c829662dc"
      },
      "execution_count": 46,
      "outputs": [
        {
          "output_type": "stream",
          "name": "stdout",
          "text": [
            "14\n"
          ]
        }
      ]
    },
    {
      "cell_type": "code",
      "source": [
        "result = 10 / 2 * 4 - 3\n",
        "print(result)"
      ],
      "metadata": {
        "colab": {
          "base_uri": "https://localhost:8080/"
        },
        "id": "sJaIg4jsWEMP",
        "outputId": "4171256a-46f4-4fe8-87f7-bd5df172cd34"
      },
      "execution_count": 47,
      "outputs": [
        {
          "output_type": "stream",
          "name": "stdout",
          "text": [
            "17.0\n"
          ]
        }
      ]
    },
    {
      "cell_type": "code",
      "source": [
        "a = 17\n",
        "b = 17.0"
      ],
      "metadata": {
        "id": "dhmH8Z7IWJ6O"
      },
      "execution_count": 48,
      "outputs": []
    },
    {
      "cell_type": "code",
      "source": [
        "print(a == b) # 확인 요망"
      ],
      "metadata": {
        "colab": {
          "base_uri": "https://localhost:8080/"
        },
        "id": "EKPPrqHGWMgs",
        "outputId": "33c3947a-9bd2-43e5-ca6a-bd9a6c8941dc"
      },
      "execution_count": 49,
      "outputs": [
        {
          "output_type": "stream",
          "name": "stdout",
          "text": [
            "True\n"
          ]
        }
      ]
    },
    {
      "cell_type": "code",
      "source": [
        "result = 2 ** 3 * 3 + 4 / 2 - 5\n",
        "print(result)\n",
        "\n",
        "'''\n",
        "수학에서 계산을 할 때, 우선순위 규칙이 중요합니다. 주어진 식 `2 ** 3 * 3 + 4 / 2 - 5`의 계산 순서는 다음과 같습니다:\n",
        "1. **지수 계산 (Exponentiation)**: 가장 높은 우선순위를 갖습니다. 이 경우 `2 ** 3`가 먼저 계산됩니다. 2의 3제곱은 8입니다.\n",
        "2. **곱셈과 나눗셈 (Multiplication and Division)**: 다음으로 높은 우선순위를 가집니다. 이들은 왼쪽에서 오른쪽 순으로 계산됩니다. 여기서 먼저 `8 * 3`이 계산되어 24가 됩니다. 그 다음 `4 / 2`가 계산되어 2가 됩니다.\n",
        "3. **덧셈과 뺄셈 (Addition and Subtraction)**: 가장 낮은 우선순위를 가집니다. 이들 역시 왼쪽에서 오른쪽 순으로 계산됩니다. `24 + 2`가 먼저 계산되어 26이 되고, 마지막으로 `26 - 5`가 계산되어 최종 결과는 21이 됩니다.\n",
        "\n",
        "따라서 최종 계산 순서는 다음과 같습니다:\n",
        "- `2 ** 3` → 8\n",
        "- `8 * 3` → 24\n",
        "- `4 / 2` → 2\n",
        "- `24 + 2` → 26\n",
        "- `26 - 5` → 21\n",
        "\n",
        "그래서 최종 결과는 21입니다.\n",
        "'''"
      ],
      "metadata": {
        "colab": {
          "base_uri": "https://localhost:8080/"
        },
        "id": "WhIS-QERWQoP",
        "outputId": "9bdb2eea-2737-4cea-a1be-9086572ffc14"
      },
      "execution_count": 50,
      "outputs": [
        {
          "output_type": "stream",
          "name": "stdout",
          "text": [
            "21.0\n"
          ]
        }
      ]
    },
    {
      "cell_type": "markdown",
      "source": [
        "# 퀴즈"
      ],
      "metadata": {
        "id": "iy-4wmAKXQ9a"
      }
    },
    {
      "cell_type": "code",
      "source": [
        "#1번\n",
        "a = 100\n",
        "print((a > 100) and (a < 200)) # false\n",
        "print((a > 100) or (a < 200)) # True\n",
        "print((a >= 100) and (a <= 200)) # True\n",
        "print((a >= 100) or (a <= 200)) # True"
      ],
      "metadata": {
        "colab": {
          "base_uri": "https://localhost:8080/"
        },
        "id": "883aRVH4XShq",
        "outputId": "bea2a4ae-036c-448e-964d-6fb2cbc12f00"
      },
      "execution_count": 51,
      "outputs": [
        {
          "output_type": "stream",
          "name": "stdout",
          "text": [
            "False\n",
            "True\n",
            "True\n",
            "True\n"
          ]
        }
      ]
    },
    {
      "cell_type": "code",
      "source": [
        "#2번\n",
        "b = 25\n",
        "print((b % 2 == 0) and (b % 5 == 0))\n",
        "\n",
        "'''\n",
        "이 코드는 변수 `b`의 값이 25일 때, 두 조건을 검사하여 논리적인 AND 연산을 수행합니다. 코드를 분석해 보겠습니다:\n",
        "\n",
        "1. `b = 25`: 변수 `b`에 25라는 값이 할당됩니다.\n",
        "\n",
        "2. `(b % 2 == 0) and (b % 5 == 0)`: 이 부분은 두 개의 조건을 검사하고, 두 조건 모두 참(True)일 때만 전체 표현식이 참(True)가 되는 논리적 AND 연산을 수행합니다.\n",
        "   - `b % 2 == 0`: 이것은 `b`를 2로 나눈 나머지가 0인지를 검사합니다. 즉, `b`가 짝수인지 확인하는 것입니다. `b`가 25이므로, 이 조건은 거짓(False)입니다.\n",
        "   - `b % 5 == 0`: 이것은 `b`를 5로 나눈 나머지가 0인지를 검사합니다. 즉, `b`가 5의 배수인지 확인하는 것입니다. `b`가 25이므로, 이 조건은 참(True)입니다.\n",
        "\n",
        "그러나 논리적 AND 연산은 두 조건이 모두 참(True)일 때만 전체 결과가 참(True)이 되므로, 첫 번째 조건이 거짓(False)이기 때문에 전체 표현식의 결과는 거짓(False)이 됩니다.\n",
        "\n",
        "따라서 이 코드의 출력 결과는 `False`입니다.\n",
        "'''"
      ],
      "metadata": {
        "colab": {
          "base_uri": "https://localhost:8080/"
        },
        "id": "bNPNK50KXwp1",
        "outputId": "2da7a374-313a-46be-fedc-0244ac10a69f"
      },
      "execution_count": 52,
      "outputs": [
        {
          "output_type": "stream",
          "name": "stdout",
          "text": [
            "False\n"
          ]
        }
      ]
    },
    {
      "cell_type": "code",
      "source": [
        "# 3번 100원 거스름돈\n",
        "\n",
        "c = 1000\n",
        "c // 100"
      ],
      "metadata": {
        "colab": {
          "base_uri": "https://localhost:8080/"
        },
        "id": "7vI_JN6eYGRW",
        "outputId": "800457b5-a196-447d-f90e-478896a0e72f"
      },
      "execution_count": 55,
      "outputs": [
        {
          "output_type": "execute_result",
          "data": {
            "text/plain": [
              "10"
            ]
          },
          "metadata": {},
          "execution_count": 55
        }
      ]
    },
    {
      "cell_type": "code",
      "source": [
        "#4번 (심화문제) 입력한 금액을 5000원, 1000원, 500원, 100원으로 교환하는 프로그램을 만들어주세요.\n",
        "#1. 금액을 입력 받는다. Or 금액에 대한 변수 필요\n",
        "#2. 5000부터 100까지 거스름돈을 어떻게 줄지 생각해본다.\n",
        "#3. 결론적으로 모든 거스름돈을 출력해서 -> (서비스) 캐셔 지폐교환기 -> 돈을 거슬러주면\n",
        "\n",
        "money = int(input(\"거스름돈을 출력하세요\"))"
      ],
      "metadata": {
        "colab": {
          "base_uri": "https://localhost:8080/"
        },
        "id": "VE7M157IYfu9",
        "outputId": "ec17fe03-f81b-4a4c-96e1-68ac0adce72d"
      },
      "execution_count": 58,
      "outputs": [
        {
          "name": "stdout",
          "output_type": "stream",
          "text": [
            "거스름돈을 출력하세요9980\n"
          ]
        }
      ]
    },
    {
      "cell_type": "code",
      "source": [
        "print(money)"
      ],
      "metadata": {
        "colab": {
          "base_uri": "https://localhost:8080/"
        },
        "id": "JS17VkxBYvMP",
        "outputId": "a5a055f9-5613-49c3-af52-48519f9951bd"
      },
      "execution_count": 59,
      "outputs": [
        {
          "output_type": "stream",
          "name": "stdout",
          "text": [
            "9980\n"
          ]
        }
      ]
    },
    {
      "cell_type": "code",
      "source": [
        "# 5000원 지폐 개수 개산!\n",
        "# 5000으로 나눠서 나눗셈된 값(몫) -> 5000원권 얼마나 거슬러 줘야하는가?\n",
        "\n",
        "num_5000 = money // 5000"
      ],
      "metadata": {
        "id": "f-rQjMOsY1jx"
      },
      "execution_count": 60,
      "outputs": []
    },
    {
      "cell_type": "code",
      "source": [
        "print(num_5000)"
      ],
      "metadata": {
        "colab": {
          "base_uri": "https://localhost:8080/"
        },
        "id": "dHaRKaWTY6hq",
        "outputId": "e50632ea-4d44-4ec1-f4ee-9873c56ad53c"
      },
      "execution_count": 61,
      "outputs": [
        {
          "output_type": "stream",
          "name": "stdout",
          "text": [
            "1\n"
          ]
        }
      ]
    },
    {
      "cell_type": "code",
      "source": [
        "money -= (num_5000 * 5000)"
      ],
      "metadata": {
        "id": "uwk2lt4EY_EI"
      },
      "execution_count": 62,
      "outputs": []
    },
    {
      "cell_type": "code",
      "source": [
        "print(money)"
      ],
      "metadata": {
        "colab": {
          "base_uri": "https://localhost:8080/"
        },
        "id": "HoEdqYM2ZF7Z",
        "outputId": "ee71bf24-f5ff-4495-cd06-01eebf3985f6"
      },
      "execution_count": 63,
      "outputs": [
        {
          "output_type": "stream",
          "name": "stdout",
          "text": [
            "4980\n"
          ]
        }
      ]
    },
    {
      "cell_type": "code",
      "source": [
        "num_1000 = money // 1000\n",
        "money -= (num_1000 * 1000)"
      ],
      "metadata": {
        "id": "IUyKPCoxZkzp"
      },
      "execution_count": 64,
      "outputs": []
    },
    {
      "cell_type": "code",
      "source": [
        "print(num_1000, money)"
      ],
      "metadata": {
        "colab": {
          "base_uri": "https://localhost:8080/"
        },
        "id": "cd5krf8sZsHi",
        "outputId": "a038b24d-7b5c-40b8-e013-c60db76ff72f"
      },
      "execution_count": 65,
      "outputs": [
        {
          "output_type": "stream",
          "name": "stdout",
          "text": [
            "4 980\n"
          ]
        }
      ]
    },
    {
      "cell_type": "code",
      "source": [
        "num_500 = money // 500\n",
        "money -= (num_500 * 500)"
      ],
      "metadata": {
        "id": "sRMF9lQqZ0JS"
      },
      "execution_count": 66,
      "outputs": []
    },
    {
      "cell_type": "code",
      "source": [
        "print(num_500, money)"
      ],
      "metadata": {
        "colab": {
          "base_uri": "https://localhost:8080/"
        },
        "id": "U_YiKKwoZ5yN",
        "outputId": "f91669ef-3962-42c5-99f3-7a4766c174df"
      },
      "execution_count": 67,
      "outputs": [
        {
          "output_type": "stream",
          "name": "stdout",
          "text": [
            "1 480\n"
          ]
        }
      ]
    },
    {
      "cell_type": "code",
      "source": [
        "num_100 = money // 100\n",
        "money -= (num_100 * 100)\n",
        "print(num_100, money)"
      ],
      "metadata": {
        "colab": {
          "base_uri": "https://localhost:8080/"
        },
        "id": "Cs-fDog3Z94Q",
        "outputId": "3d0b8ab3-6d32-4ff7-95ad-987afc9da272"
      },
      "execution_count": 68,
      "outputs": [
        {
          "output_type": "stream",
          "name": "stdout",
          "text": [
            "4 80\n"
          ]
        }
      ]
    },
    {
      "cell_type": "code",
      "source": [
        "num_10 = money // 10\n",
        "money -= (num_10 * 10)\n",
        "print(num_10, money)"
      ],
      "metadata": {
        "colab": {
          "base_uri": "https://localhost:8080/"
        },
        "id": "Qod13215aHV-",
        "outputId": "7bbea2ad-a81b-499e-98f6-b66f7d2f6c2e"
      },
      "execution_count": 69,
      "outputs": [
        {
          "output_type": "stream",
          "name": "stdout",
          "text": [
            "8 0\n"
          ]
        }
      ]
    },
    {
      "cell_type": "code",
      "source": [
        "print(f\"5000원의 개수는 \",num_5000,\"개 입니다.\") # 9,980원\n",
        "print(f\"5000원의 개수는 {num_5000} 개 입니다.\") # 9,980원"
      ],
      "metadata": {
        "colab": {
          "base_uri": "https://localhost:8080/"
        },
        "id": "8I5_EDKgaPRj",
        "outputId": "22ecad3d-d980-4051-f855-754261cf9e38"
      },
      "execution_count": 70,
      "outputs": [
        {
          "output_type": "stream",
          "name": "stdout",
          "text": [
            "5000원의 개수는  1 개 입니다.\n",
            "5000원의 개수는 1 개 입니다.\n"
          ]
        }
      ]
    },
    {
      "cell_type": "markdown",
      "source": [
        "# 실습 2\n",
        "\n",
        "1. 사용자 입력 받기:\n",
        "  - input() 함수를 사용하여 제품의 원가와 할인율을 입력받습니다.\n",
        "2. 문자열을 숫자로 변환:\n",
        "  - 입력받은 원가와 할인율을 각각 float() 함수를 사용하여 실수로 변환합니다.\n",
        "3. 할인된 가격 계산:\n",
        "  - 할인된 가격을 계산하는 공식을 사용합니다. (할인된 가격 = 원가 - (원가 × 할인율 / 100))\n",
        "4. 결과 출력:\n",
        "  - 계산된 할인된 가격을 print() 함수를 사용하여 출력합니다."
      ],
      "metadata": {
        "id": "mH9iF6KgedYp"
      }
    },
    {
      "cell_type": "code",
      "source": [
        "# 제품의 원가와 할인율 입력 받기\n",
        "original_price = float(input(\"원가를 입력하세요: \"))\n",
        "discount_rate = float(input(\"할인율을 입력하세요\"))"
      ],
      "metadata": {
        "colab": {
          "base_uri": "https://localhost:8080/"
        },
        "id": "0ylhy9dBfA-L",
        "outputId": "7084f9f9-41f3-49b4-b2f2-6ee0e4073bb2"
      },
      "execution_count": null,
      "outputs": [
        {
          "name": "stdout",
          "output_type": "stream",
          "text": [
            "원가를 입력하세요: 50000\n",
            "할인율을 입력하세요50\n"
          ]
        }
      ]
    },
    {
      "cell_type": "code",
      "source": [
        "# 할인된 가격 계산\n",
        "discounted_price = original_price - (original_price * discount_rate / 100)"
      ],
      "metadata": {
        "id": "s7Prl5olfQ4a"
      },
      "execution_count": null,
      "outputs": []
    },
    {
      "cell_type": "code",
      "source": [
        "# 결과 출력\n",
        "print(\"할인된 가격은\", discounted_price, \"입니다.\")"
      ],
      "metadata": {
        "colab": {
          "base_uri": "https://localhost:8080/"
        },
        "id": "WaoahVoWfJwo",
        "outputId": "b3e07703-9a54-4ad0-f643-7c63ca03f886"
      },
      "execution_count": null,
      "outputs": [
        {
          "output_type": "stream",
          "name": "stdout",
          "text": [
            "할인된 가격은 25000.0 입니다.\n"
          ]
        }
      ]
    },
    {
      "cell_type": "markdown",
      "source": [
        "# 실습 3. 단계별 가이드\n",
        "1. 사용자 입력 받기:\n",
        "  - input() 함수를 사용하여 사용자의 이름과 나이를 입력받습니다.\n",
        "2. 문자열을 숫자로 변환:\n",
        "  - 입력받은 나이(문자열)를 int() 함수를 사용하여 정수로 변환합니다.\n",
        "3. 산술 연산 수행:\n",
        "  - 변환된 나이에 1을 더하여 다음 해의 나이를 계산합니다.\n",
        "4. 문자열 길이 계산:\n",
        "  - len() 함수를 사용하여 사용자 이름의 길이를 계산합니다.\n",
        "5. 성인 여부 판단:\n",
        "  - 나이를 기준으로 성인 여부를 판단하여 불리언 값으로 표시합니다. (예: 18세 이상이면 True, 그렇지 않으면 False)\n",
        "6. 결과 출력:\n",
        "  - 계산된 나이, 이름의 길이, 성인 여부를 print() 함수를 사용하여 출력합니다."
      ],
      "metadata": {
        "id": "NBe_qbmKgwNe"
      }
    },
    {
      "cell_type": "code",
      "source": [
        "# Step 1\n",
        "name = input(\"이름을 입력하세요: \")\n",
        "age = input(\"나이를 입력하세요: \")\n",
        "# Step 2\n",
        "age = int(age)"
      ],
      "metadata": {
        "colab": {
          "base_uri": "https://localhost:8080/"
        },
        "id": "Wa7CraGZfQZC",
        "outputId": "9c2a5696-8794-40d0-b6bf-d5ffe7a37c49"
      },
      "execution_count": 72,
      "outputs": [
        {
          "name": "stdout",
          "output_type": "stream",
          "text": [
            "이름을 입력하세요: 이재원\n",
            "나이를 입력하세요: 39\n"
          ]
        }
      ]
    },
    {
      "cell_type": "code",
      "source": [
        "# Step 3\n",
        "next_year_age = age + 1 # 덧셈"
      ],
      "metadata": {
        "id": "pITNEJ4Kikk2"
      },
      "execution_count": 73,
      "outputs": []
    },
    {
      "cell_type": "code",
      "source": [
        "# Step 4\n",
        "name_length = len(name)"
      ],
      "metadata": {
        "id": "PHPAvippi0L3"
      },
      "execution_count": 74,
      "outputs": []
    },
    {
      "cell_type": "code",
      "source": [
        "# Step 5\n",
        "is_adult = age >= 18    #비교 연산자"
      ],
      "metadata": {
        "id": "MEyC5dv5jZdh"
      },
      "execution_count": 75,
      "outputs": []
    },
    {
      "cell_type": "code",
      "source": [
        "# Step 6\n",
        "print(f'제 이름은 {name}입니다.')\n",
        "print(f'제 나이는 {next_year_age}입니다. 작년에는 {age} 였습니다.')\n",
        "print(f'성인여부는 {is_adult}입니다.')"
      ],
      "metadata": {
        "colab": {
          "base_uri": "https://localhost:8080/"
        },
        "id": "88UbjDVCbQ2E",
        "outputId": "36a0c480-a04f-4f18-893d-47c5eb625c05"
      },
      "execution_count": 76,
      "outputs": [
        {
          "output_type": "stream",
          "name": "stdout",
          "text": [
            "제 이름은 이재원입니다.\n",
            "제 나이는 40입니다. 작년에는 39 였습니다.\n",
            "성인여부는 True입니다.\n"
          ]
        }
      ]
    },
    {
      "cell_type": "code",
      "source": [],
      "metadata": {
        "id": "RsbUTfpfbj4U"
      },
      "execution_count": null,
      "outputs": []
    }
  ]
}