{
  "nbformat": 4,
  "nbformat_minor": 0,
  "metadata": {
    "colab": {
      "provenance": [],
      "authorship_tag": "ABX9TyPPcjvhZWMMbDdrWjniIjG+",
      "include_colab_link": true
    },
    "kernelspec": {
      "name": "python3",
      "display_name": "Python 3"
    },
    "language_info": {
      "name": "python"
    }
  },
  "cells": [
    {
      "cell_type": "markdown",
      "metadata": {
        "id": "view-in-github",
        "colab_type": "text"
      },
      "source": [
        "<a href=\"https://colab.research.google.com/github/jaewonleehyeyum/orm/blob/main/Michigan_Chapter1_6%EC%A3%BC%EC%B0%A8.ipynb\" target=\"_parent\"><img src=\"https://colab.research.google.com/assets/colab-badge.svg\" alt=\"Open In Colab\"/></a>"
      ]
    },
    {
      "cell_type": "code",
      "execution_count": 1,
      "metadata": {
        "colab": {
          "base_uri": "https://localhost:8080/"
        },
        "id": "5PK7VvwPJYzg",
        "outputId": "d6a701c9-4924-48dc-a4d5-f73105a0f50b"
      },
      "outputs": [
        {
          "output_type": "stream",
          "name": "stdout",
          "text": [
            "Hello\n",
            "Fun\n",
            "zip\n",
            "Hello\n",
            "Fun\n"
          ]
        }
      ],
      "source": [
        "def thing():\n",
        "    print('Hello')\n",
        "    print('Fun')\n",
        "\n",
        "thing()\n",
        "print('zip')\n",
        "thing()"
      ]
    },
    {
      "cell_type": "code",
      "source": [
        "big = max('Hello world')\n",
        "print(big)"
      ],
      "metadata": {
        "colab": {
          "base_uri": "https://localhost:8080/"
        },
        "id": "kdccuHO1KFBo",
        "outputId": "ec674991-8c20-4ebf-fa10-d56acd4d8ff3"
      },
      "execution_count": 2,
      "outputs": [
        {
          "output_type": "stream",
          "name": "stdout",
          "text": [
            "w\n"
          ]
        }
      ]
    },
    {
      "cell_type": "code",
      "source": [
        "tiny = min('Hello world')\n",
        "print(tiny)"
      ],
      "metadata": {
        "colab": {
          "base_uri": "https://localhost:8080/"
        },
        "id": "L229Vzt4K_KQ",
        "outputId": "104cd1f1-7cf4-4e5a-f325-58aba9e2708d"
      },
      "execution_count": 3,
      "outputs": [
        {
          "output_type": "stream",
          "name": "stdout",
          "text": [
            " \n"
          ]
        }
      ]
    },
    {
      "cell_type": "code",
      "source": [
        "big = max('Hello world')\n",
        "print(big)"
      ],
      "metadata": {
        "colab": {
          "base_uri": "https://localhost:8080/"
        },
        "id": "4bYkr8cSLCP3",
        "outputId": "7c6a0dd2-07cf-4904-ee57-67f593a28a17"
      },
      "execution_count": 4,
      "outputs": [
        {
          "output_type": "stream",
          "name": "stdout",
          "text": [
            "w\n"
          ]
        }
      ]
    },
    {
      "cell_type": "code",
      "source": [
        "print (99 / 100)\n",
        "i = 42\n",
        "type(i)\n",
        "f = float(i)\n",
        "print(f)\n",
        "type(f)\n",
        "print(1 + 2 * float(3) / 4 - 5)"
      ],
      "metadata": {
        "colab": {
          "base_uri": "https://localhost:8080/"
        },
        "id": "cK013wCULZCZ",
        "outputId": "fa270581-805a-4b3e-ddcb-a4831899c2f5"
      },
      "execution_count": 18,
      "outputs": [
        {
          "output_type": "stream",
          "name": "stdout",
          "text": [
            "0.99\n",
            "42.0\n",
            "-2.5\n"
          ]
        }
      ]
    },
    {
      "cell_type": "code",
      "source": [
        "sval = '123'\n",
        "type(sval)\n",
        "print(sval + 1)\n",
        "\n",
        "ival = int(sval)\n",
        "type(ival)\n",
        "print(ival + 1)\n",
        "nsv = 'hello bob'\n",
        "niv = int(nsv)"
      ],
      "metadata": {
        "colab": {
          "base_uri": "https://localhost:8080/"
        },
        "id": "mSIyDQGpLlqH",
        "outputId": "263c862f-a42e-4dd5-b629-57022756bc24"
      },
      "execution_count": 19,
      "outputs": [
        {
          "output_type": "execute_result",
          "data": {
            "text/plain": [
              "str"
            ]
          },
          "metadata": {},
          "execution_count": 19
        }
      ]
    },
    {
      "cell_type": "code",
      "source": [
        "x = 5\n",
        "print('Hello')\n",
        "\n",
        "def print_lyris():\n",
        "    print(\"I'm a lumberjack, and I'm okay.\")\n",
        "    print('I sleep all night and I work all day.')\n",
        "\n",
        "print('Yo')\n",
        "x = x + 2\n",
        "print(x)"
      ],
      "metadata": {
        "colab": {
          "base_uri": "https://localhost:8080/"
        },
        "id": "uxnVFgF3MkR2",
        "outputId": "97b9675f-3411-403f-a618-f5c24ef1190d"
      },
      "execution_count": 20,
      "outputs": [
        {
          "output_type": "stream",
          "name": "stdout",
          "text": [
            "Hello\n",
            "Yo\n",
            "7\n"
          ]
        }
      ]
    },
    {
      "cell_type": "code",
      "source": [
        "def greet(lang):\n",
        "    if lang == 'es':\n",
        "        print('Hola')\n",
        "    elif lang == 'fr':\n",
        "        print('Bonjour')\n",
        "    else:\n",
        "        print('Hello')\n",
        "\n",
        "greet('en')\n",
        "greet('es')\n",
        "greet('fr')"
      ],
      "metadata": {
        "colab": {
          "base_uri": "https://localhost:8080/"
        },
        "id": "gvTPK6FXRWt9",
        "outputId": "0b966b1c-6447-4d6e-a941-5b980ac97d7e"
      },
      "execution_count": 21,
      "outputs": [
        {
          "output_type": "stream",
          "name": "stdout",
          "text": [
            "Hello\n",
            "Hola\n",
            "Bonjour\n"
          ]
        }
      ]
    },
    {
      "cell_type": "code",
      "source": [
        "def greet():\n",
        "    return \"Hello\"\n",
        "\n",
        "print(greet(), \"Glenn\")\n",
        "print(greet(), \"Sally\")"
      ],
      "metadata": {
        "colab": {
          "base_uri": "https://localhost:8080/"
        },
        "id": "UwoxT-8OSi6V",
        "outputId": "0f412b44-0ef0-4c28-b0ff-504c1bac35b7"
      },
      "execution_count": 25,
      "outputs": [
        {
          "output_type": "stream",
          "name": "stdout",
          "text": [
            "Hello Glenn\n",
            "Hello Sally\n"
          ]
        }
      ]
    },
    {
      "cell_type": "code",
      "source": [
        "def greet(lang):\n",
        "    if lang == 'es':\n",
        "        return 'Hola'\n",
        "    elif lang == 'fr':\n",
        "        return 'Bonjour'\n",
        "    else:\n",
        "        return 'Hello'\n",
        "\n",
        "print(greet('en'),'Glenn')\n",
        "print(greet('es'),'Sally')\n",
        "print(greet('fr'),'Michael')"
      ],
      "metadata": {
        "colab": {
          "base_uri": "https://localhost:8080/"
        },
        "id": "mqTeIhEIVCIt",
        "outputId": "5865d710-1298-4feb-ad01-f0c11bc1fedc"
      },
      "execution_count": 27,
      "outputs": [
        {
          "output_type": "stream",
          "name": "stdout",
          "text": [
            "Hello Glenn\n",
            "Hola Sally\n",
            "Bonjour Michael\n"
          ]
        }
      ]
    },
    {
      "cell_type": "code",
      "source": [
        "big = max('Hello world')\n",
        "print(big)"
      ],
      "metadata": {
        "colab": {
          "base_uri": "https://localhost:8080/"
        },
        "id": "fCns4uytVv0t",
        "outputId": "de3cd189-2681-41b0-a3b1-50523622b7e5"
      },
      "execution_count": 28,
      "outputs": [
        {
          "output_type": "stream",
          "name": "stdout",
          "text": [
            "w\n"
          ]
        }
      ]
    },
    {
      "cell_type": "code",
      "source": [
        "def addtwo(a, b):\n",
        "    added = a + b\n",
        "    return added\n",
        "\n",
        "x = addtwo(3, 5)\n",
        "print(x)"
      ],
      "metadata": {
        "colab": {
          "base_uri": "https://localhost:8080/"
        },
        "id": "Tdi9ar7eWiHF",
        "outputId": "d3d838f8-f640-4f3f-c16a-c7add5e971ae"
      },
      "execution_count": 29,
      "outputs": [
        {
          "output_type": "stream",
          "name": "stdout",
          "text": [
            "8\n"
          ]
        }
      ]
    },
    {
      "cell_type": "code",
      "source": [
        "'''\n",
        "4.6\n",
        "총 급여를 계산하기 위해 사용자에게 시간 및 시간당 요금을 입력하라는\n",
        "메시지를 표시하는 프로그램을 작성하세요. 급여는 40시간까지는 일반 시급을,\n",
        "40시간을 초과하는 모든 근무 시간에 대해서는 시급의 0.5배를 적용해야 합니다.\n",
        "급여를 계산하는 로직을 computepay()라는 함수에 넣고 이 함수를 사용하여 계산을 수행합니다.\n",
        "이 함수는 값을 반환해야 합니다. 45시간과 시간당 10.50의 비율을 사용하여 프로그램을 테스트합니다\n",
        "(급여는 498.75가 되어야 합니다). 문자열을 읽으려면 입력을 사용하고 문자열을 숫자로 변환하려면\n",
        "float()를 사용해야 합니다. 사용자가 숫자를 제대로 입력한다고 가정하면 되므로\n",
        "사용자 입력을 확인하는 오류는 걱정하지 않아도 됩니다.\n",
        "변수 이름을 sum으로 지정하거나 sum() 함수를 사용하지 마세요.\n",
        "'''\n",
        "\n",
        "# def computepay(h, r):\n",
        "#     if h > 40:\n",
        "#         # 40시간을 초과한 시간에 대해 시간당 임금이 1.5배 적용\n",
        "#         overtime = h - 40\n",
        "#         pay = (40 * r) + (overtime * r * 1.5)\n",
        "#     else:\n",
        "#         # 40시간 이하일 경우 정상 임금만 적용\n",
        "#         pay = h * r\n",
        "#     return pay\n",
        "# # 사용자로부터 근무 시간과 시간당 임금률 입력 받기\n",
        "# hours = float(input(\"Enter Hours: \"))\n",
        "# rate = float(input(\"Enter Rate: \"))\n",
        "\n",
        "# # 함수를 사용하여 총 임금 계산\n",
        "# total_pay = computepay(hours, rate)\n",
        "\n",
        "# # 계산된 총 임금 출력\n",
        "# print(\"Pay\", total_pay)\n",
        "\n",
        "\n",
        "def computepay(h, r):\n",
        "    if h > 40:\n",
        "        # 40시간을 초과한 시간에 대해 시간당 임금이 1.5배 적용\n",
        "        overtime = h - 40\n",
        "        pay = (40 * r) + (overtime * r * 1.5)\n",
        "    else:\n",
        "        # 40시간 이하일 경우 정상 임금만 적용\n",
        "        pay = h * r\n",
        "    return pay\n",
        "# 사용자로부터 근무 시간과 시간당 임금률 입력 받기\n",
        "hours = float(input(\"Enter Hours: \"))\n",
        "rate = float(input(\"Enter Rate: \"))\n",
        "\n",
        "# 함수를 사용하여 총 임금 계산\n",
        "total_pay = computepay(hours, rate)\n",
        "\n",
        "# 계산된 총 임금 출력\n",
        "print(\"Pay\", total_pay)\n",
        "\n"
      ],
      "metadata": {
        "colab": {
          "base_uri": "https://localhost:8080/"
        },
        "id": "lulRKaNzXPqc",
        "outputId": "9aedd2fe-0601-4241-e2c5-f0376f7d6002"
      },
      "execution_count": 32,
      "outputs": [
        {
          "output_type": "stream",
          "name": "stdout",
          "text": [
            "Enter Hours: 45\n",
            "Enter Rate: 10.50\n",
            "Pay 498.75\n"
          ]
        }
      ]
    },
    {
      "cell_type": "code",
      "source": [],
      "metadata": {
        "id": "TNRFmNNCZUnk"
      },
      "execution_count": null,
      "outputs": []
    }
  ]
}