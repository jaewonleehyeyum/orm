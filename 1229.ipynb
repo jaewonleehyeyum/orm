{
  "nbformat": 4,
  "nbformat_minor": 0,
  "metadata": {
    "colab": {
      "provenance": [],
      "authorship_tag": "ABX9TyMXrR8a5RUiDr8JTwGWo1T6",
      "include_colab_link": true
    },
    "kernelspec": {
      "name": "python3",
      "display_name": "Python 3"
    },
    "language_info": {
      "name": "python"
    }
  },
  "cells": [
    {
      "cell_type": "markdown",
      "metadata": {
        "id": "view-in-github",
        "colab_type": "text"
      },
      "source": [
        "<a href=\"https://colab.research.google.com/github/jaewonleehyeyum/orm/blob/main/1229.ipynb\" target=\"_parent\"><img src=\"https://colab.research.google.com/assets/colab-badge.svg\" alt=\"Open In Colab\"/></a>"
      ]
    },
    {
      "cell_type": "code",
      "source": [
        "# 데이터셋 불러오기\n",
        "import pandas as pd\n",
        "data = pd.read_csv(\"example_dataset.csv\")\n",
        "\n",
        "# 각 컬럼에 대한 평균 계산\n",
        "average_age = data['age'].mean()\n",
        "average_height = data['height'].mean()\n",
        "average_weight = data['weight'].mean()\n",
        "\n",
        "print(\"Average Age:\", mean_age)\n",
        "print(\"Average Height:\", mean_height)\n",
        "print(\"Average Weight:\", mean_weight)"
      ],
      "metadata": {
        "id": "NXzqoReaF5f5"
      },
      "execution_count": null,
      "outputs": []
    },
    {
      "cell_type": "markdown",
      "source": [
        "# 수정 관련된 단축키\n",
        "1. Ctrl(Command) + Alt(Option) + 화살표위아래 : 동시 수정\n",
        "2. 자주 쓰는 예시 필요\n",
        "3. (자주) Ctrl(Command) + D : 같은 단어 찾아 동시 수정\n",
        "4. Ctrl(Command) + Shift + L : 동일 단어를 전체로 찾아 동시 수정\n",
        "5. Alt(Option) + Shift + 화살표위아래 : 해당내용을 위나 아래 복사해서 붙여넣기\n",
        "6. Alt(Option) + 화살표위아래 : 해당 내용을 위나 아래로 보내기\n",
        "7. (자주) Ctrl(Command) + Alt(Option) + 화살표위아래 : 위아래 동시 수정\n",
        "8. (자주) Home, End : 문장의 양 끝\n",
        "9. (필수) Ctrl + / : 주석\n",
        "10. (필수) Shift(cmd) + Del : 한 줄 지우기\n",
        "11. (필수) Tab, Ctrl + ] : 들여쓰기\n",
        "12. (필수) Shift + Tab, Ctrl + [ : 내어쓰기\n"
      ],
      "metadata": {
        "id": "woajKwsqC1O8"
      }
    },
    {
      "cell_type": "markdown",
      "source": [
        "# 4. 마크다운\n",
        "## 4.1 헤더\n",
        "### 4.1.1 사용법\n",
        "제목을 입력하는 기능"
      ],
      "metadata": {
        "id": "Asdhn7luJpHN"
      }
    },
    {
      "cell_type": "markdown",
      "source": [
        "## 4.2 강조\n",
        "\n",
        "이 내용은 **강조** 해야하는 *문장* 입니다.\n",
        "*강조*\n",
        "**강조**"
      ],
      "metadata": {
        "id": "ajoJt53fKirm"
      }
    },
    {
      "cell_type": "markdown",
      "source": [
        "## 4.3 목록(Lists)\n",
        "\n",
        "1. 순서 1번\n",
        "2. 순서 2번\n",
        "3. 순서 3번\n",
        "\n",
        "* 순서 없는 것 1\n",
        "* 순서 없는 것 2\n",
        "* 순서 없는 것 3"
      ],
      "metadata": {
        "id": "acHiC_CWK8B8"
      }
    },
    {
      "cell_type": "markdown",
      "source": [
        "# 4.4 링크\n",
        "\n",
        "* 사용법: [텍스트](URL) 형식을 사용하여 하이퍼링크를 삽입합니다.\n",
        "* [Pyalgo](https://pyalgo.co.kr/)"
      ],
      "metadata": {
        "id": "KlyqumvuL4mB"
      }
    },
    {
      "cell_type": "markdown",
      "source": [
        "# 4.5 이미지\n",
        "* 사용법: ![대체 텍스트](https://upload.wikimedia.org/wikipedia/commons/thumb/0/0a/Python.svg/2048px-Python.svg.png)\n"
      ],
      "metadata": {
        "id": "T_vsR1qyMZSu"
      }
    },
    {
      "cell_type": "markdown",
      "source": [
        "# 4.6 코드\n",
        "* 인라인 코드: `를 사용하여 텍스트 내에 코드를 삽입합니다.\n",
        "* 코드 블록: 여러 줄의 코드를 나타낼 때는 **`````**를 사용하여 코드 블록을 생성합니다.\n",
        "\n",
        "`print(\"Hello World\")` -> print(\"Hello World\")"
      ],
      "metadata": {
        "id": "CErj_nN2NC6e"
      }
    },
    {
      "cell_type": "markdown",
      "source": [
        "# 4.7 기타\n",
        "* 취소선 ~~취소선~~\n",
        "---\n",
        "* 인용문\n",
        "> 인용문 1입니다.\n",
        ">> 인용문 1-1입니다.\n",
        "---\n",
        "* 구분선\n",
        "---"
      ],
      "metadata": {
        "id": "XQwjVkuVOvpY"
      }
    }
  ]
}