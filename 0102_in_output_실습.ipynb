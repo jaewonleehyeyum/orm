{
  "nbformat": 4,
  "nbformat_minor": 0,
  "metadata": {
    "colab": {
      "provenance": [],
      "authorship_tag": "ABX9TyNu2CuXzTRXdEy7LeXUlJtI",
      "include_colab_link": true
    },
    "kernelspec": {
      "name": "python3",
      "display_name": "Python 3"
    },
    "language_info": {
      "name": "python"
    }
  },
  "cells": [
    {
      "cell_type": "markdown",
      "metadata": {
        "id": "view-in-github",
        "colab_type": "text"
      },
      "source": [
        "<a href=\"https://colab.research.google.com/github/jaewonleehyeyum/orm/blob/main/0102_in_output_%EC%8B%A4%EC%8A%B5.ipynb\" target=\"_parent\"><img src=\"https://colab.research.google.com/assets/colab-badge.svg\" alt=\"Open In Colab\"/></a>"
      ]
    },
    {
      "cell_type": "markdown",
      "source": [
        "# 2024년 새해 계획 프로그램\n",
        "\n",
        "2024년도 계획을 10문장으로 적고, 그에 따른 2024년도 계획에서 중요 부분을 변수로 받아서 Input으로 받는 프로그램 만들기!\n",
        "\n",
        "1. 나의 2024년도 계획을 적는다.\n",
        "2. 그 중에서 변수로 만들수 있는 것들(input으로 받을 수 있는 것을 비운다.)\n",
        "3. 10 문장에 대해서 똑같이 적용한다. (1개~3개정도 단어)\n",
        "4. 테스트 해본다.\n",
        "5. 코드와 결과를 업로드 한다."
      ],
      "metadata": {
        "id": "kM57cAVuoMuY"
      }
    },
    {
      "cell_type": "markdown",
      "source": [
        "# 1. 2024년 계획 적기(최소 3가지 ~ 최대 10가지)\n",
        "\n",
        "1. 이번 해에는 ___을 꾸준히 한다.\n",
        "2. 2024년의 목표는 ___ 언어를 배우는 것이다."
      ],
      "metadata": {
        "id": "qg5eduZVofDs"
      }
    },
    {
      "cell_type": "code",
      "source": [
        "변수 (어떠한 값을 입력받을 값) = input(\"내가 입력받을 값에 대한 질문\")"
      ],
      "metadata": {
        "id": "qGUUQgmYsqWi"
      },
      "execution_count": null,
      "outputs": []
    },
    {
      "cell_type": "code",
      "source": [
        "sentence_1 = input(\"이번 해에는 매일 ___ 운동을 하기로 했다: \")"
      ],
      "metadata": {
        "colab": {
          "base_uri": "https://localhost:8080/"
        },
        "id": "6MoTwGZzmrON",
        "outputId": "6ca80b6a-a992-4802-ddca-01772468ed17"
      },
      "execution_count": null,
      "outputs": [
        {
          "name": "stdout",
          "output_type": "stream",
          "text": [
            "이번 해에는 매일 ___ 운동을 하기로 했다: 근력\n"
          ]
        }
      ]
    },
    {
      "cell_type": "code",
      "source": [
        "print(sentence_1)"
      ],
      "metadata": {
        "colab": {
          "base_uri": "https://localhost:8080/"
        },
        "id": "DD-mXJuDtJop",
        "outputId": "90403a80-d2b1-4382-aa32-3b0ceffc5e2f"
      },
      "execution_count": null,
      "outputs": [
        {
          "output_type": "stream",
          "name": "stdout",
          "text": [
            "근력\n"
          ]
        }
      ]
    },
    {
      "cell_type": "code",
      "source": [
        "print(f\"이번 해에는 {sentence_1}운동을 꾸준히 한다. \\n\") # \\n은 한칸 띄어쓰기"
      ],
      "metadata": {
        "colab": {
          "base_uri": "https://localhost:8080/"
        },
        "id": "VOMTh-KVmxz3",
        "outputId": "d3a30df6-3330-4c35-cbb7-ff58a4a5d705"
      },
      "execution_count": null,
      "outputs": [
        {
          "output_type": "stream",
          "name": "stdout",
          "text": [
            "이번 해에는 근력운동을 꾸준히 한다. \n",
            "\n"
          ]
        }
      ]
    },
    {
      "cell_type": "markdown",
      "source": [
        "## 2.2 두가지 단어를 한꺼번에 받기"
      ],
      "metadata": {
        "id": "7ZDuHmkSw325"
      }
    },
    {
      "cell_type": "code",
      "source": [
        "sentense_2 = input(\"올해는 ___과 ___에 집중하려고 한다. \") # 공부와 운동 (필수) 공백을 기준으로"
      ],
      "metadata": {
        "colab": {
          "base_uri": "https://localhost:8080/"
        },
        "id": "2FjmwHa-w6uf",
        "outputId": "41ca0871-d346-4cc2-df4e-124e2db7c47d"
      },
      "execution_count": null,
      "outputs": [
        {
          "name": "stdout",
          "output_type": "stream",
          "text": [
            "올해는 ___과 ___에 집중하려고 한다. 공부 운동\n"
          ]
        }
      ]
    },
    {
      "cell_type": "code",
      "source": [
        "print(sentence_2)"
      ],
      "metadata": {
        "colab": {
          "base_uri": "https://localhost:8080/"
        },
        "id": "ostD3pFAxFZM",
        "outputId": "d9983a86-68fd-43fb-b196-254057275374"
      },
      "execution_count": null,
      "outputs": [
        {
          "output_type": "stream",
          "name": "stdout",
          "text": [
            "공부 업무\n"
          ]
        }
      ]
    },
    {
      "cell_type": "code",
      "source": [
        "word1, word = sentence_2.split() # 두 단어를 입력받고, (필수) 공백을 기준으로 분리"
      ],
      "metadata": {
        "id": "Gfwz-nxVxIti"
      },
      "execution_count": null,
      "outputs": []
    },
    {
      "cell_type": "code",
      "source": [
        "print(f\"올해는 {word1}과 {word2}에 집중하려고 한다.\\n\")"
      ],
      "metadata": {
        "colab": {
          "base_uri": "https://localhost:8080/"
        },
        "id": "FrulUS7ZxdwQ",
        "outputId": "411732c1-6ceb-4ccd-fc54-8b84eb0e5206"
      },
      "execution_count": null,
      "outputs": [
        {
          "output_type": "stream",
          "name": "stdout",
          "text": [
            "올해는 공부과 운동에 집중하려고 한다.\n",
            "\n"
          ]
        }
      ]
    },
    {
      "cell_type": "markdown",
      "source": [
        "## 2.3 두가지 값을 입력받는 법"
      ],
      "metadata": {
        "id": "2qYohbMsslhk"
      }
    },
    {
      "cell_type": "code",
      "source": [
        "# 2가지 input 받아보기\n",
        "\n",
        "word1 = input(\"올해는 __와\")\n",
        "word2 = input(\"___에 집중하려고 한다.\")"
      ],
      "metadata": {
        "colab": {
          "base_uri": "https://localhost:8080/"
        },
        "id": "eK0uHi2nm_xG",
        "outputId": "f99cdf4e-9a74-4de3-e107-08c42fc5177b"
      },
      "execution_count": null,
      "outputs": [
        {
          "name": "stdout",
          "output_type": "stream",
          "text": [
            "올해는 __와공부\n",
            "___에 집중하려고 한다.운동\n"
          ]
        }
      ]
    },
    {
      "cell_type": "code",
      "source": [
        "# 1. 한 문장 안에 word1, word2 둘 다 출력하기(가장 기본적인 방법)\n",
        "print(f\"올해는 {word1}와 {word2}에 집중하려고 한다.\")"
      ],
      "metadata": {
        "colab": {
          "base_uri": "https://localhost:8080/"
        },
        "id": "q4_EB4UAuyfJ",
        "outputId": "165af023-639d-4bb8-c7b0-6897d2bd569b"
      },
      "execution_count": null,
      "outputs": [
        {
          "output_type": "stream",
          "name": "stdout",
          "text": [
            "올해는 공부와 운동에 집중하려고 한다.\n"
          ]
        }
      ]
    },
    {
      "cell_type": "code",
      "source": [
        "# 2. end를 사용해서 다른 두 문장 합치기"
      ],
      "metadata": {
        "id": "-07tG-8VpiXV"
      },
      "execution_count": null,
      "outputs": []
    },
    {
      "cell_type": "code",
      "source": [
        "print(f\"올해는 {word1}와\", end = \" \")\n",
        "print(f\"{word2}에 집중하려고 한다.\")"
      ],
      "metadata": {
        "colab": {
          "base_uri": "https://localhost:8080/"
        },
        "id": "Nc6T9wgrvr7R",
        "outputId": "5c7d22fc-d47b-4396-8c50-468058178832"
      },
      "execution_count": null,
      "outputs": [
        {
          "output_type": "stream",
          "name": "stdout",
          "text": [
            "올해는 공부와 운동에 집중하려고 한다.\n"
          ]
        }
      ]
    },
    {
      "cell_type": "code",
      "source": [],
      "metadata": {
        "id": "6Gg4m_IYv_IM"
      },
      "execution_count": null,
      "outputs": []
    }
  ]
}