{
  "nbformat": 4,
  "nbformat_minor": 0,
  "metadata": {
    "colab": {
      "provenance": [],
      "authorship_tag": "ABX9TyMfwjsnbXy5pNG9xgG/ckOp",
      "include_colab_link": true
    },
    "kernelspec": {
      "name": "python3",
      "display_name": "Python 3"
    },
    "language_info": {
      "name": "python"
    }
  },
  "cells": [
    {
      "cell_type": "markdown",
      "metadata": {
        "id": "view-in-github",
        "colab_type": "text"
      },
      "source": [
        "<a href=\"https://colab.research.google.com/github/jaewonleehyeyum/orm/blob/main/1229_%EC%A3%BC%EC%84%9D.ipynb\" target=\"_parent\"><img src=\"https://colab.research.google.com/assets/colab-badge.svg\" alt=\"Open In Colab\"/></a>"
      ]
    },
    {
      "cell_type": "markdown",
      "source": [
        "# 1.1 한줄 주석\n",
        "\n"
      ],
      "metadata": {
        "id": "N33MgRgGDh8q"
      }
    },
    {
      "cell_type": "code",
      "execution_count": 5,
      "metadata": {
        "colab": {
          "base_uri": "https://localhost:8080/"
        },
        "id": "B0UB7-kACuvI",
        "outputId": "f423044d-3b44-4d49-cc9d-957bd99a2f8a"
      },
      "outputs": [
        {
          "output_type": "stream",
          "name": "stdout",
          "text": [
            "Hello, World 1!\n"
          ]
        }
      ],
      "source": [
        "# 이것은 주석입니다.(특이사항, 전체적인 것들, 업데이트 내용)\n",
        "# 주석은 # 기호로 시작됩니다.\n",
        "# 주석의 설명이 끝났습니다.\n",
        "\n",
        "print('Hello, World 1!')  # 이것도 주석입니다. (해당 코드의 설명)\n",
        "print('Hello, World 2!') # 코드의 에러 / 향후 수정! / 임시 주석!"
      ]
    },
    {
      "cell_type": "markdown",
      "source": [
        "## 1.2 여러 줄 주석"
      ],
      "metadata": {
        "id": "_DvWzhdSEzDM"
      }
    },
    {
      "cell_type": "code",
      "source": [
        "'''\n",
        "print('Hello, World 1')\n",
        "print('Hello, World 2!')\n",
        "print('Hello, World 3!')\n",
        "'''\n",
        "print('Real Hello World')"
      ],
      "metadata": {
        "colab": {
          "base_uri": "https://localhost:8080/"
        },
        "id": "i59JyDbED-UM",
        "outputId": "76e8d81b-5c37-4cd7-a424-8ad496493297"
      },
      "execution_count": 6,
      "outputs": [
        {
          "output_type": "stream",
          "name": "stdout",
          "text": [
            "Real Hello World\n"
          ]
        }
      ]
    },
    {
      "cell_type": "code",
      "source": [
        "\"\"\"\n",
        "print('Hello, World 1')\n",
        "print('Hello, World 2!')\n",
        "print('Hello, World 3!')\n",
        "\"\"\""
      ],
      "metadata": {
        "colab": {
          "base_uri": "https://localhost:8080/",
          "height": 35
        },
        "id": "oShsck-lDyZt",
        "outputId": "b3b0250a-5578-403e-ade4-40a3f9bae945"
      },
      "execution_count": 7,
      "outputs": [
        {
          "output_type": "execute_result",
          "data": {
            "text/plain": [
              "\"\\nprint('Hello, World 1')\\nprint('Hello, World 2!')\\nprint('Hello, World 3!')\\n\""
            ],
            "application/vnd.google.colaboratory.intrinsic+json": {
              "type": "string"
            }
          },
          "metadata": {},
          "execution_count": 7
        }
      ]
    },
    {
      "cell_type": "code",
      "source": [],
      "metadata": {
        "id": "zDRaIgHyFYpy"
      },
      "execution_count": null,
      "outputs": []
    }
  ]
}