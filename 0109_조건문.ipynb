{
  "nbformat": 4,
  "nbformat_minor": 0,
  "metadata": {
    "colab": {
      "provenance": [],
      "authorship_tag": "ABX9TyOdNrMqtv8HYSdxr48JOavd",
      "include_colab_link": true
    },
    "kernelspec": {
      "name": "python3",
      "display_name": "Python 3"
    },
    "language_info": {
      "name": "python"
    }
  },
  "cells": [
    {
      "cell_type": "markdown",
      "metadata": {
        "id": "view-in-github",
        "colab_type": "text"
      },
      "source": [
        "<a href=\"https://colab.research.google.com/github/jaewonleehyeyum/orm/blob/main/0109_%EC%A1%B0%EA%B1%B4%EB%AC%B8.ipynb\" target=\"_parent\"><img src=\"https://colab.research.google.com/assets/colab-badge.svg\" alt=\"Open In Colab\"/></a>"
      ]
    },
    {
      "cell_type": "markdown",
      "source": [
        "#1. 조건문"
      ],
      "metadata": {
        "id": "Iz4xDj4vNaPm"
      }
    },
    {
      "cell_type": "code",
      "execution_count": 1,
      "metadata": {
        "colab": {
          "base_uri": "https://localhost:8080/"
        },
        "id": "W-EcS-f8pEQ2",
        "outputId": "40890bff-bbba-442a-af6c-5bf570e85001"
      },
      "outputs": [
        {
          "output_type": "stream",
          "name": "stdout",
          "text": [
            "True\n"
          ]
        }
      ],
      "source": [
        "#1.1 if문의 기본 구조\n",
        "\n",
        "# if 다음에 조건이 참인 경우에만 코드블록이 실행된다.\n",
        "\n",
        "# x = 2일때\n",
        "# x = 1일때\n",
        "# x = 0일때\n",
        "\n",
        "x = 2 # 비교할 대상\n",
        "\n",
        "if x > 1: # 비교 식 -> 비교식이 참일 경우에 하단의 print('True')가 실행된다.\n",
        "    print('True') # 출력: True\n",
        "\n",
        "#참이 아닌경우에는 조건식이 실행되지 않는다."
      ]
    },
    {
      "cell_type": "code",
      "source": [
        "# 결국 x = 2일때 if x > 1은 => True\n",
        "if True:\n",
        "    print('True') # 출력: True"
      ],
      "metadata": {
        "colab": {
          "base_uri": "https://localhost:8080/"
        },
        "id": "io4xi29gr4ed",
        "outputId": "b57d0765-16f6-474c-b906-7b728301d929"
      },
      "execution_count": 2,
      "outputs": [
        {
          "output_type": "stream",
          "name": "stdout",
          "text": [
            "True\n"
          ]
        }
      ]
    },
    {
      "cell_type": "code",
      "source": [
        "# 결국 x = 2일때 if x > 1은 => True\n",
        "if 1:\n",
        "    print('True') # 출력: True"
      ],
      "metadata": {
        "id": "aeGY4LFbpZZl",
        "colab": {
          "base_uri": "https://localhost:8080/"
        },
        "outputId": "af301ded-220d-4b5a-8181-6d5425daeef7"
      },
      "execution_count": 3,
      "outputs": [
        {
          "output_type": "stream",
          "name": "stdout",
          "text": [
            "True\n"
          ]
        }
      ]
    },
    {
      "cell_type": "code",
      "source": [
        "# 결국 x = 2일때 if x > 1은 => True\n",
        "if \" \":\n",
        "    print('True') # 출력: True"
      ],
      "metadata": {
        "colab": {
          "base_uri": "https://localhost:8080/"
        },
        "id": "pkzRYi8XqTc0",
        "outputId": "c47d2fc6-9fc7-406b-f45c-93d56e8dbbf5"
      },
      "execution_count": 4,
      "outputs": [
        {
          "output_type": "stream",
          "name": "stdout",
          "text": [
            "True\n"
          ]
        }
      ]
    },
    {
      "cell_type": "code",
      "source": [
        "# if문 안에 있는 코드블럭과 바깥에 있는 코드블럭\n",
        "\n",
        "if 0: # 정수를 바꿔서도 실습해보세요\n",
        "    print('hello') # 1번 출력\n",
        "\n",
        "print('end') # 2번 출력"
      ],
      "metadata": {
        "colab": {
          "base_uri": "https://localhost:8080/"
        },
        "id": "HCU8m8dHsale",
        "outputId": "c6742ed4-c58e-4681-e4fd-0baa89335da8"
      },
      "execution_count": 5,
      "outputs": [
        {
          "output_type": "stream",
          "name": "stdout",
          "text": [
            "end\n"
          ]
        }
      ]
    },
    {
      "cell_type": "code",
      "source": [
        "# 공백이 있는 문자열\n",
        "if ' ': # True\n",
        "    print('hello')\n",
        "print('end')\n",
        "\n",
        "# 공백이 없는 문자열\n",
        "if '': # False\n",
        "    print('hello')\n",
        "print('end')"
      ],
      "metadata": {
        "colab": {
          "base_uri": "https://localhost:8080/"
        },
        "id": "fEUPCCUVrSw8",
        "outputId": "93844c18-017d-4810-a947-0719697aebe9"
      },
      "execution_count": 6,
      "outputs": [
        {
          "output_type": "stream",
          "name": "stdout",
          "text": [
            "hello\n",
            "end\n",
            "end\n"
          ]
        }
      ]
    },
    {
      "cell_type": "code",
      "source": [
        "# None인 경우\n",
        "\n",
        "if None: # None은 False로 처리됩니다.\n",
        "    print('hello')\n",
        "print('end')\n",
        "\n",
        "if not None:\n",
        "    print('hello')\n",
        "print('end')"
      ],
      "metadata": {
        "colab": {
          "base_uri": "https://localhost:8080/"
        },
        "id": "w3j9A4pGs0Gs",
        "outputId": "3e48b69a-dc55-44ed-89f1-d638f03de1fe"
      },
      "execution_count": 7,
      "outputs": [
        {
          "output_type": "stream",
          "name": "stdout",
          "text": [
            "end\n",
            "hello\n",
            "end\n"
          ]
        }
      ]
    },
    {
      "cell_type": "code",
      "source": [
        "# 단락평가\n",
        "\n",
        "# 성능에 영향을 끼칩니다!\n",
        "\n",
        "# f()함수 아규먼트 x 파라미터 x\n",
        "def f():\n",
        "    return True # True가 무조건 반환되는 함수\n",
        "\n",
        "# f()함수 아규먼트 x 파라미터 x\n",
        "def ff():\n",
        "    x = 100 / 0 # error\n",
        "    return 'hello' # 실행되지 않았으면 하는 함수\n",
        "\n",
        "if f() or ff(): #f() ff() -> 하나의 조건 불과!\n",
        "    print('hello') # 출력: hello"
      ],
      "metadata": {
        "colab": {
          "base_uri": "https://localhost:8080/"
        },
        "id": "aQDOKNLFyHAD",
        "outputId": "bf2b64af-59c7-44af-eead-44c5d7bcb18d"
      },
      "execution_count": 8,
      "outputs": [
        {
          "output_type": "stream",
          "name": "stdout",
          "text": [
            "hello\n"
          ]
        }
      ]
    },
    {
      "cell_type": "code",
      "source": [
        "# 삼항 연산자\n",
        "\n",
        "#if x > y:\n",
        "#    print('x가')\n",
        "#else:\n",
        "#    print\n",
        "\n",
        "x = 5\n",
        "y = 10\n",
        "# 맞았을때 조건 / if / 조건 / else / 틀렸을때 조건\n",
        "result = 'x가 더 큽니다' if x > y else 'y와 같거나 y가 더 큽니다.'\n",
        "print(result) # 출력: 'y와 같거나 y가 더 큽니다.'"
      ],
      "metadata": {
        "colab": {
          "base_uri": "https://localhost:8080/"
        },
        "id": "hWe01Dd-NqSB",
        "outputId": "dc80fbaf-97d7-4d42-be44-0d6324153d73"
      },
      "execution_count": 9,
      "outputs": [
        {
          "output_type": "stream",
          "name": "stdout",
          "text": [
            "y와 같거나 y가 더 큽니다.\n"
          ]
        }
      ]
    },
    {
      "cell_type": "markdown",
      "source": [
        "# 람다 함수\n",
        "- 익명함수 - 한줄로 표현 / 임시 함수 만들 때 사용"
      ],
      "metadata": {
        "id": "I_s9yrMh0T0a"
      }
    },
    {
      "cell_type": "code",
      "source": [
        "# 예) 두 숫자를 더하는 간단한 람다함수를 만든다.\n",
        "\n",
        "#def sum(x,y):\n",
        "#   z = x + y\n",
        "#   return z\n",
        "#sum(5,3)\n",
        "\n",
        "add = lambda x, y : x + y\n",
        "print(add(5,3))"
      ],
      "metadata": {
        "colab": {
          "base_uri": "https://localhost:8080/"
        },
        "id": "asELFSSxz-i6",
        "outputId": "40b3fc4d-63ea-4f65-e03d-53e528a82a91"
      },
      "execution_count": 10,
      "outputs": [
        {
          "output_type": "stream",
          "name": "stdout",
          "text": [
            "8\n"
          ]
        }
      ]
    },
    {
      "cell_type": "code",
      "source": [
        "# 홀짝!\n",
        "my_function = lambda x: 'Even' if x % 2 == 0 else 'Odd'"
      ],
      "metadata": {
        "id": "Kp1o-LPizfxr"
      },
      "execution_count": 11,
      "outputs": []
    },
    {
      "cell_type": "markdown",
      "source": [
        "#2. if - else - elif 중첩 조건문"
      ],
      "metadata": {
        "id": "hnpYpTur1hhy"
      }
    },
    {
      "cell_type": "code",
      "source": [
        "# if, else문의 기본구조\n",
        "if 조건문: # 조건문을 확인해서 만약 '참'이면 if 문 다음에 문장들은 수행합니다.\n",
        "    pass\n",
        "\t  # 수행할 문장 1 - 참일 경우에는 수행할 문장 1이 실행\n",
        "else: # if문의 조건이 거짓이면 else 문이 실행됩니다. (else에는 조건을 따로 적지 않아도 된다.)\n",
        "    pass\n",
        "\t  # 수행할 문장 2 - if에 조건문이 거짓일 경우 else에 있는 수행할 문장 2가 실행"
      ],
      "metadata": {
        "id": "W0ESp_BQ2Xm3",
        "colab": {
          "base_uri": "https://localhost:8080/",
          "height": 248
        },
        "outputId": "b0fa2210-6959-4b2d-e225-1307f9a2aba9"
      },
      "execution_count": 12,
      "outputs": [
        {
          "output_type": "error",
          "ename": "NameError",
          "evalue": "name '조건문' is not defined",
          "traceback": [
            "\u001b[0;31m---------------------------------------------------------------------------\u001b[0m",
            "\u001b[0;31mNameError\u001b[0m                                 Traceback (most recent call last)",
            "\u001b[0;32m<ipython-input-12-d8fd47c28e7a>\u001b[0m in \u001b[0;36m<cell line: 2>\u001b[0;34m()\u001b[0m\n\u001b[1;32m      1\u001b[0m \u001b[0;31m# if, else문의 기본구조\u001b[0m\u001b[0;34m\u001b[0m\u001b[0;34m\u001b[0m\u001b[0m\n\u001b[0;32m----> 2\u001b[0;31m \u001b[0;32mif\u001b[0m \u001b[0m조건문\u001b[0m\u001b[0;34m:\u001b[0m \u001b[0;31m# 조건문을 확인해서 만약 '참'이면 if 문 다음에 문장들은 수행합니다.\u001b[0m\u001b[0;34m\u001b[0m\u001b[0;34m\u001b[0m\u001b[0m\n\u001b[0m\u001b[1;32m      3\u001b[0m     \u001b[0;32mpass\u001b[0m\u001b[0;34m\u001b[0m\u001b[0;34m\u001b[0m\u001b[0m\n\u001b[1;32m      4\u001b[0m           \u001b[0;31m# 수행할 문장 1 - 참일 경우에는 수행할 문장 1이 실행\u001b[0m\u001b[0;34m\u001b[0m\u001b[0;34m\u001b[0m\u001b[0m\n\u001b[1;32m      5\u001b[0m \u001b[0;32melse\u001b[0m\u001b[0;34m:\u001b[0m \u001b[0;31m# if문의 조건이 거짓이면 else 문이 실행됩니다. (else에는 조건을 따로 적지 않아도 된다.)\u001b[0m\u001b[0;34m\u001b[0m\u001b[0;34m\u001b[0m\u001b[0m\n",
            "\u001b[0;31mNameError\u001b[0m: name '조건문' is not defined"
          ]
        }
      ]
    },
    {
      "cell_type": "code",
      "source": [
        "# if문이 1개만 있을때는 거짓일때 아무것도 출력이 되지 않게!\n",
        "x = 3\n",
        "y = 1\n",
        "\n",
        "if x > y:\n",
        "    print('첫번째 값이 더 큽니다.') # 참일때만 수행\n"
      ],
      "metadata": {
        "colab": {
          "base_uri": "https://localhost:8080/"
        },
        "id": "B9H5BNda2uSh",
        "outputId": "c5cf37bc-9f39-42cc-a24e-68b68469ac58"
      },
      "execution_count": 13,
      "outputs": [
        {
          "output_type": "stream",
          "name": "stdout",
          "text": [
            "첫번째 값이 더 큽니다.\n"
          ]
        }
      ]
    },
    {
      "cell_type": "code",
      "source": [
        "x = 1\n",
        "y = 3\n",
        "\n",
        "if x > y:\n",
        "    print('첫번째 값이 더 큽니다.')\n",
        "else:\n",
        "    print('두번째 값이 더 크거나 같습니다.') # 거짓일때 수행"
      ],
      "metadata": {
        "id": "lsIWYhBB25zD",
        "colab": {
          "base_uri": "https://localhost:8080/"
        },
        "outputId": "a50ed97a-256d-4c65-dd9d-387928e6e32d"
      },
      "execution_count": 14,
      "outputs": [
        {
          "output_type": "stream",
          "name": "stdout",
          "text": [
            "두번째 값이 더 크거나 같습니다.\n"
          ]
        }
      ]
    },
    {
      "cell_type": "code",
      "source": [
        "# if, elif, else문의 기본구조 (조건이 3개 이상일 경우)\n",
        "# 조건이 늘어나면 elif만 추가하면 된다. if else는 그대로!\n",
        "# elif에는 조건식이 필요하다. 단 다른 조건과 겹치지 않게! (조건을 나누는 중요함)\n",
        "\n",
        "if 조건문: # 조건문을 확인해서 만약 '참'이면 if 문 다음에 문장들은 수행합니다.\n",
        "\t  # 수행할 문장 1\n",
        "    pass\n",
        "elif 추가조건: # if문의 조건이 '참'이 아니라면 elif 문의 조건문이 참이라면 수행한다.\n",
        "\t  # 수행할 문장 2\n",
        "    pass\n",
        "else: # 위 모든 if문, elif문의 조건이 '참'이 아니라면 수행합니다.\n",
        "\t  # 수행할 문장 3\n",
        "    pass"
      ],
      "metadata": {
        "colab": {
          "base_uri": "https://localhost:8080/",
          "height": 248
        },
        "id": "bKE3XGng4Fca",
        "outputId": "7ce477db-8986-4fab-ae26-bd10a682af17"
      },
      "execution_count": 15,
      "outputs": [
        {
          "output_type": "error",
          "ename": "NameError",
          "evalue": "name '조건문' is not defined",
          "traceback": [
            "\u001b[0;31m---------------------------------------------------------------------------\u001b[0m",
            "\u001b[0;31mNameError\u001b[0m                                 Traceback (most recent call last)",
            "\u001b[0;32m<ipython-input-15-5a236d7530d2>\u001b[0m in \u001b[0;36m<cell line: 5>\u001b[0;34m()\u001b[0m\n\u001b[1;32m      3\u001b[0m \u001b[0;31m# elif에는 조건식이 필요하다. 단 다른 조건과 겹치지 않게! (조건을 나누는 중요함)\u001b[0m\u001b[0;34m\u001b[0m\u001b[0;34m\u001b[0m\u001b[0m\n\u001b[1;32m      4\u001b[0m \u001b[0;34m\u001b[0m\u001b[0m\n\u001b[0;32m----> 5\u001b[0;31m \u001b[0;32mif\u001b[0m \u001b[0m조건문\u001b[0m\u001b[0;34m:\u001b[0m \u001b[0;31m# 조건문을 확인해서 만약 '참'이면 if 문 다음에 문장들은 수행합니다.\u001b[0m\u001b[0;34m\u001b[0m\u001b[0;34m\u001b[0m\u001b[0m\n\u001b[0m\u001b[1;32m      6\u001b[0m           \u001b[0;31m# 수행할 문장 1\u001b[0m\u001b[0;34m\u001b[0m\u001b[0;34m\u001b[0m\u001b[0m\n\u001b[1;32m      7\u001b[0m     \u001b[0;32mpass\u001b[0m\u001b[0;34m\u001b[0m\u001b[0;34m\u001b[0m\u001b[0m\n",
            "\u001b[0;31mNameError\u001b[0m: name '조건문' is not defined"
          ]
        }
      ]
    },
    {
      "cell_type": "code",
      "source": [
        "# if, elif, else문의 기본구조\n",
        "\n",
        "if 조건문: # 조건문을 확인해서 만약 '참'이면 if 문 다음에 문장들은 수행합니다.\n",
        "\t  # 수행할 문장 1\n",
        "    pass\n",
        "elif 추가조건: # if문의 조건이 '참'이 아니라면 elif 문의 조건문이 참이라면 수행한다.\n",
        "\t  # 수행할 문장 2\n",
        "    pass\n",
        "elif 추가조건: # if문의 조건이 '참'이 아니라면 elif 문의 조건문이 참이라면 수행한다.\n",
        "\t  # 수행할 문장 2\n",
        "    pass\n",
        "elif 추가조건: # if문의 조건이 '참'이 아니라면 elif 문의 조건문이 참이라면 수행한다.\n",
        "\t  # 수행할 문장 2\n",
        "    pass\n",
        "else: # 위 모든 if문, elif문의 조건이 '참'이 아니라면 수행합니다.\n",
        "\t  # 수행할 문장 3\n",
        "    pass"
      ],
      "metadata": {
        "colab": {
          "base_uri": "https://localhost:8080/",
          "height": 248
        },
        "id": "k09HqWNr4iOC",
        "outputId": "36204778-ffcf-423e-ec4e-7b83b0e8e3de"
      },
      "execution_count": 16,
      "outputs": [
        {
          "output_type": "error",
          "ename": "NameError",
          "evalue": "name '조건문' is not defined",
          "traceback": [
            "\u001b[0;31m---------------------------------------------------------------------------\u001b[0m",
            "\u001b[0;31mNameError\u001b[0m                                 Traceback (most recent call last)",
            "\u001b[0;32m<ipython-input-16-2bfa04d48c9e>\u001b[0m in \u001b[0;36m<cell line: 3>\u001b[0;34m()\u001b[0m\n\u001b[1;32m      1\u001b[0m \u001b[0;31m# if, elif, else문의 기본구조\u001b[0m\u001b[0;34m\u001b[0m\u001b[0;34m\u001b[0m\u001b[0m\n\u001b[1;32m      2\u001b[0m \u001b[0;34m\u001b[0m\u001b[0m\n\u001b[0;32m----> 3\u001b[0;31m \u001b[0;32mif\u001b[0m \u001b[0m조건문\u001b[0m\u001b[0;34m:\u001b[0m \u001b[0;31m# 조건문을 확인해서 만약 '참'이면 if 문 다음에 문장들은 수행합니다.\u001b[0m\u001b[0;34m\u001b[0m\u001b[0;34m\u001b[0m\u001b[0m\n\u001b[0m\u001b[1;32m      4\u001b[0m           \u001b[0;31m# 수행할 문장 1\u001b[0m\u001b[0;34m\u001b[0m\u001b[0;34m\u001b[0m\u001b[0m\n\u001b[1;32m      5\u001b[0m     \u001b[0;32mpass\u001b[0m\u001b[0;34m\u001b[0m\u001b[0;34m\u001b[0m\u001b[0m\n",
            "\u001b[0;31mNameError\u001b[0m: name '조건문' is not defined"
          ]
        }
      ]
    },
    {
      "cell_type": "code",
      "source": [
        "# 성적입력 프로그램 - 기본\n",
        "score = int(input(\"성적을 입력하세요 (0-100): \"))\n",
        "\n",
        "# 잘못된 예 if - 90이상 / elif - 90이하\n",
        "\n",
        "if score >= 90: # 90점 이상일때 A학점\n",
        "    print(\"A\")\n",
        "elif 90 > score >= 80: # 80점 이상 89점 이하 B학점\n",
        "    print(\"B\")\n",
        "elif 80 > score >= 70: # 70점 이상 79점 이하\n",
        "    print(\"C\")\n",
        "elif 70 > score >= 60: # 60점 이상 69점 이하\n",
        "    print(\"D\")\n",
        "else:                  # 59점 이하\n",
        "    print(\"F\")"
      ],
      "metadata": {
        "id": "3ecinfsd6ZLY"
      },
      "execution_count": null,
      "outputs": []
    },
    {
      "cell_type": "code",
      "source": [
        "score = int(input(\"성적을 입력하세요 (0-100): \"))\n",
        "\n",
        "if score >= 90:\n",
        "    print(\"A\")\n",
        "elif score >= 80:\n",
        "    print(\"B\")\n",
        "elif score >= 70:\n",
        "    print(\"C\")\n",
        "elif score >= 60:\n",
        "    print(\"D\")\n",
        "else:\n",
        "    print(\"F\")"
      ],
      "metadata": {
        "id": "aijJRhAKN2Fv"
      },
      "execution_count": null,
      "outputs": []
    },
    {
      "cell_type": "code",
      "source": [
        "# Step 1 : 성적입력 프로그램 - 기본\n",
        "score = int(input(\"성적을 입력하세요 (0-100): \"))"
      ],
      "metadata": {
        "id": "OMxtavJjN2xb"
      },
      "execution_count": null,
      "outputs": []
    },
    {
      "cell_type": "code",
      "source": [
        "# Step 2 : 기본 성적 처리 - A학점\n",
        "if score >= 90: # 90점 이상일때\n",
        "    print(\"A\")\n"
      ],
      "metadata": {
        "id": "VmCkChFxN4Bz"
      },
      "execution_count": null,
      "outputs": []
    },
    {
      "cell_type": "code",
      "source": [
        "# Step 3 : 90점이 아닐때\n",
        "if score >= 90: # 90점 이상일때\n",
        "    print(\"A\")\n",
        "else:\n",
        "    print(\"89점 이하입니다.\")"
      ],
      "metadata": {
        "id": "P7Jlt90jN5Y-"
      },
      "execution_count": null,
      "outputs": []
    },
    {
      "cell_type": "code",
      "source": [
        "# Step 4 : 여러가지 조건을 입력해서 정리\n",
        "\n",
        "# 성적입력 프로그램 - 기본\n",
        "score = int(input(\"성적을 입력하세요 (0-100): \"))\n",
        "\n",
        "# 잘못된 예 if - 90이상 / elif - 90이하\n",
        "\n",
        "if score >= 90: # 90점 이상일때\n",
        "    print(\"A\")\n",
        "elif 90 > score >= 80: # 80점 이상 89점 이하\n",
        "    print(\"B\")\n",
        "elif 80 > score >= 70: # 70점 이상 79점 이하\n",
        "    print(\"C\")\n",
        "elif 70 > score >= 60: # 60점 이상 69점 이하\n",
        "    print(\"D\")\n",
        "else:                  # 59점 이하\n",
        "    print(\"F\")\n",
        "\n",
        "# 테스트를 다양하게 각 케이스(조건) 테스트 수행\n",
        "# 음수, 소수점!"
      ],
      "metadata": {
        "id": "yimlbNanN6o2"
      },
      "execution_count": null,
      "outputs": []
    },
    {
      "cell_type": "code",
      "source": [
        "score = 81\n",
        "money = 0\n",
        "\n",
        "# 1개의 if문 (중첩 조건문)\n",
        "if score >= 90:\n",
        "    money += 1000000\n",
        "elif score >= 80:\n",
        "    money += 100000\n",
        "elif score >= 70:\n",
        "    money += 10000\n",
        "elif score >= 60:\n",
        "    money += 1000\n",
        "else:\n",
        "    money = 0\n",
        "print(money) # 출력: 100000"
      ],
      "metadata": {
        "id": "A0teD4pQN8No"
      },
      "execution_count": null,
      "outputs": []
    },
    {
      "cell_type": "code",
      "source": [
        "score = 81\n",
        "money = 0\n",
        "\n",
        "# 총 4개의 if문!\n",
        "if score >= 90:\n",
        "    money += 1000000\n",
        "\n",
        "if score >= 80:\n",
        "    money += 100000\n",
        "\n",
        "if score >= 70:\n",
        "    money += 10000\n",
        "\n",
        "if score >= 60:\n",
        "    money += 1000\n",
        "else:\n",
        "    money = 0\n",
        "print(money) # 출력: 111000"
      ],
      "metadata": {
        "id": "Wdgx4cdMN8zZ"
      },
      "execution_count": null,
      "outputs": []
    },
    {
      "cell_type": "code",
      "source": [
        "score = 81\n",
        "money = 0\n",
        "\n",
        "if score >= 90:\n",
        "    money += 1000000\n",
        "if 90 > score >= 80:\n",
        "    money += 100000\n",
        "if 80 > score >= 70:\n",
        "    money += 10000\n",
        "if 70 > score >= 60:\n",
        "    money += 1000\n",
        "else:\n",
        "    print(\"용돈이 없다!\")\n",
        "print(money)"
      ],
      "metadata": {
        "id": "ktYGZGntN_uB"
      },
      "execution_count": null,
      "outputs": []
    },
    {
      "cell_type": "markdown",
      "source": [
        "## 2.2 중첩 if-else문"
      ],
      "metadata": {
        "id": "8pg7Yhw_BH7i"
      }
    },
    {
      "cell_type": "code",
      "source": [
        "# if를 중첩해서 사용하기\n",
        "movie = {\n",
        "    '영화': '레미제라블',\n",
        "    '장르': '드라마',\n",
        "    '서비스': '디즈니',\n",
        "    '비용': 15000,\n",
        "    '평점': 4.9\n",
        "}\n",
        "\n",
        "if movie['장르'] == '드라마':\n",
        "    if movie['서비스'] == '디즈니' or movie['서비스'] == '넷플릭스':\n",
        "        if movie['평점'] >= 4.5:\n",
        "            if movie['비용'] <= 20000:\n",
        "                print('영화시청') # 출력: 영화시청"
      ],
      "metadata": {
        "id": "wzY5BPgx_3XP"
      },
      "execution_count": null,
      "outputs": []
    },
    {
      "cell_type": "code",
      "source": [
        "for i in range(2, 10):\n",
        "    print(f'---{i}단---')\n",
        "    for j in range(1, 10):\n",
        "        print(f'{i} X {j} = {i * j}')"
      ],
      "metadata": {
        "id": "CBJ_Q-fNBX9h"
      },
      "execution_count": null,
      "outputs": []
    },
    {
      "cell_type": "markdown",
      "source": [],
      "metadata": {
        "id": "p8DXa0uENZK-"
      }
    }
  ]
}