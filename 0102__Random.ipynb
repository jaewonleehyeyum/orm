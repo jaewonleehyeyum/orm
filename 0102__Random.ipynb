{
  "nbformat": 4,
  "nbformat_minor": 0,
  "metadata": {
    "colab": {
      "provenance": [],
      "authorship_tag": "ABX9TyM60vzioD3HvO9t8/faPzbB",
      "include_colab_link": true
    },
    "kernelspec": {
      "name": "python3",
      "display_name": "Python 3"
    },
    "language_info": {
      "name": "python"
    }
  },
  "cells": [
    {
      "cell_type": "markdown",
      "metadata": {
        "id": "view-in-github",
        "colab_type": "text"
      },
      "source": [
        "<a href=\"https://colab.research.google.com/github/jaewonleehyeyum/orm/blob/main/0102__Random.ipynb\" target=\"_parent\"><img src=\"https://colab.research.google.com/assets/colab-badge.svg\" alt=\"Open In Colab\"/></a>"
      ]
    },
    {
      "cell_type": "markdown",
      "source": [
        "#1. Randrange() 함수\n",
        "randrange(start, stop[, step])\n"
      ],
      "metadata": {
        "id": "98RNB-V00xyl"
      }
    },
    {
      "cell_type": "code",
      "execution_count": null,
      "metadata": {
        "colab": {
          "base_uri": "https://localhost:8080/"
        },
        "id": "_PTE2nAw0sMT",
        "outputId": "ca74fb4a-44b5-40b0-c94e-8899f3e7faaf"
      },
      "outputs": [
        {
          "output_type": "stream",
          "name": "stdout",
          "text": [
            "4\n"
          ]
        }
      ],
      "source": [
        "# 1. 기본 사용법\n",
        "\n",
        "import random\n",
        "'''\n",
        "0~9까지의 임의의 숫자를 선택하는 코드를 작성\n",
        "파이썬의 숫자의 시작은 무조건 0부터\n",
        "10으로 입력하면 -1 즉, 9까지\n",
        "'''\n",
        "num = random.randrange(20) #무조건 0부터 시작\n",
        "print(num)"
      ]
    },
    {
      "cell_type": "code",
      "source": [
        "# 1.2 시작값과 끝값을 지정\n",
        "num_1 = random.randrange(10, 20)\n",
        "num_2 = random.randrange(10, 20)\n",
        "num_3 = random.randrange(10, 20)\n",
        "num_4 = random.randrange(10, 20)\n",
        "num_5 = random.randrange(10, 20)\n",
        "num_6 = random.randrange(10, 20)\n",
        "print(\"오늘의 로또 번호는\",num_1,num_2,num_3,num_4,num_5,num_6)"
      ],
      "metadata": {
        "colab": {
          "base_uri": "https://localhost:8080/"
        },
        "id": "9jhK_4Kh1LF8",
        "outputId": "ecb09c1d-8372-43e7-ebfb-0841f22b3496"
      },
      "execution_count": null,
      "outputs": [
        {
          "output_type": "stream",
          "name": "stdout",
          "text": [
            "오늘의 로또 번호는 11 17 16 10 17 19\n"
          ]
        }
      ]
    },
    {
      "cell_type": "code",
      "source": [
        "# 1.3 간격 설정\n",
        "# 10부터 100까지 숫자 중에서 10의 간격으로 무작위 선택\n",
        "\n",
        "num10_100 = random.randrange(10, 101, 10)\n",
        "print(num10_100)"
      ],
      "metadata": {
        "colab": {
          "base_uri": "https://localhost:8080/"
        },
        "id": "YA5wXHB62LOT",
        "outputId": "892b7587-9314-469a-fbd6-603c8375b46b"
      },
      "execution_count": null,
      "outputs": [
        {
          "output_type": "stream",
          "name": "stdout",
          "text": [
            "90\n"
          ]
        }
      ]
    },
    {
      "cell_type": "code",
      "source": [
        "#1. Choice 기본 사용법\n",
        "#chosen_element = random.choice(sequence)\n",
        "\n",
        "# 리스트에서 무작위 과일 선택\n",
        "# 다양한 정보를 한번에 받아오는 것 = 리스트\n",
        "elements = ['사과', '바나나', '체리']\n",
        "choice_elements = random.choice(elements)\n",
        "print(f'선택된 요소 : {choice_elements} 입니다.')"
      ],
      "metadata": {
        "colab": {
          "base_uri": "https://localhost:8080/"
        },
        "id": "VxxNYPNG3EwS",
        "outputId": "3e84b76b-082d-40af-f238-55c5860af660"
      },
      "execution_count": null,
      "outputs": [
        {
          "output_type": "stream",
          "name": "stdout",
          "text": [
            "선택된 요소 : 바나나 입니다.\n"
          ]
        }
      ]
    },
    {
      "cell_type": "code",
      "source": [
        "# 2. 문자열에서 무작위 문자 선택\n",
        "greeting = \"안녕하세요\"\n",
        "choice_char = random.choice(greeting)\n",
        "print(f\"선택된 문자: {choice_char} 입니다.\")"
      ],
      "metadata": {
        "colab": {
          "base_uri": "https://localhost:8080/"
        },
        "id": "sIodipF486fW",
        "outputId": "0036d414-0663-4413-b6d5-66ab60812576"
      },
      "execution_count": null,
      "outputs": [
        {
          "output_type": "stream",
          "name": "stdout",
          "text": [
            "선택된 문자: 안 입니다.\n"
          ]
        }
      ]
    },
    {
      "cell_type": "code",
      "source": [
        "# 이 코드는 Random 라이브러리를 사용한 예시입니다.\n",
        "import random  # random 라이브러리를 가져옵니다.\n",
        "\n",
        "# 두 개의 무작위 숫자를 생성하는 코드\n",
        "random_number1 = random.randint(1, 10)  #1부터 9까지의 임의의 숫자 한개를 가져옵니다.\n",
        "random_number2 = random.randint(1, 10)  #1부터 9까지의 임의의 숫자 한개를 가져옵니다.\n",
        "\n",
        "# 두 개의 무작위 숫자를 합산하는 코드 / 생성된 두 숫자의 합 계산\n",
        "sum_of_numbers = random_number1 + random_number2\n",
        "\n",
        "# 결과 출력\n",
        "print(f\"첫 번째 생성된 숫자: {random_number1}\")  # 첫번째 생성된 값\n",
        "print(f\"두 번째 생성된 숫자: {random_number2}\")  # 두번째 생성된 값\n",
        "print(f\"두 숫자의 합: {sum_of_numbers}\")         # 두 숫자의 합 출력"
      ],
      "metadata": {
        "id": "kc4bHT2Q9FuA"
      },
      "execution_count": null,
      "outputs": []
    },
    {
      "cell_type": "code",
      "source": [
        "import random # random 라이브러리를 가져옵니다.\n",
        "\n",
        "dice1 = random.randrange(1, 7) # 1부터 7까지의 임의의 숫자 한개를 가져옵니다.\n",
        "dice2 = random.randrange(1, 7) # 1부터 7까지의 임의의 숫자 한개를 가져옵니다.\n",
        "total = dice1 + dice2 # 두 개의 무작위 숫자를 합산하는 코드 / 생성된 두 숫자의 합 계산\n",
        "print(f\"주사위 결과: {dice1} + {dice2} = {total}\") # 두 숫자의 합 출력"
      ],
      "metadata": {
        "colab": {
          "base_uri": "https://localhost:8080/"
        },
        "id": "5dHCRAEeB65w",
        "outputId": "14703974-f95b-4511-d497-7210dabf9e6d"
      },
      "execution_count": null,
      "outputs": [
        {
          "output_type": "stream",
          "name": "stdout",
          "text": [
            "주사위 결과: 2 + 5 = 7\n"
          ]
        }
      ]
    },
    {
      "cell_type": "code",
      "source": [
        "# 던진 결과\n",
        "throw1 = random.choice([0,1])\n",
        "throw2 = random.choice([0,1])\n",
        "throw3 = random.choice([0,1])\n",
        "throw4 = random.choice([0,1])\n",
        "\n",
        "# 뒷면만 합산\n",
        "total_back = throw1 + throw2 + throw3 + throw4\n",
        "\n",
        "# 도 개 걸 윷 모 설정\n",
        "도 = 4\n",
        "개 = 3\n",
        "걸 = 2\n",
        "윷 = 1\n",
        "모 = 0\n",
        "\n",
        "# 윷 결과가 포함된 result 리스트 작성\n",
        "result = ['도','개','걸','윷','모']\n",
        "\n",
        "# 결과 출력\n",
        "print(result[total_back])"
      ],
      "metadata": {
        "id": "4QrL9Jq5CO54",
        "colab": {
          "base_uri": "https://localhost:8080/"
        },
        "outputId": "35e770a0-077a-42e0-9c81-6ed98df7bf91"
      },
      "execution_count": null,
      "outputs": [
        {
          "output_type": "stream",
          "name": "stdout",
          "text": [
            "윷\n"
          ]
        }
      ]
    },
    {
      "cell_type": "code",
      "source": [],
      "metadata": {
        "id": "IMagTpemJdyX"
      },
      "execution_count": null,
      "outputs": []
    }
  ]
}