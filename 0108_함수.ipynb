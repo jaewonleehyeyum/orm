{
  "nbformat": 4,
  "nbformat_minor": 0,
  "metadata": {
    "colab": {
      "provenance": [],
      "authorship_tag": "ABX9TyO0okB1jw/+DJYOpNEYUv+W",
      "include_colab_link": true
    },
    "kernelspec": {
      "name": "python3",
      "display_name": "Python 3"
    },
    "language_info": {
      "name": "python"
    }
  },
  "cells": [
    {
      "cell_type": "markdown",
      "metadata": {
        "id": "view-in-github",
        "colab_type": "text"
      },
      "source": [
        "<a href=\"https://colab.research.google.com/github/jaewonleehyeyum/orm/blob/main/0108_%ED%95%A8%EC%88%98.ipynb\" target=\"_parent\"><img src=\"https://colab.research.google.com/assets/colab-badge.svg\" alt=\"Open In Colab\"/></a>"
      ]
    },
    {
      "cell_type": "markdown",
      "source": [
        "# 함수와 인사하기\n",
        "함수는 모든 프로그래밍의 기본 구성 요소 중 하나입니다. 함수는 특정 작업을 수행하는 코드 블록을 하나의 이름 아래로 모은 것입니다, 이를 통해 함수명을 \"호출\"하여 코드 블록을 실행할 수 있습니다."
      ],
      "metadata": {
        "id": "9z0L8R6VqvsA"
      }
    },
    {
      "cell_type": "code",
      "execution_count": null,
      "metadata": {
        "id": "BFxE_rV4qrdm"
      },
      "outputs": [],
      "source": [
        "def test():\n",
        "\tx = 10\n",
        "\ty = 20\n",
        "\tprint(x, y) # print할수 있는 코드를 만들어서 -> 사용!"
      ]
    },
    {
      "cell_type": "markdown",
      "source": [
        "# 함수를 사용하는 방법"
      ],
      "metadata": {
        "id": "5UOAVrce4-lD"
      }
    },
    {
      "cell_type": "code",
      "source": [
        "#들여쓰기 - 스페이스바 4번 입력 (띄어쓰기)\n",
        "def my_function(): #함수의 정의\n",
        "    print('1') #함수의 본문 시작\n",
        "    print('2')\n",
        "    print('3') #함수의 본문\n",
        "my_function() #함수의 호출"
      ],
      "metadata": {
        "colab": {
          "base_uri": "https://localhost:8080/"
        },
        "id": "p35GGNJpsyPS",
        "outputId": "6773f8ef-70ec-4356-fcfa-464590c14b26"
      },
      "execution_count": null,
      "outputs": [
        {
          "output_type": "stream",
          "name": "stdout",
          "text": [
            "1\n",
            "2\n",
            "3\n"
          ]
        }
      ]
    },
    {
      "cell_type": "code",
      "source": [
        "#2. 들여쓰기\n",
        "def my_function():\n",
        "    print('1') #4칸을 띄우는 것 -> 함수의 본문을 적는 것\n",
        "    print('2')\n",
        "    print('3')\n",
        "\n",
        "# 함수의 실행\n",
        "my_function() #실행을 할때는 def와 :은 필요없다. -> 함수의 본문이 실행 된다."
      ],
      "metadata": {
        "colab": {
          "base_uri": "https://localhost:8080/"
        },
        "id": "ZacTMKsxtpZL",
        "outputId": "98c95732-daf2-4560-f91e-789c4e202686"
      },
      "execution_count": null,
      "outputs": [
        {
          "output_type": "stream",
          "name": "stdout",
          "text": [
            "1\n",
            "2\n",
            "3\n"
          ]
        }
      ]
    },
    {
      "cell_type": "code",
      "source": [
        " print('3')"
      ],
      "metadata": {
        "colab": {
          "base_uri": "https://localhost:8080/"
        },
        "id": "Zzu43Q8OIkUh",
        "outputId": "ca5b8fe7-d263-428b-984a-ccfca8a5f9a7"
      },
      "execution_count": null,
      "outputs": [
        {
          "output_type": "stream",
          "name": "stdout",
          "text": [
            "3\n"
          ]
        }
      ]
    },
    {
      "cell_type": "code",
      "source": [
        "#2. 들여쓰기\n",
        "def my_function():\n",
        "    print('1') #4칸을 띄우는 것 -> 함수의 본문을 적는 것\n",
        "    print('2')\n",
        "\n",
        "\n",
        "print('4') # 함수의 바깥에서 실행된다.\n",
        "print('3')\n",
        "\n",
        "# 함수의 실행\n",
        "my_function() #실행을 할때는 def와 :은 필요없다. -> 함수의 본문이 실행 된다."
      ],
      "metadata": {
        "colab": {
          "base_uri": "https://localhost:8080/"
        },
        "id": "D13uQs4LIncn",
        "outputId": "50d22a85-9a94-47c2-bf7a-109b06819caf"
      },
      "execution_count": null,
      "outputs": [
        {
          "output_type": "stream",
          "name": "stdout",
          "text": [
            "4\n",
            "3\n",
            "1\n",
            "2\n"
          ]
        }
      ]
    },
    {
      "cell_type": "code",
      "source": [
        "#2. 들여쓰기\n",
        "def my_function():\n",
        "    print('1') #4칸을 띄우는 것 -> 함수의 본문을 적는 것\n",
        "    print('2')\n",
        "    print('3')\n",
        "\n",
        "# 함수의 실행\n",
        "my_function() #실행을 할때는 def와 :은 필요없다. -> 함수의 본문이 실행 된다."
      ],
      "metadata": {
        "colab": {
          "base_uri": "https://localhost:8080/"
        },
        "id": "1RhFl5WIIs03",
        "outputId": "0765c0ed-4f88-4e04-d26f-6debea52b7fb"
      },
      "execution_count": null,
      "outputs": [
        {
          "output_type": "stream",
          "name": "stdout",
          "text": [
            "1\n",
            "2\n",
            "3\n"
          ]
        }
      ]
    },
    {
      "cell_type": "code",
      "source": [
        "def function_name(x, y):\n",
        "    z = x + y # z = 10 + 9\n",
        "    return z # z만 가지고서는 출력이 되지 않는다.!\n",
        "\n",
        "# 1. return을 함수 내에 지정하지 않았을때\n",
        "# print(f'function_name(10, 9) = {function_name(10, 9)}')\n",
        "\n",
        "# 2. print()문을 사용하지 않았을 때\n",
        "function_name(10, 9)"
      ],
      "metadata": {
        "colab": {
          "base_uri": "https://localhost:8080/"
        },
        "id": "hCawUt7jIwJY",
        "outputId": "f21457da-c568-4429-808d-dbbfe05c7825"
      },
      "execution_count": null,
      "outputs": [
        {
          "output_type": "execute_result",
          "data": {
            "text/plain": [
              "19"
            ]
          },
          "metadata": {},
          "execution_count": 76
        }
      ]
    },
    {
      "cell_type": "code",
      "source": [
        "print(1 / 0)"
      ],
      "metadata": {
        "id": "6i2-mAfRIzvp"
      },
      "execution_count": null,
      "outputs": []
    },
    {
      "cell_type": "code",
      "source": [
        "def f():\n",
        "    print(1 / 0)\n",
        "\n",
        "print('hello')"
      ],
      "metadata": {
        "id": "OTKqLjCGI2ei"
      },
      "execution_count": null,
      "outputs": []
    },
    {
      "cell_type": "code",
      "source": [
        "#2.1 입력 매개변수가 없고 반환값도 없는 함수\n",
        "def simple_function():\n",
        "    print('hello world')\n",
        "\n",
        "# 함수 호출\n",
        "print(simple_function()) # 함수는 return 값을 찾겠구나!"
      ],
      "metadata": {
        "colab": {
          "base_uri": "https://localhost:8080/"
        },
        "id": "kQgE5_3RI6Ob",
        "outputId": "801c3b57-cb65-43db-e330-474bbf8a1d1b"
      },
      "execution_count": null,
      "outputs": [
        {
          "output_type": "stream",
          "name": "stdout",
          "text": [
            "hello world\n",
            "None\n"
          ]
        }
      ]
    },
    {
      "cell_type": "code",
      "source": [
        "# 2.2 파라미터가 없고, 반환값은 있는 함수\n",
        "def give_me_five():\n",
        "    return 5\n",
        "\n",
        "result = 5 # 비슷한 느낌\n",
        "result = give_me_five() # 할당!\n",
        "print(result) # 출력: 5\n"
      ],
      "metadata": {
        "colab": {
          "base_uri": "https://localhost:8080/"
        },
        "id": "nHgET1c7I7_v",
        "outputId": "bda3b2bc-6e9d-4878-e7e4-66ddccb406de"
      },
      "execution_count": null,
      "outputs": [
        {
          "output_type": "stream",
          "name": "stdout",
          "text": [
            "5\n"
          ]
        }
      ]
    },
    {
      "cell_type": "code",
      "source": [
        "#2.3 입력 매개변수가 있고, 반환 값이 없는 함수\n",
        "\n",
        "def greeting(name):\n",
        "    print(f'Hello, {name}!')\n",
        "\n",
        "# 함수 호출\n",
        "print(greeting('Licat'))"
      ],
      "metadata": {
        "colab": {
          "base_uri": "https://localhost:8080/"
        },
        "id": "MWftbnjfI-eq",
        "outputId": "c9df2fce-1caa-479f-dff3-daba2a4f4fae"
      },
      "execution_count": null,
      "outputs": [
        {
          "output_type": "stream",
          "name": "stdout",
          "text": [
            "Hello, Licat!\n",
            "None\n"
          ]
        }
      ]
    },
    {
      "cell_type": "code",
      "source": [
        "# 2.4 입력 매개변수가 있고, 반환 값이 있는 함수\n",
        "\n",
        "def add_numbers(x, y):\n",
        "    sum = x + y\n",
        "    return sum\n",
        "\n",
        "# 함수 호출\n",
        "result = add_numbers(5, 3)\n",
        "print(result)  # 출력: 8"
      ],
      "metadata": {
        "id": "KsOUGXsJJBQ-",
        "outputId": "26e31d06-4f23-4739-90dd-2bf882a2c162",
        "colab": {
          "base_uri": "https://localhost:8080/"
        }
      },
      "execution_count": null,
      "outputs": [
        {
          "output_type": "stream",
          "name": "stdout",
          "text": [
            "8\n"
          ]
        }
      ]
    },
    {
      "cell_type": "code",
      "source": [
        "print(print('hello'))"
      ],
      "metadata": {
        "id": "2Cz4VwtKJD5h",
        "outputId": "e5805767-5546-4334-afde-0a91ded98024",
        "colab": {
          "base_uri": "https://localhost:8080/"
        }
      },
      "execution_count": null,
      "outputs": [
        {
          "output_type": "stream",
          "name": "stdout",
          "text": [
            "hello\n",
            "None\n"
          ]
        }
      ]
    },
    {
      "cell_type": "code",
      "source": [
        "# 1.3 파라미터의 기본 사용\n",
        "def f(a, b, c):\n",
        "    print(a, b, c)\n",
        "\n",
        "f(100,200,300)\n",
        "f(a=100, b=200, c=300) # 출력: 100 200 300\n",
        "f(c=300, a=100, b=200) # 출력: 100 200 300"
      ],
      "metadata": {
        "id": "fkYCK9ERJGFD",
        "colab": {
          "base_uri": "https://localhost:8080/"
        },
        "outputId": "731b1511-3124-42dc-d04a-82b49c2b27c4"
      },
      "execution_count": 6,
      "outputs": [
        {
          "output_type": "stream",
          "name": "stdout",
          "text": [
            "100 200 300\n",
            "100 200 300\n",
            "100 200 300\n"
          ]
        }
      ]
    },
    {
      "cell_type": "code",
      "source": [
        "# 1.3.2 기본값을 가지는 파라미터\n",
        "\n",
        "def f(a=10, b=20, c=30):\n",
        "    print(a, b, c)\n",
        "\n",
        "f() # 출력: 10 20 30\n",
        "f(100, 10) # 출력: 100 10 30\n",
        "f(a=100, b=200, c=300) # 출력: 100 200 300\n",
        "f(c=300, a=100, b=200) # 출력: 100 200 300"
      ],
      "metadata": {
        "colab": {
          "base_uri": "https://localhost:8080/"
        },
        "id": "u6fBgoZHJZXU",
        "outputId": "83eee8db-57c9-42fa-d7c5-d2f8a0156541"
      },
      "execution_count": 7,
      "outputs": [
        {
          "output_type": "stream",
          "name": "stdout",
          "text": [
            "10 20 30\n",
            "100 10 30\n",
            "100 200 300\n",
            "100 200 300\n"
          ]
        }
      ]
    },
    {
      "cell_type": "code",
      "source": [
        "# 올바른 예\n",
        "def f(a, b=20, c=10):\n",
        "    print(a, b, c)\n",
        "\n",
        "print(f(100, 10)) # 출력: 100 10 10\n",
        "f(a=100, b=200, c=300) # 출력: 100 200 300\n",
        "f(c=300, a=100, b=200) # 출력: 100 200 300"
      ],
      "metadata": {
        "colab": {
          "base_uri": "https://localhost:8080/"
        },
        "id": "5EpcD5OsJbE9",
        "outputId": "651aa597-b5fd-48d6-cc15-fca1e5744af3"
      },
      "execution_count": 8,
      "outputs": [
        {
          "output_type": "stream",
          "name": "stdout",
          "text": [
            "100 10 10\n",
            "None\n",
            "100 200 300\n",
            "100 200 300\n"
          ]
        }
      ]
    },
    {
      "cell_type": "code",
      "source": [
        "# 1.4.1 컨밴션 자료형을 아규먼트로 넣었을 때\n",
        "def add_element(my_list):\n",
        "    my_list.append(1)\n",
        "\n",
        "a = [2, 3, 4]\n",
        "add_element(a)\n",
        "print(a)  # 출력: [2, 3, 4, 1]"
      ],
      "metadata": {
        "colab": {
          "base_uri": "https://localhost:8080/"
        },
        "id": "Nfx-3J93Jc-v",
        "outputId": "a2ae1299-f98d-4a41-de7d-8b04b1c84de6"
      },
      "execution_count": 9,
      "outputs": [
        {
          "output_type": "stream",
          "name": "stdout",
          "text": [
            "[2, 3, 4, 1]\n"
          ]
        }
      ]
    },
    {
      "cell_type": "code",
      "source": [
        "def add_element(my_list):\n",
        "    my_list.append(1)\n",
        "    print(id(my_list)) # 출력: 135115033605760\n",
        "\n",
        "a = [2, 3, 4]\n",
        "add_element(a)\n",
        "print(id(a)) # 출력: 135115033605760\n",
        "print(a)  # 출력: [2, 3, 4, 1]"
      ],
      "metadata": {
        "colab": {
          "base_uri": "https://localhost:8080/"
        },
        "id": "OdeqwWUoJfSW",
        "outputId": "e79434b1-9df7-4554-dfbb-b4aa634d976f"
      },
      "execution_count": 10,
      "outputs": [
        {
          "output_type": "stream",
          "name": "stdout",
          "text": [
            "139443113890624\n",
            "139443113890624\n",
            "[2, 3, 4, 1]\n"
          ]
        }
      ]
    },
    {
      "cell_type": "code",
      "source": [
        "def add_element(my_list):\n",
        "    my_list = 10\n",
        "    print(id(my_list)) # 출력: 135115442078224\n",
        "\n",
        "a = [2, 3, 4]\n",
        "add_element(a)\n",
        "print(id(a)) # 출력: 135115029248768\n",
        "print(a)  # 출력: [2, 3, 4]"
      ],
      "metadata": {
        "colab": {
          "base_uri": "https://localhost:8080/"
        },
        "id": "nfXkP82GJiHu",
        "outputId": "9b5ab9a3-d265-4acc-b631-9ed0afd6d2c7"
      },
      "execution_count": 11,
      "outputs": [
        {
          "output_type": "stream",
          "name": "stdout",
          "text": [
            "139443392528912\n",
            "139443116897152\n",
            "[2, 3, 4]\n"
          ]
        }
      ]
    },
    {
      "cell_type": "code",
      "source": [
        "#1.4.2 권장되지 않는 기본값\n",
        "\n",
        "# 권장하지 않는 방법\n",
        "def append_to_list(value, lst=[]):\n",
        "    lst_update = lst # 추천!\n",
        "    lst.append(value)\n",
        "    return lst # 예상치 못한 결과가 발생할 수 있습니다."
      ],
      "metadata": {
        "id": "CR5mrTfjJkJu"
      },
      "execution_count": 12,
      "outputs": []
    },
    {
      "cell_type": "code",
      "source": [
        "append_to_list(1) # 출력: lst = [1]"
      ],
      "metadata": {
        "colab": {
          "base_uri": "https://localhost:8080/"
        },
        "id": "gxsJw9F5JmaD",
        "outputId": "28be10a8-6a0d-45bd-c2c0-6830ba7d2cb2"
      },
      "execution_count": 13,
      "outputs": [
        {
          "output_type": "execute_result",
          "data": {
            "text/plain": [
              "[1]"
            ]
          },
          "metadata": {},
          "execution_count": 13
        }
      ]
    },
    {
      "cell_type": "code",
      "source": [
        "append_to_list(2) # 출력: [2]?\n",
        "# 출력: [1, 2], 그러나 결과가 [2]가 나올것으로 예상할수도 있습니다."
      ],
      "metadata": {
        "colab": {
          "base_uri": "https://localhost:8080/"
        },
        "id": "IvnwXgx0Jp2x",
        "outputId": "8f599d50-ef60-473c-8969-3dcbd43e7fa2"
      },
      "execution_count": 14,
      "outputs": [
        {
          "output_type": "execute_result",
          "data": {
            "text/plain": [
              "[1, 2]"
            ]
          },
          "metadata": {},
          "execution_count": 14
        }
      ]
    },
    {
      "cell_type": "code",
      "source": [
        "# 권장 방법\n",
        "def append_to_list(value, lst=None):\n",
        "    if lst is None:\n",
        "        lst = []\n",
        "    lst.append(value)\n",
        "    return lst"
      ],
      "metadata": {
        "id": "sGlmT3U4JsRU"
      },
      "execution_count": 15,
      "outputs": []
    },
    {
      "cell_type": "code",
      "source": [
        "\n",
        "append_to_list(1) # 출력: lst = [1]"
      ],
      "metadata": {
        "colab": {
          "base_uri": "https://localhost:8080/"
        },
        "id": "VC0TQEqpJuBl",
        "outputId": "dc12a11b-8677-4662-dc71-ab091d65eb94"
      },
      "execution_count": 16,
      "outputs": [
        {
          "output_type": "execute_result",
          "data": {
            "text/plain": [
              "[1]"
            ]
          },
          "metadata": {},
          "execution_count": 16
        }
      ]
    },
    {
      "cell_type": "code",
      "source": [
        "\n",
        "append_to_list(2) # 출력: lst = [2]"
      ],
      "metadata": {
        "colab": {
          "base_uri": "https://localhost:8080/"
        },
        "id": "QHoMjLG1JvaS",
        "outputId": "da34fda0-50e9-4f0f-c99b-f88bb7bad945"
      },
      "execution_count": 17,
      "outputs": [
        {
          "output_type": "execute_result",
          "data": {
            "text/plain": [
              "[2]"
            ]
          },
          "metadata": {},
          "execution_count": 17
        }
      ]
    },
    {
      "cell_type": "markdown",
      "source": [
        "# 지역변수와 전역변수"
      ],
      "metadata": {
        "id": "3G5T9XBrJwuN"
      }
    },
    {
      "cell_type": "code",
      "source": [
        "# 전역 변수\n",
        "test = 1\n",
        "\n",
        "# 지역 변수 (함수 내에 사용한 변수!)\n",
        "def example():\n",
        "    test = 100\n",
        "    return test\n",
        "\n",
        "print(example())\n",
        "print(test)"
      ],
      "metadata": {
        "colab": {
          "base_uri": "https://localhost:8080/"
        },
        "id": "wvwM0UAfJzEn",
        "outputId": "23126ba6-7291-4014-e05c-cf431031bcfc"
      },
      "execution_count": 18,
      "outputs": [
        {
          "output_type": "stream",
          "name": "stdout",
          "text": [
            "100\n",
            "1\n"
          ]
        }
      ]
    },
    {
      "cell_type": "code",
      "source": [
        "\n",
        "# 지역 변수 사용 예시\n",
        "def f():\n",
        "    # 강원도의 지역화폐는 -> 경기도에서 사용 불가\n",
        "    # 미국 달러는 한국 원으로 대체서 살수없다.\n",
        "    a = 1 # 이 변수는 f() 내에서만 정의! 절대 바깥에서는 사용할 수 없는거죠.\n",
        "    print(a)  # 출력: 1\n",
        "    return a\n",
        "\n",
        "f()\n",
        "a =\n",
        "print(a)  # error: a는 f 함수 내부에서만 정의되었습니다.\n",
        ""
      ],
      "metadata": {
        "colab": {
          "base_uri": "https://localhost:8080/",
          "height": 143
        },
        "id": "cfQkleQqJ1am",
        "outputId": "4c82be49-cbcd-469d-e08e-2cb06218dfc4"
      },
      "execution_count": 19,
      "outputs": [
        {
          "output_type": "error",
          "ename": "SyntaxError",
          "evalue": "invalid syntax (<ipython-input-19-6f8a381f26ac>, line 10)",
          "traceback": [
            "\u001b[0;36m  File \u001b[0;32m\"<ipython-input-19-6f8a381f26ac>\"\u001b[0;36m, line \u001b[0;32m10\u001b[0m\n\u001b[0;31m    a =\u001b[0m\n\u001b[0m       ^\u001b[0m\n\u001b[0;31mSyntaxError\u001b[0m\u001b[0;31m:\u001b[0m invalid syntax\n"
          ]
        }
      ]
    },
    {
      "cell_type": "code",
      "source": [
        "def f():\n",
        "    a = 1 # 지역변수 함수 내에서만 사용가능\n",
        "    b = 100\n",
        "    print(locals()) # 출력: {'a': 1} # 지역변수가 어떤게 있는지 확인\n",
        "\n",
        "f()"
      ],
      "metadata": {
        "id": "qDKuO8O7J43O"
      },
      "execution_count": null,
      "outputs": []
    },
    {
      "cell_type": "code",
      "source": [
        "def f():\n",
        "    a = 1\n",
        "    b = 'hello'\n",
        "    def ff():\n",
        "        pass\n",
        "    print(locals()) # 출력: {'a': 1, 'b': 'hello', 'ff': .ff at 0x7a46e99d2c20>}\n",
        "\n",
        "f()\n",
        ""
      ],
      "metadata": {
        "id": "3Srb1wnWJ5fu"
      },
      "execution_count": null,
      "outputs": []
    },
    {
      "cell_type": "code",
      "source": [
        "# global 함수 전역변수 지정\n",
        "a = 100\n",
        "\n",
        "def f():\n",
        "    global a # 이 구문으로 a를 바깥에서도 사용(전역변수 지정)\n",
        "    a = a + 1\n",
        "    return a\n",
        "\n",
        "print(f()) #101\n",
        "print(a)  #출력: 101, 함수 f 내에서 전역 변수 a가 수정되었습니다."
      ],
      "metadata": {
        "id": "tdfCpRNNJ8vo"
      },
      "execution_count": null,
      "outputs": []
    },
    {
      "cell_type": "code",
      "source": [
        "a = 100\n",
        "\n",
        "def f():\n",
        "    print(a) # 출력: 100\n",
        "\n",
        "f()\n",
        "\n",
        "def ff():\n",
        "    b = a + 1\n",
        "    print(b) # 출력: 101\n",
        "\n",
        "ff()\n",
        ""
      ],
      "metadata": {
        "id": "fFciNOPuJ-LZ"
      },
      "execution_count": null,
      "outputs": []
    },
    {
      "cell_type": "code",
      "source": [
        "a = 100\n",
        "\n",
        "def f():\n",
        "    a = 1000\n",
        "    print(a) # 출력: 1000\n",
        "\n",
        "f()"
      ],
      "metadata": {
        "id": "EiQwavksJ-vV"
      },
      "execution_count": null,
      "outputs": []
    },
    {
      "cell_type": "code",
      "source": [
        "\n",
        "def f():\n",
        "    a = 100\n",
        "    a = a + 1 # error\n",
        "    return a\n",
        "print(f())"
      ],
      "metadata": {
        "id": "QpKxcgSQKAe-"
      },
      "execution_count": null,
      "outputs": []
    },
    {
      "cell_type": "code",
      "source": [
        "a = 100\n",
        "def f():\n",
        "    a = a + 1 # error\n",
        "\n",
        "f()"
      ],
      "metadata": {
        "id": "zbmnEv-_KCCw"
      },
      "execution_count": null,
      "outputs": []
    },
    {
      "cell_type": "markdown",
      "source": [
        "Built in function\n",
        "## 1. all, any\n",
        "- all() 함수는 iterable(반복 가능한) 객체(예: 리스트, 튜플, 문자열 등)를 인수로 받아, 그 안에 있는 모든 요소가 True로 평가되면 True를 반환하고, 그렇지 않으면 False를 반환합니다."
      ],
      "metadata": {
        "id": "YzqvePBsKC-D"
      }
    },
    {
      "cell_type": "code",
      "source": [
        "\n",
        "#1. all, any\n",
        "# all 마치 and와 비슷하다.\n",
        "# 모두 다 True여야 True 반환\n",
        "all([True, True, True]) # 출력: True\n",
        "all([True, True, False]) # 출력: False\n",
        "all([1, 1, 1, 0]) # 출력: False\n",
        "all([1, 0, 1, 1]) # 출력: False\n",
        "all([1, 100, 10, -1]) # 출력: True"
      ],
      "metadata": {
        "id": "nh3IvGkLzEPK"
      },
      "execution_count": null,
      "outputs": []
    },
    {
      "cell_type": "code",
      "source": [
        "\n",
        "all([1, 1, 1, 1]) # 출력: False"
      ],
      "metadata": {
        "id": "HhdTFjKoKVtZ"
      },
      "execution_count": null,
      "outputs": []
    },
    {
      "cell_type": "code",
      "source": [],
      "metadata": {
        "id": "AK9JPzHCKW2e"
      },
      "execution_count": null,
      "outputs": []
    },
    {
      "cell_type": "code",
      "source": [
        "# 하나라도 True이면 True이다. or과 비슷\n",
        "any([True, False, False]) # 출력: True"
      ],
      "metadata": {
        "id": "oi19BJH4KX0a"
      },
      "execution_count": null,
      "outputs": []
    },
    {
      "cell_type": "code",
      "source": [
        "\n",
        "any([False, False, False]) # 출력: False"
      ],
      "metadata": {
        "id": "J5bNOuCAKYvp"
      },
      "execution_count": null,
      "outputs": []
    },
    {
      "cell_type": "markdown",
      "source": [
        "# 2.3 Map 함수\n",
        "- map() 함수는 기존의 리스트(또는 튜플)의 모든 요소에 특정 함수를 적용한 결과를 map 객체 형태로 반환하는 함수입니다. map 객체는 다시 list()를 이용해 리스트 형태로 변환할 수 있습니다."
      ],
      "metadata": {
        "id": "WyNTPDxHKZpT"
      }
    },
    {
      "cell_type": "code",
      "source": [
        "# 첫번째 방법\n",
        "def 제곱(x):\n",
        "    return x ** 2\n",
        "list(map(제곱, [1, 2, 3, 4])) # 출력: [1, 4, 9, 16]"
      ],
      "metadata": {
        "id": "no2cyjMpKdQh"
      },
      "execution_count": null,
      "outputs": []
    },
    {
      "cell_type": "code",
      "source": [
        "[1, 2, 3, 4] * 2"
      ],
      "metadata": {
        "id": "8PWRNlzEKgtu"
      },
      "execution_count": null,
      "outputs": []
    },
    {
      "cell_type": "code",
      "source": [
        "# 첫번째 방법\n",
        "def 제곱(x):\n",
        "    return x ** 2\n",
        "list(map(제곱, [1, 2, 3, 4])) # 출력: [1, 4, 9, 16]\n",
        ""
      ],
      "metadata": {
        "id": "AYlIqttfKiC0"
      },
      "execution_count": null,
      "outputs": []
    },
    {
      "cell_type": "code",
      "source": [
        "\n",
        "# 두번째 방법\n",
        "list(map(lambda x : x ** 2, [1, 2, 3, 4])) # 출력: [1, 4, 9, 16]"
      ],
      "metadata": {
        "id": "HutmDVfKKiu-"
      },
      "execution_count": null,
      "outputs": []
    },
    {
      "cell_type": "markdown",
      "source": [
        "# 2.5 Zip 함수\n",
        "- zip() 함수는 여러 개의 순회 할 수 있는 객체의 요소를 묶어서 반환합니다. 다만 메모리의 효율을 위해 형변환이나 직접 순회를 하기 전까지는 메모리 주소로만 반환합니다."
      ],
      "metadata": {
        "id": "1Jnq7smwKll4"
      }
    },
    {
      "cell_type": "code",
      "source": [
        "\n",
        "# 기본형태 : zip(순회할 수 있는 객체1, 순회할 수 있는 객체2...)\n",
        "\n",
        "list(zip('ab', '12')) # 출력: [('a', '1'), ('b', '2')]"
      ],
      "metadata": {
        "id": "wuTRgsKZKnXg"
      },
      "execution_count": null,
      "outputs": []
    },
    {
      "cell_type": "code",
      "source": [
        "\n",
        "list(zip('ab', '12', [10, 20])) # 출력: [('a', '1', 10), ('b', '2', 20)]"
      ],
      "metadata": {
        "id": "4mt_QhiTKomY"
      },
      "execution_count": null,
      "outputs": []
    },
    {
      "cell_type": "code",
      "source": [
        "list(zip('abcd', '1234567', [10, 20, 30, 40]))\n",
        "# 출력 : [('a', '1', 10), ('b', '2', 20), ('c', '3', 30)]"
      ],
      "metadata": {
        "id": "tFpGrY46KqD1"
      },
      "execution_count": null,
      "outputs": []
    },
    {
      "cell_type": "code",
      "source": [
        "x = [1, 2, 3]\n",
        "y = [1, 4, 9]\n",
        "list(zip(x, y)) # 출력: [(1, 1), (2, 4), (3, 9)]"
      ],
      "metadata": {
        "id": "CYqCN_3MKsOD"
      },
      "execution_count": null,
      "outputs": []
    },
    {
      "cell_type": "code",
      "source": [
        "# 2.10.3 enumerate\n",
        "# index를 자동으로 생성할때 자주 사용\n",
        "\n",
        "# 같은 Key 값으로 묶는다.\n",
        "\n",
        "values = ['A', 'B', 'C', 'D']\n",
        "print(list(enumerate(values)))"
      ],
      "metadata": {
        "id": "x3MZUfYWKs2E"
      },
      "execution_count": null,
      "outputs": []
    },
    {
      "cell_type": "code",
      "source": [
        "\n",
        "values = ['김진환', '이호준', '라이켓', '웅이']\n",
        "print(list(enumerate(values)))"
      ],
      "metadata": {
        "id": "BNa1O_RYKu-z"
      },
      "execution_count": null,
      "outputs": []
    },
    {
      "cell_type": "code",
      "source": [
        "print(list(enumerate(values, 1)))\n",
        "print(list(enumerate(values, 100)))"
      ],
      "metadata": {
        "id": "vhYYZNIZKvbe"
      },
      "execution_count": null,
      "outputs": []
    },
    {
      "cell_type": "code",
      "source": [
        "a = 'pithon'\n",
        "\n",
        "def 함수1():\n",
        "    def 함수2():\n",
        "        print('love')\n",
        "\n",
        "    print('I')\n",
        "    함수2()\n",
        "    return \"python\"\n",
        "\n",
        "\n",
        "a = 함수1()\n",
        "print(a)\n",
        ""
      ],
      "metadata": {
        "id": "44RB9zjiKw9P"
      },
      "execution_count": null,
      "outputs": []
    }
  ]
}