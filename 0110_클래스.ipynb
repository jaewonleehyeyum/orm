{
  "nbformat": 4,
  "nbformat_minor": 0,
  "metadata": {
    "colab": {
      "provenance": [],
      "authorship_tag": "ABX9TyMA/pRVdnbfGN0sr57ZmDvn",
      "include_colab_link": true
    },
    "kernelspec": {
      "name": "python3",
      "display_name": "Python 3"
    },
    "language_info": {
      "name": "python"
    }
  },
  "cells": [
    {
      "cell_type": "markdown",
      "metadata": {
        "id": "view-in-github",
        "colab_type": "text"
      },
      "source": [
        "<a href=\"https://colab.research.google.com/github/jaewonleehyeyum/orm/blob/main/0110_%ED%81%B4%EB%9E%98%EC%8A%A4.ipynb\" target=\"_parent\"><img src=\"https://colab.research.google.com/assets/colab-badge.svg\" alt=\"Open In Colab\"/></a>"
      ]
    },
    {
      "cell_type": "markdown",
      "source": [
        "#1. 클래스"
      ],
      "metadata": {
        "id": "SyjCU60UY_ML"
      }
    },
    {
      "cell_type": "code",
      "execution_count": 6,
      "metadata": {
        "id": "ne1BBx75Y7yh"
      },
      "outputs": [],
      "source": [
        "# 고정된 값을 가지는 클래스 -> 함수랑 다른 점이 없는 클래스\n",
        "\n",
        "class Car: # 차에 설계 도면 또는 차 공장, 클래스 1. 클래스는 대문자로 이름을 설정해야한다.\n",
        "    max_speed = 300 # 멤버 또는 애트리뷰트\n",
        "    max_people = 5\n",
        "    car_gear = ['P', 'D', 'R', 'N']\n",
        "\n",
        "    def start(self): # 메서드\n",
        "        print('차가 출발합니다!')\n",
        "\n",
        "    def stop(self):\n",
        "        print('차가 멈췄습니다!')\n",
        "\n",
        "# 공장에서 생산된 자동차 modelx, y, s, 인스턴스\n",
        "modelx = Car() # 인스턴스 = 클래스()"
      ]
    },
    {
      "cell_type": "code",
      "source": [
        "# 클래스의 장점 -> 클래스 안에 있는 함수의 기능을 가져올 수 있다.\n",
        "print(modelx.max_speed)\n",
        "print(modelx.car_gear[1]) # 도서관에서 책 찾는것처럼 -> 문학 -> 한국문학 -> 비문학"
      ],
      "metadata": {
        "colab": {
          "base_uri": "https://localhost:8080/"
        },
        "id": "ibbe_mtxxPcm",
        "outputId": "2e237d9d-9843-4541-abd8-4ca37f2aa78e"
      },
      "execution_count": 7,
      "outputs": [
        {
          "output_type": "stream",
          "name": "stdout",
          "text": [
            "300\n",
            "D\n"
          ]
        }
      ]
    },
    {
      "cell_type": "code",
      "source": [
        "#self는 무시된다. 함수를 가져올때는 () 꼭 입력한다.\n",
        "models.start()\n",
        "models.stop()"
      ],
      "metadata": {
        "colab": {
          "base_uri": "https://localhost:8080/",
          "height": 213
        },
        "id": "59lfzoCUyX5w",
        "outputId": "d3d88bc8-6a13-471e-e6a2-d8b11386024d"
      },
      "execution_count": 8,
      "outputs": [
        {
          "output_type": "error",
          "ename": "NameError",
          "evalue": "name 'models' is not defined",
          "traceback": [
            "\u001b[0;31m---------------------------------------------------------------------------\u001b[0m",
            "\u001b[0;31mNameError\u001b[0m                                 Traceback (most recent call last)",
            "\u001b[0;32m<ipython-input-8-6bb700a6743a>\u001b[0m in \u001b[0;36m<cell line: 2>\u001b[0;34m()\u001b[0m\n\u001b[1;32m      1\u001b[0m \u001b[0;31m#self는 무시된다. 함수를 가져올때는 () 꼭 입력한다.\u001b[0m\u001b[0;34m\u001b[0m\u001b[0;34m\u001b[0m\u001b[0m\n\u001b[0;32m----> 2\u001b[0;31m \u001b[0mmodels\u001b[0m\u001b[0;34m.\u001b[0m\u001b[0mstart\u001b[0m\u001b[0;34m(\u001b[0m\u001b[0;34m)\u001b[0m\u001b[0;34m\u001b[0m\u001b[0;34m\u001b[0m\u001b[0m\n\u001b[0m\u001b[1;32m      3\u001b[0m \u001b[0mmodels\u001b[0m\u001b[0;34m.\u001b[0m\u001b[0mstop\u001b[0m\u001b[0;34m(\u001b[0m\u001b[0;34m)\u001b[0m\u001b[0;34m\u001b[0m\u001b[0;34m\u001b[0m\u001b[0m\n",
            "\u001b[0;31mNameError\u001b[0m: name 'models' is not defined"
          ]
        }
      ]
    },
    {
      "cell_type": "code",
      "source": [
        "\n",
        "print(models.car_gear[1])\n",
        "models.start()\n",
        "models.stop()"
      ],
      "metadata": {
        "colab": {
          "base_uri": "https://localhost:8080/",
          "height": 213
        },
        "id": "P-bFiVq6yoe5",
        "outputId": "af1c74b7-e342-43c4-a06b-11b490b66938"
      },
      "execution_count": 9,
      "outputs": [
        {
          "output_type": "error",
          "ename": "NameError",
          "evalue": "name 'models' is not defined",
          "traceback": [
            "\u001b[0;31m---------------------------------------------------------------------------\u001b[0m",
            "\u001b[0;31mNameError\u001b[0m                                 Traceback (most recent call last)",
            "\u001b[0;32m<ipython-input-9-57dce757bd93>\u001b[0m in \u001b[0;36m<cell line: 1>\u001b[0;34m()\u001b[0m\n\u001b[0;32m----> 1\u001b[0;31m \u001b[0mprint\u001b[0m\u001b[0;34m(\u001b[0m\u001b[0mmodels\u001b[0m\u001b[0;34m.\u001b[0m\u001b[0mcar_gear\u001b[0m\u001b[0;34m[\u001b[0m\u001b[0;36m1\u001b[0m\u001b[0;34m]\u001b[0m\u001b[0;34m)\u001b[0m\u001b[0;34m\u001b[0m\u001b[0;34m\u001b[0m\u001b[0m\n\u001b[0m\u001b[1;32m      2\u001b[0m \u001b[0mmodels\u001b[0m\u001b[0;34m.\u001b[0m\u001b[0mstart\u001b[0m\u001b[0;34m(\u001b[0m\u001b[0;34m)\u001b[0m\u001b[0;34m\u001b[0m\u001b[0;34m\u001b[0m\u001b[0m\n\u001b[1;32m      3\u001b[0m \u001b[0mmodels\u001b[0m\u001b[0;34m.\u001b[0m\u001b[0mstop\u001b[0m\u001b[0;34m(\u001b[0m\u001b[0;34m)\u001b[0m\u001b[0;34m\u001b[0m\u001b[0;34m\u001b[0m\u001b[0m\n",
            "\u001b[0;31mNameError\u001b[0m: name 'models' is not defined"
          ]
        }
      ]
    },
    {
      "cell_type": "code",
      "source": [
        "modely = Car()\n",
        "models = Car()"
      ],
      "metadata": {
        "id": "7Suw3eIS2vnQ"
      },
      "execution_count": 10,
      "outputs": []
    },
    {
      "cell_type": "code",
      "source": [
        "# Car.max_speed # modelx에 속도를 보고 싶으면 modelx.max_speed를 찍어야 합니다.\n",
        "# 초기 설계는 300으로 찍혀 있지만, 고객이 아래와 같이 자동차 튜닝을 했을 수도 있으니까요.\n",
        "\n",
        "models.max_speed = 500\n",
        "\n",
        "print(models.max_speed) # 직접 클래스 자료에 접근해서 -> 데이터를 변경할수 있다.\n",
        "print(modely.max_speed)"
      ],
      "metadata": {
        "colab": {
          "base_uri": "https://localhost:8080/"
        },
        "id": "rkqwV7T3Gods",
        "outputId": "dc668b5e-1190-4b56-c2d7-e63feb34c713"
      },
      "execution_count": 11,
      "outputs": [
        {
          "output_type": "stream",
          "name": "stdout",
          "text": [
            "500\n",
            "300\n"
          ]
        }
      ]
    },
    {
      "cell_type": "code",
      "source": [
        "def Car(x):\n",
        "    y = x + 1"
      ],
      "metadata": {
        "id": "bFR5yS90PPIj"
      },
      "execution_count": 12,
      "outputs": []
    },
    {
      "cell_type": "code",
      "source": [
        "# x = int(3) 여기서 넣었던 3이라는 값이 어떻게 처리되는지 확인\n",
        "class Car:\n",
        "    max_speed = 300\n",
        "    max_people = 5\n",
        "    car_gear = ['P', 'D', 'R', 'N']\n",
        "    # name = 'Tesla Model X'\n",
        "\n",
        "    def __init__(self, name): # 클래스로 인스턴스를 만들 때 호출!\n",
        "        self.name = name\n",
        "\n",
        "    def start(self):\n",
        "        print('차가 출발합니다!')\n",
        "\n",
        "    def stop(self):\n",
        "        print('차가 멈췄습니다!')\n",
        "\n",
        "modelx = Car('Tesla Model X') # x = int(3) 여기서 넣었던 3이 __init__ 메직메서드에서 처리!\n",
        "modelx.name"
      ],
      "metadata": {
        "colab": {
          "base_uri": "https://localhost:8080/",
          "height": 35
        },
        "id": "oagRCZq5PQQZ",
        "outputId": "58a15487-01e6-45f4-8ca2-5df129798cd1"
      },
      "execution_count": 13,
      "outputs": [
        {
          "output_type": "execute_result",
          "data": {
            "text/plain": [
              "'Tesla Model X'"
            ],
            "application/vnd.google.colaboratory.intrinsic+json": {
              "type": "string"
            }
          },
          "metadata": {},
          "execution_count": 13
        }
      ]
    },
    {
      "cell_type": "code",
      "source": [
        "class Car:\n",
        "    def __init__(self, name, CEO): # 클래스에서 __init__은 붕어빵 틀 중에서 가장 기본 틀!\n",
        "        self.name = name           # self는 인수로 전달받지도 전달하지도 않음 -> Car 클래스 그 자체\n",
        "        self.CEO = CEO             # 위에 꼭 self를 붙여야 self를 사용해서 self.name처럼 사용할 수 있음\n",
        "\n",
        "modelx = Car('Tesla Model X', '일론 머스크') # __init__과 self로 구현된 값은 클래스 할당시 입력자료를 넣을 수 있다.\n",
        "print(modelx.name)                        # 입력을 받을때는 파라미터를 설정해야한다.(name, CEO처럼)\n",
        "print(modelx.CEO)                         # 그러면 modelx처럼 name과 CEO의 데이터를 불러올수 있다."
      ],
      "metadata": {
        "colab": {
          "base_uri": "https://localhost:8080/"
        },
        "id": "KHcRbvM9PRZ0",
        "outputId": "c44a102a-097b-497b-a259-e2490a3f6ab1"
      },
      "execution_count": 14,
      "outputs": [
        {
          "output_type": "stream",
          "name": "stdout",
          "text": [
            "Tesla Model X\n",
            "일론 머스크\n"
          ]
        }
      ]
    },
    {
      "cell_type": "code",
      "source": [
        "class Car:\n",
        "    # 클래스 변수의 위치\n",
        "    max_speed = 300\n",
        "    max_people = 5\n",
        "    car_gear = ['P', 'D', 'R', 'N']\n",
        "\n",
        "\n",
        "modelx = Car()\n",
        "print(Car.max_speed)\n",
        "print(modelx.max_speed)"
      ],
      "metadata": {
        "colab": {
          "base_uri": "https://localhost:8080/"
        },
        "id": "6FxkOaaIPSfp",
        "outputId": "a81af303-2174-4e01-b82e-70493c4a4660"
      },
      "execution_count": 15,
      "outputs": [
        {
          "output_type": "stream",
          "name": "stdout",
          "text": [
            "300\n",
            "300\n"
          ]
        }
      ]
    },
    {
      "cell_type": "code",
      "source": [
        "# 인스턴스 식품!!\n",
        "class Car:\n",
        "    # 클래스 변수의 위치\n",
        "    max_speed = 300\n",
        "    max_people = 5\n",
        "    car_gear = ['P', 'D', 'R', 'N']\n",
        "\n",
        "modelx = Car()\n",
        "modely = Car()"
      ],
      "metadata": {
        "id": "3CLknKvmPTqk"
      },
      "execution_count": 16,
      "outputs": []
    },
    {
      "cell_type": "code",
      "source": [
        "modely.max_speed"
      ],
      "metadata": {
        "colab": {
          "base_uri": "https://localhost:8080/"
        },
        "id": "POqXP3CzPUzy",
        "outputId": "bcb34217-8a00-4a8a-8c12-cfcac892e609"
      },
      "execution_count": 17,
      "outputs": [
        {
          "output_type": "execute_result",
          "data": {
            "text/plain": [
              "300"
            ]
          },
          "metadata": {},
          "execution_count": 17
        }
      ]
    },
    {
      "cell_type": "code",
      "source": [
        "modely.max_speed = 500\n",
        "\n",
        "print(Car.max_speed)\n",
        "print(modelx.max_speed)\n",
        "print(modely.max_speed)"
      ],
      "metadata": {
        "colab": {
          "base_uri": "https://localhost:8080/"
        },
        "id": "YWNCu5IePWAI",
        "outputId": "4b709a8c-14af-408a-89ef-7ef65bfb5a9d"
      },
      "execution_count": 18,
      "outputs": [
        {
          "output_type": "stream",
          "name": "stdout",
          "text": [
            "300\n",
            "300\n",
            "500\n"
          ]
        }
      ]
    },
    {
      "cell_type": "code",
      "source": [
        "class Car:\n",
        "    kinds = []\n",
        "    speed = 300\n",
        "\n",
        "    def add_kinds(self, name):\n",
        "        self.kinds.append(name)\n",
        "\n",
        "    def change_speed(self, speed):\n",
        "        self.speed = speed\n",
        "\n",
        "modelx = Car()\n",
        "modely = Car()\n",
        "\n",
        "modelx.add_kinds('x')\n",
        "modely.add_kinds('y')\n",
        "\n",
        "Car.speed = 100\n",
        "\n",
        "# modelx.change_speed(500)\n",
        "# modely.change_speed(250)\n",
        "\n",
        "print(f'modelx.kinds: {modelx.kinds}')\n",
        "print(f'modely.kinds: {modely.kinds}')\n",
        "print(f'modelx.speed: {modelx.speed}')\n",
        "print(f'modely.speed: {modely.speed}')"
      ],
      "metadata": {
        "colab": {
          "base_uri": "https://localhost:8080/"
        },
        "id": "nXbPpYTTPXU5",
        "outputId": "be37bc74-d6cc-41ab-8981-8afbc2184640"
      },
      "execution_count": 19,
      "outputs": [
        {
          "output_type": "stream",
          "name": "stdout",
          "text": [
            "modelx.kinds: ['x', 'y']\n",
            "modely.kinds: ['x', 'y']\n",
            "modelx.speed: 100\n",
            "modely.speed: 100\n"
          ]
        }
      ]
    },
    {
      "cell_type": "code",
      "source": [
        "class Car:\n",
        "    kinds = []\n",
        "\n",
        "    def add_kinds(self, name):\n",
        "        self.kinds.append(name) #append -> 리스트에(name) nam(임시이름)값을 추가하는!\n",
        "\n",
        "modelx = Car()\n",
        "#여러번 반복!\n",
        "modelx.add_kinds('x')\n",
        "print(modelx.kinds)"
      ],
      "metadata": {
        "colab": {
          "base_uri": "https://localhost:8080/"
        },
        "id": "0w1A7IbMPYmh",
        "outputId": "6aca013e-afb0-419a-ffd5-6fac435bb867"
      },
      "execution_count": 20,
      "outputs": [
        {
          "output_type": "stream",
          "name": "stdout",
          "text": [
            "['x']\n"
          ]
        }
      ]
    },
    {
      "cell_type": "code",
      "source": [
        "#Car()와 modelx는 분리되어있다.! 그게 아닐수도 있다.\n",
        "#왜냐하면 self라는 것때문에"
      ],
      "metadata": {
        "id": "9A_gVY0OPZ5a"
      },
      "execution_count": 21,
      "outputs": []
    },
    {
      "cell_type": "code",
      "source": [
        "print(modelx.kinds)"
      ],
      "metadata": {
        "colab": {
          "base_uri": "https://localhost:8080/"
        },
        "id": "LsyNtAJ9PbGh",
        "outputId": "2a0d9aec-0338-4e3f-f5c6-82be719db301"
      },
      "execution_count": 22,
      "outputs": [
        {
          "output_type": "stream",
          "name": "stdout",
          "text": [
            "['x']\n"
          ]
        }
      ]
    },
    {
      "cell_type": "code",
      "source": [
        "#Self는 Car라는 클래스 그 자체"
      ],
      "metadata": {
        "id": "_DSPhhqcPciN"
      },
      "execution_count": 23,
      "outputs": []
    },
    {
      "cell_type": "code",
      "source": [
        "modelx.add_kinds('x')\n",
        "print(modelx.kinds)"
      ],
      "metadata": {
        "colab": {
          "base_uri": "https://localhost:8080/"
        },
        "id": "P2OpPD0vPdgS",
        "outputId": "145fefd5-9ea0-460a-d947-947a067f5c0f"
      },
      "execution_count": 24,
      "outputs": [
        {
          "output_type": "stream",
          "name": "stdout",
          "text": [
            "['x', 'x']\n"
          ]
        }
      ]
    },
    {
      "cell_type": "code",
      "source": [
        "print(Car.kinds)"
      ],
      "metadata": {
        "colab": {
          "base_uri": "https://localhost:8080/"
        },
        "id": "OgG8q5vdPemM",
        "outputId": "aadb5221-9a78-493a-daad-3bc3d7924814"
      },
      "execution_count": 25,
      "outputs": [
        {
          "output_type": "stream",
          "name": "stdout",
          "text": [
            "['x', 'x']\n"
          ]
        }
      ]
    },
    {
      "cell_type": "code",
      "source": [
        "\n",
        "modelx.kinds"
      ],
      "metadata": {
        "colab": {
          "base_uri": "https://localhost:8080/"
        },
        "id": "4h0ShgRPPf1R",
        "outputId": "808192d8-5ca1-4e5b-947c-4491eae0fea7"
      },
      "execution_count": 26,
      "outputs": [
        {
          "output_type": "execute_result",
          "data": {
            "text/plain": [
              "['x', 'x']"
            ]
          },
          "metadata": {},
          "execution_count": 26
        }
      ]
    },
    {
      "cell_type": "code",
      "source": [
        "Car.speed = 100"
      ],
      "metadata": {
        "id": "u9zReiOXPhTj"
      },
      "execution_count": 27,
      "outputs": []
    },
    {
      "cell_type": "code",
      "source": [
        "modelx.change_speed(500)"
      ],
      "metadata": {
        "colab": {
          "base_uri": "https://localhost:8080/",
          "height": 178
        },
        "id": "-cpRXJoqPiep",
        "outputId": "70215c2c-5a3d-4b97-e56b-4687bc2a47b7"
      },
      "execution_count": 28,
      "outputs": [
        {
          "output_type": "error",
          "ename": "AttributeError",
          "evalue": "'Car' object has no attribute 'change_speed'",
          "traceback": [
            "\u001b[0;31m---------------------------------------------------------------------------\u001b[0m",
            "\u001b[0;31mAttributeError\u001b[0m                            Traceback (most recent call last)",
            "\u001b[0;32m<ipython-input-28-d9af4bd6b9c6>\u001b[0m in \u001b[0;36m<cell line: 1>\u001b[0;34m()\u001b[0m\n\u001b[0;32m----> 1\u001b[0;31m \u001b[0mmodelx\u001b[0m\u001b[0;34m.\u001b[0m\u001b[0mchange_speed\u001b[0m\u001b[0;34m(\u001b[0m\u001b[0;36m500\u001b[0m\u001b[0;34m)\u001b[0m\u001b[0;34m\u001b[0m\u001b[0;34m\u001b[0m\u001b[0m\n\u001b[0m",
            "\u001b[0;31mAttributeError\u001b[0m: 'Car' object has no attribute 'change_speed'"
          ]
        }
      ]
    },
    {
      "cell_type": "code",
      "source": [
        "print(f'modelx.kinds: {modelx.kinds}')\n",
        "print(f'modelx.speed: {modelx.speed}')"
      ],
      "metadata": {
        "colab": {
          "base_uri": "https://localhost:8080/"
        },
        "id": "BOipc3RRPjoC",
        "outputId": "368c848c-bb6d-42d2-a5f7-e8d9cc2d3d74"
      },
      "execution_count": 29,
      "outputs": [
        {
          "output_type": "stream",
          "name": "stdout",
          "text": [
            "modelx.kinds: ['x', 'x']\n",
            "modelx.speed: 100\n"
          ]
        }
      ]
    },
    {
      "cell_type": "code",
      "source": [
        "modely = Car()"
      ],
      "metadata": {
        "id": "0s-J1rbaPk7W"
      },
      "execution_count": 30,
      "outputs": []
    },
    {
      "cell_type": "code",
      "source": [
        "modely.add_kinds('y')"
      ],
      "metadata": {
        "id": "ypIsm4HgPmBx"
      },
      "execution_count": 31,
      "outputs": []
    },
    {
      "cell_type": "code",
      "source": [
        "print(f'modely.kinds: {modely.kinds}')"
      ],
      "metadata": {
        "colab": {
          "base_uri": "https://localhost:8080/"
        },
        "id": "mLkeIRc3PnF5",
        "outputId": "4453bcfd-fca4-48a8-9895-9a0a4fd1a519"
      },
      "execution_count": 32,
      "outputs": [
        {
          "output_type": "stream",
          "name": "stdout",
          "text": [
            "modely.kinds: ['x', 'x', 'y']\n"
          ]
        }
      ]
    },
    {
      "cell_type": "code",
      "source": [
        "class Car:\n",
        "    kinds = []\n",
        "    speed = 300\n",
        "\n",
        "    def add_kinds(self, name):\n",
        "        self.kinds.append(name) #Car - modelx - modely가 공유\n",
        "\n",
        "    def change_speed(self, speed):\n",
        "        self.speed = speed #왜 따로?????\n",
        "\n",
        "modelx = Car()\n",
        "modely = Car()\n",
        "\n",
        "# Car.speed = 100\n",
        "\n",
        "modelx.change_speed(500)\n",
        "modely.change_speed(250)\n",
        "\n",
        "print(f'modelx.speed: {modelx.speed}')\n",
        "print(f'modely.speed: {modely.speed}')"
      ],
      "metadata": {
        "colab": {
          "base_uri": "https://localhost:8080/"
        },
        "id": "3wmDxL-sPoS2",
        "outputId": "06160c8d-1abb-41f3-d4d4-d042b8bde038"
      },
      "execution_count": 33,
      "outputs": [
        {
          "output_type": "stream",
          "name": "stdout",
          "text": [
            "modelx.speed: 500\n",
            "modely.speed: 250\n"
          ]
        }
      ]
    },
    {
      "cell_type": "code",
      "source": [
        "Car.speed"
      ],
      "metadata": {
        "colab": {
          "base_uri": "https://localhost:8080/"
        },
        "id": "2pntn5ehPpdx",
        "outputId": "1366d4ad-2ebc-467b-bf14-f288f8001fa9"
      },
      "execution_count": 34,
      "outputs": [
        {
          "output_type": "execute_result",
          "data": {
            "text/plain": [
              "300"
            ]
          },
          "metadata": {},
          "execution_count": 34
        }
      ]
    },
    {
      "cell_type": "code",
      "source": [
        "speed = 300 # 전역변수 speed 300\n",
        "\n",
        "def change_speed(value):\n",
        "    speed = value # 지역변수 speed\n",
        "\n",
        "change_speed(100)\n",
        "print(speed) # 출력: 300"
      ],
      "metadata": {
        "colab": {
          "base_uri": "https://localhost:8080/"
        },
        "id": "KgcJb3llPqqR",
        "outputId": "ebe886b7-bc90-4240-bc06-3735c176d0f1"
      },
      "execution_count": 35,
      "outputs": [
        {
          "output_type": "stream",
          "name": "stdout",
          "text": [
            "300\n"
          ]
        }
      ]
    },
    {
      "cell_type": "code",
      "source": [
        "speed = 300 # 전역변수 speed 300\n",
        "\n",
        "def change_speed(value):\n",
        "    speed = value # 지역변수 speed\n",
        "    return speed\n",
        "\n",
        "speed_def = change_speed(100)\n",
        "print(speed) # 출력: 300\n",
        "print(speed_def)"
      ],
      "metadata": {
        "colab": {
          "base_uri": "https://localhost:8080/"
        },
        "id": "-bNjj4nzPro6",
        "outputId": "f7b4e3ae-697a-473f-9e63-b68f4aa68c23"
      },
      "execution_count": 36,
      "outputs": [
        {
          "output_type": "stream",
          "name": "stdout",
          "text": [
            "300\n",
            "100\n"
          ]
        }
      ]
    },
    {
      "cell_type": "code",
      "source": [
        "class Car:\n",
        "    speed = 300\n",
        "\n",
        "    def change_speed(self, speed):\n",
        "        self.speed = speed\n",
        "\n",
        "modelx = Car()\n",
        "modely = Car()"
      ],
      "metadata": {
        "id": "-aBBCNtlPs1x"
      },
      "execution_count": 37,
      "outputs": []
    },
    {
      "cell_type": "code",
      "source": [
        "class Car:\n",
        "    speed = 300\n",
        "\n",
        "    def change_speed(self, speed):\n",
        "        self.speed = speed\n",
        "\n",
        "modelx = Car()\n",
        "modely = Car()\n",
        "\n",
        "Car.speed = 100\n",
        "\n",
        "modelx.change_speed(500)\n",
        "modely.change_speed(250)\n",
        "\n",
        "print(f'modelx.speed: {modelx.speed}')\n",
        "print(f'modely.speed: {modely.speed}')"
      ],
      "metadata": {
        "colab": {
          "base_uri": "https://localhost:8080/"
        },
        "id": "XtU66xY2PuWS",
        "outputId": "259accdb-61e9-406b-d975-c90b1797ca49"
      },
      "execution_count": 38,
      "outputs": [
        {
          "output_type": "stream",
          "name": "stdout",
          "text": [
            "modelx.speed: 500\n",
            "modely.speed: 250\n"
          ]
        }
      ]
    },
    {
      "cell_type": "code",
      "source": [
        "for i in range(10)\n",
        "    print(i)"
      ],
      "metadata": {
        "colab": {
          "base_uri": "https://localhost:8080/",
          "height": 143
        },
        "id": "dnfX3lDUPvps",
        "outputId": "79f66065-3f81-4339-a07d-a6b23ea5d354"
      },
      "execution_count": 39,
      "outputs": [
        {
          "output_type": "error",
          "ename": "SyntaxError",
          "evalue": "expected ':' (<ipython-input-39-7a8a49ad5eea>, line 1)",
          "traceback": [
            "\u001b[0;36m  File \u001b[0;32m\"<ipython-input-39-7a8a49ad5eea>\"\u001b[0;36m, line \u001b[0;32m1\u001b[0m\n\u001b[0;31m    for i in range(10)\u001b[0m\n\u001b[0m                      ^\u001b[0m\n\u001b[0;31mSyntaxError\u001b[0m\u001b[0;31m:\u001b[0m expected ':'\n"
          ]
        }
      ]
    },
    {
      "cell_type": "code",
      "source": [
        "print(x)"
      ],
      "metadata": {
        "id": "uixgVZWOPwpo"
      },
      "execution_count": null,
      "outputs": []
    },
    {
      "cell_type": "code",
      "source": [
        "# Type Error\n",
        "x = 10\n",
        "y = '20'\n",
        "print(x + y)"
      ],
      "metadata": {
        "id": "gbiSidg8Pyfk"
      },
      "execution_count": null,
      "outputs": []
    },
    {
      "cell_type": "code",
      "source": [
        "float('1.4')"
      ],
      "metadata": {
        "id": "hAO0GYI5Pzyy"
      },
      "execution_count": null,
      "outputs": []
    },
    {
      "cell_type": "markdown",
      "source": [
        "#2. 예외처리"
      ],
      "metadata": {
        "id": "9L8idjSWP3Ca"
      }
    },
    {
      "cell_type": "code",
      "source": [
        "\n",
        "def test():\n",
        "    코드1\n",
        "    코드2\n",
        "\n",
        "    s = 1/0\n",
        "\n",
        "    코드3\n",
        "    코드4\n",
        "\n",
        "    ...\n",
        "\n",
        "    코드100\n",
        "    return output"
      ],
      "metadata": {
        "id": "iL09fLaiP4mi"
      },
      "execution_count": null,
      "outputs": []
    },
    {
      "cell_type": "code",
      "source": [
        "try:\n",
        "    # 예외가 발생할 가능성이 있는 코드\n",
        "except:\n",
        "    # 예외 처리 코드"
      ],
      "metadata": {
        "id": "eVgpbCCfP67b"
      },
      "execution_count": null,
      "outputs": []
    },
    {
      "cell_type": "code",
      "source": [
        "try:\n",
        "    s = 1/0\n",
        "    print(s)\n",
        "except:\n",
        "    print('error가 발생되었습니다!')"
      ],
      "metadata": {
        "id": "HKn9AS2SP8eM"
      },
      "execution_count": null,
      "outputs": []
    },
    {
      "cell_type": "code",
      "source": [
        "try:\n",
        "    s = 1/0\n",
        "    print(s)\n",
        "except ZeroDivisionError:\n",
        "    print('0으로 나누어졌습니다!')"
      ],
      "metadata": {
        "id": "qAFUsz4HP82r"
      },
      "execution_count": null,
      "outputs": []
    },
    {
      "cell_type": "code",
      "source": [
        "try:\n",
        "    s = 1/1 # 0에서 1로 값을 바꾸었습니다.\n",
        "    print(s)\n",
        "    l = [1, 2, 3]\n",
        "    print(l[3])\n",
        "except ZeroDivisionError:\n",
        "    print('0으로 나누어졌습니다!')\n",
        "except:\n",
        "    print('오류가 났습니다!')"
      ],
      "metadata": {
        "id": "-T0ojs4LP-pX"
      },
      "execution_count": null,
      "outputs": []
    },
    {
      "cell_type": "code",
      "source": [
        "try: # 문장\n",
        "    i = 1\n",
        "    j = 1\n",
        "    x = i/j\n",
        "except: # 오류가 났을때\n",
        "    print(\"error\")\n",
        "else: #오류가 안났을때\n",
        "    print(x)\n",
        "finally: #무조건 출력!\n",
        "    print(\"무조건 출력됩니다.\")"
      ],
      "metadata": {
        "id": "Votb8vfXQAQM"
      },
      "execution_count": null,
      "outputs": []
    },
    {
      "cell_type": "code",
      "source": [
        "test = 'hello'\n",
        "\n",
        "assert test == 'hello', '애러 메시지 1' #1\n",
        "#assert test == 'world', '애러 메시지 2' #2\n",
        "assert test + 3 == 5, '애러 메시지 3' #3"
      ],
      "metadata": {
        "id": "d5ohRM_gQBlK"
      },
      "execution_count": null,
      "outputs": []
    },
    {
      "cell_type": "code",
      "source": [
        "\n",
        "raise ValueError\n",
        "raise ValueError('코드를 잘~~ 만들어주세요.')"
      ],
      "metadata": {
        "id": "WsiwVkM7QC0a"
      },
      "execution_count": null,
      "outputs": []
    }
  ]
}