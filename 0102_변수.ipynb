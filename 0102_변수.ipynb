{
  "nbformat": 4,
  "nbformat_minor": 0,
  "metadata": {
    "colab": {
      "provenance": [],
      "authorship_tag": "ABX9TyMGMTCiMJkL+dnKtA3dJAG7",
      "include_colab_link": true
    },
    "kernelspec": {
      "name": "python3",
      "display_name": "Python 3"
    },
    "language_info": {
      "name": "python"
    }
  },
  "cells": [
    {
      "cell_type": "markdown",
      "metadata": {
        "id": "view-in-github",
        "colab_type": "text"
      },
      "source": [
        "<a href=\"https://colab.research.google.com/github/jaewonleehyeyum/orm/blob/main/0102_%EB%B3%80%EC%88%98.ipynb\" target=\"_parent\"><img src=\"https://colab.research.google.com/assets/colab-badge.svg\" alt=\"Open In Colab\"/></a>"
      ]
    },
    {
      "cell_type": "code",
      "execution_count": null,
      "metadata": {
        "colab": {
          "base_uri": "https://localhost:8080/"
        },
        "id": "HXacbyuSmk62",
        "outputId": "bc2e43b4-05c7-4b88-8cb7-361101787317"
      },
      "outputs": [
        {
          "output_type": "stream",
          "name": "stdout",
          "text": [
            "<class 'int'>\n",
            "['__abs__', '__add__', '__and__', '__bool__', '__ceil__', '__class__', '__delattr__', '__dir__', '__divmod__', '__doc__', '__eq__', '__float__', '__floor__', '__floordiv__', '__format__', '__ge__', '__getattribute__', '__getnewargs__', '__gt__', '__hash__', '__index__', '__init__', '__init_subclass__', '__int__', '__invert__', '__le__', '__lshift__', '__lt__', '__mod__', '__mul__', '__ne__', '__neg__', '__new__', '__or__', '__pos__', '__pow__', '__radd__', '__rand__', '__rdivmod__', '__reduce__', '__reduce_ex__', '__repr__', '__rfloordiv__', '__rlshift__', '__rmod__', '__rmul__', '__ror__', '__round__', '__rpow__', '__rrshift__', '__rshift__', '__rsub__', '__rtruediv__', '__rxor__', '__setattr__', '__sizeof__', '__str__', '__sub__', '__subclasshook__', '__truediv__', '__trunc__', '__xor__', 'as_integer_ratio', 'bit_count', 'bit_length', 'conjugate', 'denominator', 'from_bytes', 'imag', 'numerator', 'real', 'to_bytes']\n"
          ]
        }
      ],
      "source": [
        "# 1. 변수의 속성 확인\n",
        "\n",
        "x = 10\n",
        "print(type(x))\n",
        "print(dir(x))\n"
      ]
    },
    {
      "cell_type": "code",
      "source": [
        "# 변수 재할당\n",
        "x = 10\n",
        "print(x)\n",
        "\n",
        "x = 20\n",
        "print(x)"
      ],
      "metadata": {
        "colab": {
          "base_uri": "https://localhost:8080/"
        },
        "id": "wZ9QP_jwn3Hs",
        "outputId": "848df35b-b800-4fc4-d079-c92b4851ba7d"
      },
      "execution_count": null,
      "outputs": [
        {
          "output_type": "stream",
          "name": "stdout",
          "text": [
            "10\n",
            "20\n"
          ]
        }
      ]
    },
    {
      "cell_type": "code",
      "source": [
        "# 변수 삭제\n",
        "x = 10\n",
        "print(x)\n"
      ],
      "metadata": {
        "colab": {
          "base_uri": "https://localhost:8080/"
        },
        "id": "uunyP400n7j4",
        "outputId": "60335ab1-13cc-453b-e6fc-0e7dad5fd55e"
      },
      "execution_count": null,
      "outputs": [
        {
          "output_type": "stream",
          "name": "stdout",
          "text": [
            "10\n"
          ]
        }
      ]
    },
    {
      "cell_type": "code",
      "source": [
        "del x"
      ],
      "metadata": {
        "id": "6emiiXzToSj-"
      },
      "execution_count": null,
      "outputs": []
    },
    {
      "cell_type": "code",
      "source": [
        "# id(x), id(y)에 대해서\n",
        "\n",
        "x = 256\n",
        "y = 256\n",
        "\n",
        "print(x,y)"
      ],
      "metadata": {
        "colab": {
          "base_uri": "https://localhost:8080/"
        },
        "id": "La-TjsDzoU73",
        "outputId": "be559e21-00ee-405e-ec79-efdd4bf1429b"
      },
      "execution_count": null,
      "outputs": [
        {
          "output_type": "stream",
          "name": "stdout",
          "text": [
            "256 256\n"
          ]
        }
      ]
    },
    {
      "cell_type": "code",
      "source": [
        "print(x == y)"
      ],
      "metadata": {
        "colab": {
          "base_uri": "https://localhost:8080/"
        },
        "id": "s4bZod8pz-Xt",
        "outputId": "8a7ce453-0dc4-4b81-ef30-c4868a0179ee"
      },
      "execution_count": null,
      "outputs": [
        {
          "output_type": "stream",
          "name": "stdout",
          "text": [
            "True\n"
          ]
        }
      ]
    },
    {
      "cell_type": "code",
      "source": [
        "print(x is y)"
      ],
      "metadata": {
        "colab": {
          "base_uri": "https://localhost:8080/"
        },
        "id": "ZBuxBa2D0JuT",
        "outputId": "9a31b778-786a-4c60-9cee-e411e53b1eb3"
      },
      "execution_count": null,
      "outputs": [
        {
          "output_type": "stream",
          "name": "stdout",
          "text": [
            "True\n"
          ]
        }
      ]
    },
    {
      "cell_type": "code",
      "source": [
        "print(id(x), id(y))"
      ],
      "metadata": {
        "colab": {
          "base_uri": "https://localhost:8080/"
        },
        "id": "Yu-3DNfy0C0z",
        "outputId": "74dff7d3-751b-41e2-d211-c1d24890cfa6"
      },
      "execution_count": null,
      "outputs": [
        {
          "output_type": "stream",
          "name": "stdout",
          "text": [
            "132553636002672 132553636003600\n"
          ]
        }
      ]
    },
    {
      "cell_type": "code",
      "source": [
        "# id(x), id(y)에 대해서\n",
        "# -5 ~ 256\n",
        "\n",
        "x = 257\n",
        "y = 257\n",
        "\n",
        "print(x,y)"
      ],
      "metadata": {
        "colab": {
          "base_uri": "https://localhost:8080/"
        },
        "id": "4L8qSdVc0MNL",
        "outputId": "dd0878f7-61dc-4ba1-c302-79d1d4eea489"
      },
      "execution_count": null,
      "outputs": [
        {
          "output_type": "stream",
          "name": "stdout",
          "text": [
            "257 257\n"
          ]
        }
      ]
    },
    {
      "cell_type": "code",
      "source": [
        "print(id(x), id(y))"
      ],
      "metadata": {
        "colab": {
          "base_uri": "https://localhost:8080/"
        },
        "id": "Ozbu9XZ80is1",
        "outputId": "14963947-6d3b-4b9c-ddbe-0621e78ddbdc"
      },
      "execution_count": null,
      "outputs": [
        {
          "output_type": "stream",
          "name": "stdout",
          "text": [
            "132553636002672 132553636003600\n"
          ]
        }
      ]
    },
    {
      "cell_type": "code",
      "source": [
        "# 부동소수점의 문제\n",
        "x_test = 10.1\n",
        "y_test = 10.2\n",
        "print(x_test + y_test)"
      ],
      "metadata": {
        "colab": {
          "base_uri": "https://localhost:8080/"
        },
        "id": "1-upAi7x0yxc",
        "outputId": "ef59723a-2eb0-49bf-e8fb-e67ed864c6c4"
      },
      "execution_count": null,
      "outputs": [
        {
          "output_type": "stream",
          "name": "stdout",
          "text": [
            "20.299999999999997\n"
          ]
        }
      ]
    },
    {
      "cell_type": "code",
      "source": [
        "# 부동소수점의 문제\n",
        "x_test = 0.1\n",
        "y_test = 0.2\n",
        "print(x_test + y_test)"
      ],
      "metadata": {
        "colab": {
          "base_uri": "https://localhost:8080/"
        },
        "id": "rYCSsbsc360b",
        "outputId": "1eca4da1-e12a-4db9-c36f-3df679968ee5"
      },
      "execution_count": null,
      "outputs": [
        {
          "output_type": "stream",
          "name": "stdout",
          "text": [
            "0.30000000000000004\n"
          ]
        }
      ]
    },
    {
      "cell_type": "code",
      "source": [
        "# 복소수 출력\n",
        "x1 = 3 + 4j\n",
        "x2 = complex(3, 4)\n",
        "\n",
        "print(x1, x2)\n",
        "print(type(x1),type(x2))"
      ],
      "metadata": {
        "colab": {
          "base_uri": "https://localhost:8080/"
        },
        "id": "FiZUWV1m4MAz",
        "outputId": "e7467044-2b10-40da-f580-22628490c680"
      },
      "execution_count": null,
      "outputs": [
        {
          "output_type": "stream",
          "name": "stdout",
          "text": [
            "(3+4j) (3+4j)\n",
            "<class 'complex'> <class 'complex'>\n"
          ]
        }
      ]
    },
    {
      "cell_type": "code",
      "source": [
        "# 복소수의 실수부분 출력\n",
        "x = 3 + 4j\n",
        "print(x.real) # 출력 : 3.0"
      ],
      "metadata": {
        "colab": {
          "base_uri": "https://localhost:8080/"
        },
        "id": "41WQLqyb6MnD",
        "outputId": "37dbdb93-d72b-4348-d162-f42ea6394fc6"
      },
      "execution_count": null,
      "outputs": [
        {
          "output_type": "stream",
          "name": "stdout",
          "text": [
            "3.0\n"
          ]
        }
      ]
    },
    {
      "cell_type": "code",
      "source": [
        "x = 3 + 4j\n",
        "print(x.imag) # 출력 : 4.0"
      ],
      "metadata": {
        "colab": {
          "base_uri": "https://localhost:8080/"
        },
        "id": "ZVhdDKpS6iwa",
        "outputId": "68313d1e-eb60-4e1a-9d44-b49dd1762498"
      },
      "execution_count": null,
      "outputs": [
        {
          "output_type": "stream",
          "name": "stdout",
          "text": [
            "4.0\n"
          ]
        }
      ]
    },
    {
      "cell_type": "code",
      "source": [],
      "metadata": {
        "id": "y8OHD0ij6mC6"
      },
      "execution_count": null,
      "outputs": []
    }
  ]
}